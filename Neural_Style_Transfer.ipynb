{
  "nbformat": 4,
  "nbformat_minor": 0,
  "metadata": {
    "colab": {
      "name": "Neural_Style_Transfer.ipynb",
      "version": "0.3.2",
      "provenance": [],
      "collapsed_sections": [],
      "toc_visible": true,
      "include_colab_link": true
    },
    "kernelspec": {
      "name": "python3",
      "display_name": "Python 3"
    }
  },
  "cells": [
    {
      "cell_type": "markdown",
      "metadata": {
        "id": "view-in-github",
        "colab_type": "text"
      },
      "source": [
        "<a href=\"https://colab.research.google.com/github/llA-Wilsonll/Neural_Style_Transfer/blob/master/Neural_Style_Transfer.ipynb\" target=\"_parent\"><img src=\"https://colab.research.google.com/assets/colab-badge.svg\" alt=\"Open In Colab\"/></a>"
      ]
    },
    {
      "cell_type": "markdown",
      "metadata": {
        "id": "eKtBjc6bLS4z",
        "colab_type": "text"
      },
      "source": [
        "Install package to allow me to google search for images:\n",
        "* https://github.com/hardikvasa/google-images-download/blob/master/docs/examples.rst"
      ]
    },
    {
      "cell_type": "code",
      "metadata": {
        "id": "sI1knZV-uMGm",
        "colab_type": "code",
        "outputId": "cb563cbe-dff0-4200-c89b-968fa014a44f",
        "colab": {
          "base_uri": "https://localhost:8080/",
          "height": 248
        }
      },
      "source": [
        "pip install google_images_download"
      ],
      "execution_count": 0,
      "outputs": [
        {
          "output_type": "stream",
          "text": [
            "Collecting google_images_download\n",
            "  Downloading https://files.pythonhosted.org/packages/18/ed/0319d30c48f3653802da8e6dcfefcea6370157d10d566ef6807cceb5ec4d/google_images_download-2.8.0.tar.gz\n",
            "Collecting selenium (from google_images_download)\n",
            "\u001b[?25l  Downloading https://files.pythonhosted.org/packages/80/d6/4294f0b4bce4de0abf13e17190289f9d0613b0a44e5dd6a7f5ca98459853/selenium-3.141.0-py2.py3-none-any.whl (904kB)\n",
            "\u001b[K     |████████████████████████████████| 911kB 7.2MB/s \n",
            "\u001b[?25hRequirement already satisfied: urllib3 in /usr/local/lib/python3.6/dist-packages (from selenium->google_images_download) (1.24.3)\n",
            "Building wheels for collected packages: google-images-download\n",
            "  Building wheel for google-images-download (setup.py) ... \u001b[?25l\u001b[?25hdone\n",
            "  Stored in directory: /root/.cache/pip/wheels/1f/28/ad/f56e7061e1d2a9a1affe2f9c649c2570cb9198dd24ede0bbab\n",
            "Successfully built google-images-download\n",
            "Installing collected packages: selenium, google-images-download\n",
            "Successfully installed google-images-download-2.8.0 selenium-3.141.0\n"
          ],
          "name": "stdout"
        }
      ]
    },
    {
      "cell_type": "code",
      "metadata": {
        "id": "8IamvOS582CE",
        "colab_type": "code",
        "outputId": "afa7ab3b-5f8c-4d88-f354-d9f25ca38663",
        "colab": {
          "base_uri": "https://localhost:8080/",
          "height": 195
        }
      },
      "source": [
        "pip install pypng"
      ],
      "execution_count": 0,
      "outputs": [
        {
          "output_type": "stream",
          "text": [
            "Collecting pypng\n",
            "\u001b[?25l  Downloading https://files.pythonhosted.org/packages/0e/39/993a5feea8ed9c2eebd70c6e7c20cb4b0823588f5ab0afab4b0be95ebc23/pypng-0.0.19.tar.gz (293kB)\n",
            "\r\u001b[K     |█▏                              | 10kB 14.0MB/s eta 0:00:01\r\u001b[K     |██▎                             | 20kB 3.4MB/s eta 0:00:01\r\u001b[K     |███▍                            | 30kB 4.9MB/s eta 0:00:01\r\u001b[K     |████▌                           | 40kB 3.2MB/s eta 0:00:01\r\u001b[K     |█████▋                          | 51kB 3.8MB/s eta 0:00:01\r\u001b[K     |██████▊                         | 61kB 4.6MB/s eta 0:00:01\r\u001b[K     |███████▉                        | 71kB 5.2MB/s eta 0:00:01\r\u001b[K     |█████████                       | 81kB 5.9MB/s eta 0:00:01\r\u001b[K     |██████████                      | 92kB 6.6MB/s eta 0:00:01\r\u001b[K     |███████████▏                    | 102kB 5.1MB/s eta 0:00:01\r\u001b[K     |████████████▎                   | 112kB 5.1MB/s eta 0:00:01\r\u001b[K     |█████████████▍                  | 122kB 5.1MB/s eta 0:00:01\r\u001b[K     |██████████████▌                 | 133kB 5.1MB/s eta 0:00:01\r\u001b[K     |███████████████▋                | 143kB 5.1MB/s eta 0:00:01\r\u001b[K     |████████████████▊               | 153kB 5.1MB/s eta 0:00:01\r\u001b[K     |██████████████████              | 163kB 5.1MB/s eta 0:00:01\r\u001b[K     |███████████████████             | 174kB 5.1MB/s eta 0:00:01\r\u001b[K     |████████████████████▏           | 184kB 5.1MB/s eta 0:00:01\r\u001b[K     |█████████████████████▎          | 194kB 5.1MB/s eta 0:00:01\r\u001b[K     |██████████████████████▍         | 204kB 5.1MB/s eta 0:00:01\r\u001b[K     |███████████████████████▌        | 215kB 5.1MB/s eta 0:00:01\r\u001b[K     |████████████████████████▋       | 225kB 5.1MB/s eta 0:00:01\r\u001b[K     |█████████████████████████▊      | 235kB 5.1MB/s eta 0:00:01\r\u001b[K     |██████████████████████████▉     | 245kB 5.1MB/s eta 0:00:01\r\u001b[K     |████████████████████████████    | 256kB 5.1MB/s eta 0:00:01\r\u001b[K     |█████████████████████████████   | 266kB 5.1MB/s eta 0:00:01\r\u001b[K     |██████████████████████████████▏ | 276kB 5.1MB/s eta 0:00:01\r\u001b[K     |███████████████████████████████▎| 286kB 5.1MB/s eta 0:00:01\r\u001b[K     |████████████████████████████████| 296kB 5.1MB/s \n",
            "\u001b[?25hBuilding wheels for collected packages: pypng\n",
            "  Building wheel for pypng (setup.py) ... \u001b[?25l\u001b[?25hdone\n",
            "  Stored in directory: /root/.cache/pip/wheels/a4/cd/54/c1d0803dfed5adf2bba530eda161581d9096d0154aee082cac\n",
            "Successfully built pypng\n",
            "Installing collected packages: pypng\n",
            "Successfully installed pypng-0.0.19\n"
          ],
          "name": "stdout"
        }
      ]
    },
    {
      "cell_type": "code",
      "metadata": {
        "id": "GeB9av6XujII",
        "colab_type": "code",
        "outputId": "12e75eb1-4d53-48f8-cb5d-2edb97149264",
        "colab": {
          "base_uri": "https://localhost:8080/",
          "height": 35
        }
      },
      "source": [
        "import numpy as np\n",
        "import png\n",
        "import tensorflow as tf\n",
        "from matplotlib.pyplot import imshow\n",
        "from google_images_download import google_images_download   #importing the library\n",
        "from keras.applications.vgg19 import VGG19\n",
        "from keras.preprocessing.image import load_img"
      ],
      "execution_count": 0,
      "outputs": [
        {
          "output_type": "stream",
          "text": [
            "Using TensorFlow backend.\n"
          ],
          "name": "stderr"
        }
      ]
    },
    {
      "cell_type": "markdown",
      "metadata": {
        "id": "5hIbjr--cyGr",
        "colab_type": "text"
      },
      "source": [
        "# Testing how Tensorflow optimises Variables\n",
        "\n",
        "We are testing the case where we have a constant output ($Y=7$) and a costant function ($2\\times X+1$) and seeing how tensorflow optimises the variable X:\n",
        "\n",
        "\n",
        "*   Inputs: the 2 and the 1 in the function [ $2 \\times X + 1$]?\n",
        "*   Predicted value: $\\hat{Y}=2\\times X + 1$\n",
        "*   Label (true value): $Y=7$, this is a placeholder\n",
        "*   Weights: $X$ this is a variable.\n",
        "\n",
        "We have a simple loss function:\n",
        "$$\\text{loss}=(Y - \\hat{Y})^2$$\n",
        "\n",
        "The goal is to update the variable $X$ such that our predicted value $\\hat{Y}$ gets closer to the true value $Y=7$. This is done by optimising our loss function. \n",
        "\n"
      ]
    },
    {
      "cell_type": "code",
      "metadata": {
        "id": "Q5l1iLGUdkkm",
        "colab_type": "code",
        "outputId": "f7d45858-4035-419f-f725-4ebc79727404",
        "colab": {
          "base_uri": "https://localhost:8080/",
          "height": 140
        }
      },
      "source": [
        "# Placeholder for the true label\n",
        "Y = tf.placeholder(tf.float32, [1], name='labels')\n",
        "\n",
        "# Variable which will hold our \"weights\". Initialising it to 10.0\n",
        "X = tf.Variable(10.0, name='weights')\n",
        "\n",
        "# The predicted label, defined by some operation on the \"weights\" X\n",
        "Y_hat = 2*X + 1\n",
        "\n",
        "# The loss we will optimise, defined on the true and predicted labels\n",
        "# and therefore defined as a function of the \"weights\" X\n",
        "loss = tf.math.square(Y - Y_hat)\n",
        "\n",
        "# Learning rate hyperparameter for gradient descent\n",
        "learning_rate = 0.01\n",
        "# Optimising the loss function using gradient descent\n",
        "train_step = tf.train.GradientDescentOptimizer(learning_rate).minimize(loss)\n",
        "\n",
        "# Required to initialise the tf variables\n",
        "init_op = tf.global_variables_initializer()\n",
        "\n",
        "with tf.Session() as sess:\n",
        "    # ***initialization of all variables... NOTE this must be done before running any further sessions!***\n",
        "    sess.run(init_op)\n",
        "    \n",
        "    for i in range(101):\n",
        "\n",
        "      # This piece of code is what updates the weights variable X\n",
        "      sess.run(train_step, feed_dict={Y: [7]})\n",
        "      \n",
        "      # Printing the value of X every 20 iterations\n",
        "      if i%20 == 0:\n",
        "        print('Iterartion ' + str(i) + ' X = ' + str(X.eval()))\n",
        "        \n",
        "    X_final = X\n",
        "    print(X_final.eval())\n"
      ],
      "execution_count": 0,
      "outputs": [
        {
          "output_type": "stream",
          "text": [
            "Iterartion 0 X = 9.44\n",
            "Iterartion 20 X = 4.215185\n",
            "Iterartion 40 X = 3.2292976\n",
            "Iterartion 60 X = 3.0432668\n",
            "Iterartion 80 X = 3.008164\n",
            "Iterartion 100 X = 3.0015404\n",
            "3.0015404\n"
          ],
          "name": "stdout"
        }
      ]
    },
    {
      "cell_type": "markdown",
      "metadata": {
        "id": "JB6gfeoXiqx1",
        "colab_type": "text"
      },
      "source": [
        "As you can see, at each iteration Tensorflow optimises the loss function by updating the variables that are used in calculation which makes up the loss function, in this case $X$. \\\\\n",
        "\n",
        "This example will be analogous to what we will do in Neural style transfer. \n",
        "*   Inputs: the content and style image pixel values?\n",
        "*   Prediction: the activations of the generated image for certain layers. This will be some combination of operations on the weights (generated image in this case).\n",
        "*   Labels: the activations of the content and style images for certain layers. We have a constant label we are trying to optimise towards. Make these placeholders?\n",
        "*   Weights: the generated image pixel values. This will be a variable. \n",
        "\n",
        "The loss function is defined using the activations of the content, style and generated images. Thus, as long as we insure that **the loss function is defined as some operation on the generated image variable**, then as the only variable in the loss function is the generated image then each time we optimise the loss function this should be what is updated."
      ]
    },
    {
      "cell_type": "markdown",
      "metadata": {
        "id": "cBxy2tEE55cf",
        "colab_type": "text"
      },
      "source": [
        "# Downloading the Content Images\n",
        "* Downloading 10 images of \"Australian Landmarks\"\n",
        "* Only choosing images with dimension 400*300\n",
        "  * Reason being is that we don't want to have to distort the dimensions of the content image.\n",
        "* Storing images in the directory content/images/content/"
      ]
    },
    {
      "cell_type": "code",
      "metadata": {
        "id": "FIC1SL6sueEq",
        "colab_type": "code",
        "outputId": "118643f5-fbdd-4290-e53a-21844931c1b4",
        "colab": {
          "base_uri": "https://localhost:8080/",
          "height": 598
        }
      },
      "source": [
        "response = google_images_download.googleimagesdownload()   #class instantiation\n",
        "\n",
        "\n",
        "arguments_content = {\"keywords\":\"Australian Landmarks\",\n",
        "                     \"limit\":10,\n",
        "                     \"exact_size\":\"400,300\",\n",
        "                     \"output_directory\":\"images\",\n",
        "                     \"image_directory\":\"content\",\n",
        "                     \"print_urls\":True}   #creating list of arguments\n",
        "paths_C = response.download(arguments_content)   #passing the arguments to the function\n",
        "#print(paths)   #printing absolute paths of the downloaded images\n",
        "\n"
      ],
      "execution_count": 0,
      "outputs": [
        {
          "output_type": "stream",
          "text": [
            "\n",
            "Item no.: 1 --> Item name = Australian Landmarks\n",
            "Evaluating...\n",
            "Starting Download...\n",
            "Image URL: https://cdn.hswstatic.com/gif/australia-pictures-1.jpg\n",
            "Completed Image ====> 1.australia-pictures-1.jpg\n",
            "Image URL: https://www.kidport.com/RefLib/WorldGeography/Australia/Images/Mountains.JPG\n",
            "Completed Image ====> 2.Mountains.JPG\n",
            "Image URL: https://www.gpsmycity.com/img/gd_attr/22407.jpg\n",
            "Completed Image ====> 3.22407.jpg\n",
            "Image URL: http://imagecache6.allposters.com/LRG/40/4000/9PHWF00Z.jpg\n",
            "URLError on an image...trying next one... Error: HTTP Error 503: Service Unavailable\n",
            "Image URL: https://i.pinimg.com/originals/ff/18/3f/ff183f8035812aad61829317ca79b6fb.jpg\n",
            "Completed Image ====> 4.ff183f8035812aad61829317ca79b6fb.jpg\n",
            "Image URL: http://imagecache6.allposters.com//LRG///27/2751/VQ3TD00Z.jpg\n",
            "URLError on an image...trying next one... Error: HTTP Error 503: Service Unavailable\n",
            "Image URL: https://static.businessinsider.com/image/51433d2d69beddbb34000001-400/image.jpg\n",
            "Completed Image ====> 5.image.jpg\n",
            "Image URL: https://i.pinimg.com/originals/cb/c6/64/cbc664b3bf7150197a4cd32a8e37ae07.jpg\n",
            "Completed Image ====> 6.cbc664b3bf7150197a4cd32a8e37ae07.jpg\n",
            "Image URL: http://imagecache6.allposters.com//LRG///36/3628/1WXEF00Z.jpg\n",
            "URLError on an image...trying next one... Error: HTTP Error 503: Service Unavailable\n",
            "Image URL: http://www.ramkrishnatravels.com/wp-content/uploads/2019/01/banner-sydney7-400x300.jpg\n",
            "Completed Image ====> 7.banner-sydney7-400x300.jpg\n",
            "Image URL: https://static.businessinsider.com/image/53e8f38decad04e14f35c061-400/image.jpg\n",
            "Completed Image ====> 8.image.jpg\n",
            "Image URL: https://www.picclickimg.com/d/l400/pict/141572524475_/Australia-Vintage-Sydney-Landmarks-Blue-Orange-Cotton-Kitchen-Tea.jpg\n",
            "Completed Image ====> 9.Australia-Vintage-Sydney-Landmarks-Blue-Orange-Cotton-Kitchen-Tea.jpg\n",
            "Image URL: https://i.pinimg.com/originals/02/1b/d1/021bd1dd150596db9ceca86dd1250c7c.jpg\n",
            "Completed Image ====> 10.021bd1dd150596db9ceca86dd1250c7c.jpg\n",
            "\n",
            "Errors: 3\n",
            "\n"
          ],
          "name": "stdout"
        }
      ]
    },
    {
      "cell_type": "markdown",
      "metadata": {
        "id": "74xhghtd6CBM",
        "colab_type": "text"
      },
      "source": [
        "# Downloading the Style Images\n",
        "* Downloading 10 \"impressionism\" images (currently edited to download \"Aboriginal Artwork\" images)\n",
        "* Only choosing images with dimension greater than 400*300\n",
        "  * We can augment the images to have dimensions 400*300 and should still retain their \"style\"\n",
        "* Storing images in the directory content/images/style/"
      ]
    },
    {
      "cell_type": "code",
      "metadata": {
        "id": "Hw8Huv8O6GOz",
        "colab_type": "code",
        "outputId": "d1bb4527-a21b-448b-f156-a3d6479bd00f",
        "colab": {
          "base_uri": "https://localhost:8080/",
          "height": 563
        }
      },
      "source": [
        "arguments_style = {\"keywords\":\"Aboriginal Artwork\",\n",
        "                   \"limit\":10,\n",
        "                   \"size\":\">400*300\",\n",
        "                   \"output_directory\":\"images\",\n",
        "                   \"image_directory\":\"style\",\n",
        "                   \"print_urls\":True}   #creating list of arguments\n",
        "paths_S = response.download(arguments_style)   #passing the arguments to the functionw"
      ],
      "execution_count": 0,
      "outputs": [
        {
          "output_type": "stream",
          "text": [
            "\n",
            "Item no.: 1 --> Item name = Aboriginal Artwork\n",
            "Evaluating...\n",
            "Starting Download...\n",
            "Image URL: https://img.theculturetrip.com/768x432/wp-content/uploads/2018/05/aboriginal-artwork--barbara-dieu-flickr-1.jpg\n",
            "Completed Image ====> 1.aboriginal-artwork--barbara-dieu-flickr-1.jpg\n",
            "Image URL: https://www.kateowengallery.com/image.axd?picture=2016%2F10%2FMEPU13351.png\n",
            "Invalid or missing image format. Skipping...\n",
            "Image URL: https://japingkaaboriginalart.com/wp-content/uploads/2-Joylene-011995.jpg\n",
            "Completed Image ====> 2.2-Joylene-011995.jpg\n",
            "Image URL: https://www.welcometocountry.org/wp-content/uploads/2017/08/tradara-briscoe-aboriginal-art.png\n",
            "Completed Image ====> 3.tradara-briscoe-aboriginal-art.png\n",
            "Image URL: https://japingkaaboriginalart.com/wp-content/uploads/bb-plugin/cache/Jap-012903-Walangkura-1024x675-landscape.jpg\n",
            "Completed Image ====> 4.Jap-012903-Walangkura-1024x675-landscape.jpg\n",
            "Image URL: https://d36lty2xa4smx3.cloudfront.net/product-images/b_92.jpg\n",
            "Completed Image ====> 5.b_92.jpg\n",
            "Image URL: https://img.theculturetrip.com/x/smart/wp-content/uploads/2016/03/4462304300_f43a8726eb_b.jpg\n",
            "Completed Image ====> 6.4462304300_f43a8726eb_b.jpg\n",
            "Image URL: https://www.snswlhd.health.nsw.gov.au/getmedia/03f04278-8fbd-4003-84e8-d1f2e6106e2c/Alison-Simpson-Artwork\n",
            "Invalid or missing image format. Skipping...\n",
            "Image URL: https://theculturetrip.com/wp-content/uploads/2018/05/painting-of-uluru-by-danny-eastwood--karlangu-aboriginal-art-centre.jpg\n",
            "Completed Image ====> 7.painting-of-uluru-by-danny-eastwood--karlangu-aboriginal-art-centre.jpg\n",
            "Image URL: https://artsandactivities.com/wp-content/uploads/2015/12/AA0116AAlead-1600x700_1.jpg\n",
            "Completed Image ====> 8.AA0116AAlead-1600x700_1.jpg\n",
            "Image URL: https://japingkaaboriginalart.com/wp-content/uploads/bb-plugin/cache/Michelle-Jap-015933-1024x594-landscape.jpg\n",
            "Completed Image ====> 9.Michelle-Jap-015933-1024x594-landscape.jpg\n",
            "Image URL: https://i.ytimg.com/vi/mQi1NMh9CvA/maxresdefault.jpg\n",
            "Completed Image ====> 10.maxresdefault.jpg\n",
            "\n",
            "Errors: 2\n",
            "\n"
          ],
          "name": "stdout"
        }
      ]
    },
    {
      "cell_type": "code",
      "metadata": {
        "id": "GyH5A23V31Xb",
        "colab_type": "code",
        "colab": {}
      },
      "source": [
        "# Removing unwanted search results\n",
        "'''\n",
        "import shutil\n",
        "shutil.rmtree('downloads/Polar bears')\n",
        "shutil.rmtree('downloads/baloons')\n",
        "'''"
      ],
      "execution_count": 0,
      "outputs": []
    },
    {
      "cell_type": "markdown",
      "metadata": {
        "id": "6UZRBfwX6vmf",
        "colab_type": "text"
      },
      "source": [
        "Next Steps\n",
        "\n",
        "*   Make the search used for the content and style be user inputted\n",
        "*   Resize the style image to be of the size of the content image they are being used with\n",
        "*   For each content image, apply every style image\n",
        "*   Iterate over all the content images\n",
        "*   Use a pretained model such a VGG19 net\n",
        "*   Define the content and style functions\n",
        "*   This will require integrating with Tensorflow\n",
        "\n"
      ]
    },
    {
      "cell_type": "markdown",
      "metadata": {
        "id": "Jmsw9MuNcTAM",
        "colab_type": "text"
      },
      "source": [
        "https://machinelearningmastery.com/use-pre-trained-vgg-model-classify-objects-photographs/\n",
        "\n",
        "https://keras.io/applications/#vgg19\n",
        "\n",
        "Loading the style images and reshaping them. \\\\\n",
        "Then converting to an array"
      ]
    },
    {
      "cell_type": "markdown",
      "metadata": {
        "id": "V_xe7e0N1scX",
        "colab_type": "text"
      },
      "source": [
        "# Image Preprocessing\n",
        "\n",
        "* Loading the style images and reshaping them.\n",
        "* Then converting to an array\n",
        "* Reshapping to have \"samples\" dimension\n",
        "* Subtracting channel means\n"
      ]
    },
    {
      "cell_type": "code",
      "metadata": {
        "id": "ZQv279SPYNvl",
        "colab_type": "code",
        "colab": {}
      },
      "source": [
        "import glob\n",
        "from keras.preprocessing.image import load_img\n",
        "from keras.preprocessing.image import img_to_array\n",
        "from keras.applications.vgg19 import preprocess_input\n",
        "\n",
        "\n",
        "def prepare_images(image_path,image_names):\n",
        "  images_dict = {}\n",
        "  \n",
        "  for index, name in enumerate(image_names):\n",
        "    # load the image\n",
        "    image = load_img(image_path + name, target_size=(300, 400))\n",
        "\n",
        "    # convert pixels into numpy array\n",
        "    image = img_to_array(image)\n",
        "\n",
        "    # Add \"samples\" dimension to array, as this is what the network is expecting as input\n",
        "    image = image.reshape((1, image.shape[0], image.shape[1], image.shape[2]))\n",
        "\n",
        "    # VGG input images need to have the same mean RGB values subtracted as was used for imagenet: RGB [123.68, 116.779, 103.939]\n",
        "    image = preprocess_input(image)\n",
        "\n",
        "    # Store preprocessed images into a dictionary\n",
        "    images_dict[\"image{0}\".format(index)] = image\n",
        "  \n",
        "  return images_dict"
      ],
      "execution_count": 0,
      "outputs": []
    },
    {
      "cell_type": "code",
      "metadata": {
        "id": "hCzaIRr828ep",
        "colab_type": "code",
        "colab": {}
      },
      "source": [
        "# Preprocess Style Images\n",
        "style_image_path = \"/content/images/style/\"\n",
        "style_image_names = glob.glob1(style_image_path,\"*.jpg\")\n",
        "\n",
        "style_images_dict = prepare_images(style_image_path,style_image_names)"
      ],
      "execution_count": 0,
      "outputs": []
    },
    {
      "cell_type": "code",
      "metadata": {
        "id": "Vfp8h3s0is9k",
        "colab_type": "code",
        "outputId": "ac4e8ff8-98c6-453a-dcc1-b9930c84c024",
        "colab": {
          "base_uri": "https://localhost:8080/",
          "height": 35
        }
      },
      "source": [
        "style_images_dict[\"image0\"].shape"
      ],
      "execution_count": 0,
      "outputs": [
        {
          "output_type": "execute_result",
          "data": {
            "text/plain": [
              "(1, 300, 400, 3)"
            ]
          },
          "metadata": {
            "tags": []
          },
          "execution_count": 9
        }
      ]
    },
    {
      "cell_type": "code",
      "metadata": {
        "id": "_7yj6u6H-Kyy",
        "colab_type": "code",
        "colab": {}
      },
      "source": [
        "# Preprocess Content Images\n",
        "content_image_path = \"/content/images/content/\"\n",
        "content_image_names = glob.glob1(content_image_path,\"*.jpg\")\n",
        "\n",
        "content_images_dict = prepare_images(content_image_path,content_image_names)"
      ],
      "execution_count": 0,
      "outputs": []
    },
    {
      "cell_type": "code",
      "metadata": {
        "id": "-7xbNir1bXiC",
        "colab_type": "code",
        "outputId": "cbead6e5-ccd5-492a-a31d-2bd7e195e021",
        "colab": {
          "base_uri": "https://localhost:8080/",
          "height": 52
        }
      },
      "source": [
        "print(style_images_dict['image0'].shape)\n",
        "print(content_images_dict['image0'].shape)"
      ],
      "execution_count": 0,
      "outputs": [
        {
          "output_type": "stream",
          "text": [
            "(1, 300, 400, 3)\n",
            "(1, 300, 400, 3)\n"
          ],
          "name": "stdout"
        }
      ]
    },
    {
      "cell_type": "markdown",
      "metadata": {
        "id": "ueROlhPF3_q8",
        "colab_type": "text"
      },
      "source": [
        "We will set up our post processing function so that once the generated images is \"generated\", we can apply the necessary post processing and save it.\n",
        "\n",
        "This function can be called every dozen or so iterations to see how the image generation is progressing"
      ]
    },
    {
      "cell_type": "code",
      "metadata": {
        "id": "42sfWUKu4dqJ",
        "colab_type": "code",
        "colab": {}
      },
      "source": [
        "def output_and_save_image(image, save_path, save_name):\n",
        "  # This is for BGR channels\n",
        "  image = image.reshape(300,400,3) + np.array([103.939, 116.779,123.68]).reshape((1,1,3))\n",
        "  \n",
        "  # Limiting the min value to 0 and max value to 255 (maybe need to call image[0])\n",
        "  image = np.clip(image, 0, 255).astype('uint8')\n",
        "  \n",
        "  # Saving the image to the provided path. Have to reorder channels to from RGB to BGR\n",
        "  image = image[...,::-1]\n",
        "  png.from_array(image,\"RGB\").save(save_path + save_name + \".png\")"
      ],
      "execution_count": 0,
      "outputs": []
    },
    {
      "cell_type": "code",
      "metadata": {
        "id": "Z8u-cUpE7Ee3",
        "colab_type": "code",
        "colab": {}
      },
      "source": [
        "# TESTING output_and_save_image()\n",
        "output_and_save_image(style_images_dict['image2'],\"/content/images/\",\"saved_image\")"
      ],
      "execution_count": 0,
      "outputs": []
    },
    {
      "cell_type": "markdown",
      "metadata": {
        "id": "LbjJ5JzUudYD",
        "colab_type": "text"
      },
      "source": [
        "# How to create the Generated Image\n",
        "\n",
        "\n",
        "1.   Subtract the mean RGB value from when VGG19 was trained on image net (use preprocess_input) from the input images\n",
        "2.   Calculate the Style Cost and Content Cost, and then combine to form J\n",
        "      * Assume inputs to cost functions are pre-calculated activations\n",
        "3.   Optimize J\n",
        "4.   After optimizing, reshape the output generated image (andd back the mean RGB values)\n"
      ]
    },
    {
      "cell_type": "markdown",
      "metadata": {
        "id": "LCGX2fFM-jRp",
        "colab_type": "text"
      },
      "source": [
        "# Create Iteration 0 Generated Image\n",
        "\n",
        "Initialize generated image to be a nosiy imagewhich is created from the content image."
      ]
    },
    {
      "cell_type": "code",
      "metadata": {
        "id": "dYp_yHdn-2f4",
        "colab_type": "code",
        "colab": {}
      },
      "source": [
        "def generate_noise_image(content_image, noise_ratio = 0.6):\n",
        "    \n",
        "    # Generate a random noise_image\n",
        "    noise_image = np.random.uniform(-20, 20, (1, 300, 400, 3)).astype('float32')\n",
        "    \n",
        "    # Set the input_image to be a weighted average of the content_image and a noise_image\n",
        "    input_image = noise_image * noise_ratio + content_image * (1 - noise_ratio)\n",
        "    \n",
        "    return input_image"
      ],
      "execution_count": 0,
      "outputs": []
    },
    {
      "cell_type": "code",
      "metadata": {
        "id": "n1DDgICNggiw",
        "colab_type": "code",
        "colab": {}
      },
      "source": [
        "def generate_noise_image_dict(images_dict,image_names):\n",
        "  generated_images_dict = {}\n",
        "  \n",
        "  # Iterate over content images\n",
        "  for index, name in enumerate(image_names):\n",
        "    generated_images_dict[\"image{0}\".format(index)] = generate_noise_image(images_dict[\"image{0}\".format(index)])\n",
        "    \n",
        "  return generated_images_dict"
      ],
      "execution_count": 0,
      "outputs": []
    },
    {
      "cell_type": "markdown",
      "metadata": {
        "id": "X0UGsOe2yo9l",
        "colab_type": "text"
      },
      "source": [
        "Generate inital image \"generated\" image for each content image"
      ]
    },
    {
      "cell_type": "code",
      "metadata": {
        "id": "t92lPLXx1dKO",
        "colab_type": "code",
        "colab": {}
      },
      "source": [
        "generated_images_dict = generate_noise_image_dict(content_images_dict,content_image_names)"
      ],
      "execution_count": 0,
      "outputs": []
    },
    {
      "cell_type": "code",
      "metadata": {
        "id": "3YXc0-9P26js",
        "colab_type": "code",
        "outputId": "d94f1827-2c20-47df-d1bc-17e3a376ad04",
        "colab": {
          "base_uri": "https://localhost:8080/",
          "height": 52
        }
      },
      "source": [
        "print(content_images_dict.keys())\n",
        "print(generated_images_dict.keys())"
      ],
      "execution_count": 0,
      "outputs": [
        {
          "output_type": "stream",
          "text": [
            "dict_keys(['image0', 'image1', 'image2', 'image3', 'image4', 'image5', 'image6', 'image7', 'image8'])\n",
            "dict_keys(['image0', 'image1', 'image2', 'image3', 'image4', 'image5', 'image6', 'image7', 'image8'])\n"
          ],
          "name": "stdout"
        }
      ]
    },
    {
      "cell_type": "markdown",
      "metadata": {
        "id": "aAvO9X9k2DUZ",
        "colab_type": "text"
      },
      "source": [
        "Test that it worked for the images"
      ]
    },
    {
      "cell_type": "code",
      "metadata": {
        "id": "LFuKBqoitkXf",
        "colab_type": "code",
        "outputId": "f646b961-7faf-4da4-955a-c530d33bf0b9",
        "colab": {
          "base_uri": "https://localhost:8080/",
          "height": 342
        }
      },
      "source": [
        "# Reording Channels to RGB so that they are in the correct order for imshow\n",
        "generated_image_test = generated_images_dict['image6'][...,::-1]\n",
        "imshow(generated_image_test[0])"
      ],
      "execution_count": 0,
      "outputs": [
        {
          "output_type": "stream",
          "text": [
            "WARNING: Logging before flag parsing goes to stderr.\n",
            "W0714 03:52:03.077208 140554220246912 image.py:648] Clipping input data to the valid range for imshow with RGB data ([0..1] for floats or [0..255] for integers).\n"
          ],
          "name": "stderr"
        },
        {
          "output_type": "execute_result",
          "data": {
            "text/plain": [
              "<matplotlib.image.AxesImage at 0x7fd5154f8128>"
            ]
          },
          "metadata": {
            "tags": []
          },
          "execution_count": 17
        },
        {
          "output_type": "display_data",
          "data": {
            "image/png": "[encoded data removed]",
            "text/plain": [
              "<Figure size 432x288 with 1 Axes>"
            ]
          },
          "metadata": {
            "tags": []
          }
        }
      ]
    },
    {
      "cell_type": "code",
      "metadata": {
        "id": "jg2_f5Hovkgx",
        "colab_type": "code",
        "outputId": "58772a5c-3407-446c-8c7a-aa5dbd3c70cc",
        "colab": {
          "base_uri": "https://localhost:8080/",
          "height": 324
        }
      },
      "source": [
        "content_image_test = content_images_dict['image6'][...,::-1]\n",
        "imshow(content_image_test[0])"
      ],
      "execution_count": 0,
      "outputs": [
        {
          "output_type": "stream",
          "text": [
            "W0714 03:52:06.372630 140554220246912 image.py:648] Clipping input data to the valid range for imshow with RGB data ([0..1] for floats or [0..255] for integers).\n"
          ],
          "name": "stderr"
        },
        {
          "output_type": "execute_result",
          "data": {
            "text/plain": [
              "<matplotlib.image.AxesImage at 0x7fd513490048>"
            ]
          },
          "metadata": {
            "tags": []
          },
          "execution_count": 18
        },
        {
          "output_type": "display_data",
          "data": {
            "image/png": "[encoded data removed]",
            "text/plain": [
              "<Figure size 432x288 with 1 Axes>"
            ]
          },
          "metadata": {
            "tags": []
          }
        }
      ]
    },
    {
      "cell_type": "code",
      "metadata": {
        "id": "vh4Br38_v9uy",
        "colab_type": "code",
        "outputId": "7b49cd7f-1a38-474a-c22b-4c095b9eb513",
        "colab": {
          "base_uri": "https://localhost:8080/",
          "height": 324
        }
      },
      "source": [
        "style_image_test = style_images_dict['image3'][...,::-1]\n",
        "imshow(style_image_test[0])"
      ],
      "execution_count": 0,
      "outputs": [
        {
          "output_type": "stream",
          "text": [
            "W0714 03:52:07.999889 140554220246912 image.py:648] Clipping input data to the valid range for imshow with RGB data ([0..1] for floats or [0..255] for integers).\n"
          ],
          "name": "stderr"
        },
        {
          "output_type": "execute_result",
          "data": {
            "text/plain": [
              "<matplotlib.image.AxesImage at 0x7fd5133ecc50>"
            ]
          },
          "metadata": {
            "tags": []
          },
          "execution_count": 19
        },
        {
          "output_type": "display_data",
          "data": {
            "image/png": "[encoded data removed]",
            "text/plain": [
              "<Figure size 432x288 with 1 Axes>"
            ]
          },
          "metadata": {
            "tags": []
          }
        }
      ]
    },
    {
      "cell_type": "markdown",
      "metadata": {
        "id": "TcBDm6FMVV_F",
        "colab_type": "text"
      },
      "source": [
        "# VGG19\n",
        "* include_Top=False - don't include the 3 fully-connected layers at the end of the network\n",
        "* input_shape=(400,300,3) - input image shape\n",
        "* weights='imagenet' - get pre-trained weights trained on ImageNet"
      ]
    },
    {
      "cell_type": "markdown",
      "metadata": {
        "id": "pej7_YQbXwtg",
        "colab_type": "text"
      },
      "source": [
        "https://www.tensorflow.org/beta/tutorials/generative/style_transfer"
      ]
    },
    {
      "cell_type": "markdown",
      "metadata": {
        "id": "Fj8ahrBYh53I",
        "colab_type": "text"
      },
      "source": [
        "Code to that loads the model and grabs the weights"
      ]
    },
    {
      "cell_type": "code",
      "metadata": {
        "id": "1CO_yzBDUvWS",
        "colab_type": "code",
        "colab": {}
      },
      "source": [
        "'''\n",
        "VGG19_model = tf.keras.applications.VGG19(include_top=False, weights='imagenet', input_shape=(400,300,3))\n",
        "\n",
        "print()\n",
        "for layer in VGG19_model.layers:\n",
        "  print(layer.name)\n",
        "  weights = layer.get_weights() # list of numpy arrays\n",
        "  print(weights)\n",
        "\n",
        "#VGG19_model(tf.convert_to_tensor(style_images_dict['image0']))\n",
        "print(VGG19_model.input)\n",
        "print(VGG19_model.get_layer('block2_conv1').output)\n",
        "'''\n"
      ],
      "execution_count": 0,
      "outputs": []
    },
    {
      "cell_type": "markdown",
      "metadata": {
        "id": "zhhxVxXIiKGv",
        "colab_type": "text"
      },
      "source": [
        "## Code to Get Layer Activations"
      ]
    },
    {
      "cell_type": "markdown",
      "metadata": {
        "id": "iY-jiEgkab5B",
        "colab_type": "text"
      },
      "source": [
        "The following function builds a VGG19 model that returns a list of intermediate layer outputs:\n",
        "https://www.tensorflow.org/beta/tutorials/generative/style_transfer"
      ]
    },
    {
      "cell_type": "markdown",
      "metadata": {
        "id": "rmY7MhNXFj-P",
        "colab_type": "text"
      },
      "source": [
        "We will later define a model with the below definition in the same session we call these functions"
      ]
    },
    {
      "cell_type": "code",
      "metadata": {
        "id": "bAkezilgFhXt",
        "colab_type": "code",
        "colab": {}
      },
      "source": [
        "\"\"\"\n",
        "# Load our model. Load pretrained VGG, trained on imagenet data\n",
        "VGG19_model = tf.keras.applications.VGG19(include_top=False, weights='imagenet',input_shape=(300,400,3))\n",
        "VGG19_model.trainable = False\n",
        "\"\"\""
      ],
      "execution_count": 0,
      "outputs": []
    },
    {
      "cell_type": "code",
      "metadata": {
        "id": "KbmTZfhyZa_v",
        "colab_type": "code",
        "colab": {}
      },
      "source": [
        "def define_model(content_layers, style_layers):\n",
        "  \"\"\" \n",
        "  Creates a vgg model that returns a list of intermediate output values.\n",
        "  \n",
        "  Arguments:\n",
        "      - content_layers: python list of layers you want to use when calculating\n",
        "                        the content cost. \n",
        "                        e.g.LAYERS = ['block1_conv1', 'block2_conv1'] \n",
        "                        \n",
        "      - style_layers: python list of layers you want to use when calculating\n",
        "                      the style cost.                  \n",
        "  \"\"\"\n",
        "  \n",
        "  # Required layers to calculate style and content cost functions.\n",
        "  # Use union to take care of cases where content_layers and style_layers are\n",
        "  # referencing some of the same layers.\n",
        "  #required_layers = list(set().union(content_layers,style_layers))\n",
        "  #required_layers.sort()\n",
        "  \n",
        "  # Loading the VGG19 model pretrained on imagenet data\n",
        "  VGG19_model = tf.keras.applications.VGG19(include_top=False, weights='imagenet',input_shape=(300,400,3))\n",
        "  VGG19_model.trainable = False\n",
        "  \n",
        "  content_outputs = [VGG19_model.get_layer(name).output for name in content_layers]\n",
        "  style_outputs = [VGG19_model.get_layer(name).output for name in style_layers]\n",
        "  \n",
        "  model_outputs = content_outputs + style_outputs\n",
        "\n",
        "  model = tf.keras.Model(VGG19_model.input, model_outputs)\n",
        "  return model"
      ],
      "execution_count": 0,
      "outputs": []
    },
    {
      "cell_type": "markdown",
      "metadata": {
        "id": "Od2zcmaNer7b",
        "colab_type": "text"
      },
      "source": [
        "Remeber to run things in a seesion. Initially i had a problem which WAS THE STYLE_EXTRACTOR AND STYLE_OUTPUTS WEREN'T IN THE SESSION:\n",
        "https://github.com/tensorflow/tensorflow/issues/28287"
      ]
    },
    {
      "cell_type": "markdown",
      "metadata": {
        "id": "eVlVyNAmYA39",
        "colab_type": "text"
      },
      "source": [
        "Feeding an image into the VGG19 model and getting the activations for the provided layer_names"
      ]
    },
    {
      "cell_type": "code",
      "metadata": {
        "id": "1IqlTC4Ur7Cs",
        "colab_type": "code",
        "colab": {}
      },
      "source": [
        "def get_activations(model, image, content_layers, style_layers):\n",
        "  \"\"\"\n",
        "  Arguments:\n",
        "      - model: the model which is defined by the define_model function\n",
        "  \n",
        "      - image:  tensor of the image you want to feed into the model. \n",
        "                has shape (1,300,400,3)\n",
        "                \n",
        "      - content_layers: python list of layers you want to use when calculating\n",
        "                        the content cost. \n",
        "                        e.g.LAYERS = ['block1_conv1', 'block2_conv1'] \n",
        "                        \n",
        "      - style_layers: python list of layers you want to use when calculating\n",
        "                      the style cost. \n",
        "  \"\"\"\n",
        "  \n",
        "  model_outputs = model(image)\n",
        "  content_activations = [layer[0] for layer in model_outputs[:len(content_layers)]]\n",
        "  style_activations = [layer[0] for layer in model_outputs[len(content_layers):]]\n",
        "  return content_activations, style_activations"
      ],
      "execution_count": 0,
      "outputs": []
    },
    {
      "cell_type": "markdown",
      "metadata": {
        "id": "k5X3LK28Y9MF",
        "colab_type": "text"
      },
      "source": [
        "Storing a Tensor of activations for given layers into a python dictionary. \\\\\n",
        "May no longer need below code."
      ]
    },
    {
      "cell_type": "code",
      "metadata": {
        "id": "aa7Mydxqj4Ql",
        "colab_type": "code",
        "colab": {}
      },
      "source": [
        "def get_activations_dictionary(layer_names, activations):\n",
        "  \"\"\"\n",
        "  Arguments:       \n",
        "      - layer_names: python list of layers you want to get activations for.\n",
        "                     e.g.LAYERS = ['block1_conv1', 'block2_conv1'] \n",
        "                     \n",
        "      - activations: Tensor of activations for the provided layer_names\n",
        "      \n",
        "  Returns:\n",
        "      - activations_tensor_dict: dictionary of tensors for the given layers\n",
        "      - activations_array_dict: dictionary of arrays for the given layers\n",
        "  \"\"\"\n",
        "  \n",
        "  activations_tensor_dict = {}\n",
        "#   activations_array_dict = {}\n",
        "  \n",
        "  if len(layer_names) == 1:\n",
        "#     print(layer_names[0])\n",
        "#     print(activations[0].eval().shape)\n",
        "    activations_tensor_dict[layer_names[0]] = activations[0]\n",
        "#     activations_array_dict[layer_names[0]] = activations[0].eval()\n",
        "  else:\n",
        "    for name, output in zip(layer_names, activations):\n",
        "#       print(name)\n",
        "#       print(output.eval().shape)\n",
        "      activations_tensor_dict[name] = output\n",
        "#       activations_array_dict[name] = output.eval()\n",
        "  \n",
        "  return activations_tensor_dict #, activations_array_dict"
      ],
      "execution_count": 0,
      "outputs": []
    },
    {
      "cell_type": "markdown",
      "metadata": {
        "id": "Q1t8VK2JaVXj",
        "colab_type": "text"
      },
      "source": [
        "Defining the layers we want to use to measure the style:"
      ]
    },
    {
      "cell_type": "code",
      "metadata": {
        "id": "gz1tc_zPaR1r",
        "colab_type": "code",
        "colab": {}
      },
      "source": [
        "STYLE_LAYERS = ['block1_conv1',\n",
        "                'block2_conv1',\n",
        "                'block3_conv1', \n",
        "                'block4_conv1', \n",
        "                'block5_conv1'\n",
        "               ]"
      ],
      "execution_count": 0,
      "outputs": []
    },
    {
      "cell_type": "markdown",
      "metadata": {
        "id": "QzRx4VPYabE7",
        "colab_type": "text"
      },
      "source": [
        "Defining the layers we want to use to measure the content:"
      ]
    },
    {
      "cell_type": "code",
      "metadata": {
        "id": "Zw9KxQTCaEXN",
        "colab_type": "code",
        "colab": {}
      },
      "source": [
        "CONTENT_LAYERS = ['block5_conv2']"
      ],
      "execution_count": 0,
      "outputs": []
    },
    {
      "cell_type": "markdown",
      "metadata": {
        "id": "MvbpakJu_jpk",
        "colab_type": "text"
      },
      "source": [
        "Combining to get the layers required from the generated image"
      ]
    },
    {
      "cell_type": "code",
      "metadata": {
        "id": "37Kru12J_q3N",
        "colab_type": "code",
        "outputId": "a1660a6b-da1a-4a60-9c13-3ccae8786185",
        "colab": {
          "base_uri": "https://localhost:8080/",
          "height": 35
        }
      },
      "source": [
        "GENERATED_LAYERS = list(set().union(STYLE_LAYERS,CONTENT_LAYERS))\n",
        "GENERATED_LAYERS.sort()\n",
        "print(GENERATED_LAYERS)"
      ],
      "execution_count": 0,
      "outputs": [
        {
          "output_type": "stream",
          "text": [
            "['block1_conv1', 'block2_conv1', 'block3_conv1', 'block4_conv1', 'block5_conv1', 'block5_conv2']\n"
          ],
          "name": "stdout"
        }
      ]
    },
    {
      "cell_type": "markdown",
      "metadata": {
        "id": "oE8nIMa_ZRt6",
        "colab_type": "text"
      },
      "source": [
        "TEST: Feeding the style and content images to the VGG19 model and getting the activations for the required layers and storing into a python dictionary."
      ]
    },
    {
      "cell_type": "code",
      "metadata": {
        "id": "1h6RFoDdkk_e",
        "colab_type": "code",
        "colab": {}
      },
      "source": [
        "tf.reset_default_graph()\n",
        "sess = tf.Session()\n",
        "with sess.as_default():\n",
        "  # Load our model. Load pretrained VGG, trained on imagenet data\n",
        "  VGG19_model = tf.keras.applications.VGG19(include_top=False, weights='imagenet',input_shape=(300,400,3))\n",
        "  VGG19_model.trainable = False\n",
        "  \n",
        "  style_model_outputs = get_activations(style_images_dict['image0'],VGG19_model,STYLE_LAYERS)\n",
        "  print(style_model_outputs[0].get_shape())\n",
        "  style_activations_tensor_dict, style_activations_array_dict = get_activations_dictionary(STYLE_LAYERS,style_model_outputs)\n",
        "  print(style_activations_tensor_dict['block4_conv1'])\n",
        "  print(style_activations_array_dict['block4_conv1'])\n",
        "\n",
        "  content_model_outputs = get_activations(content_images_dict['image0'],VGG19_model,CONTENT_LAYERS)\n",
        "  content_activations_tensor_dict, content_activations_array_dict = get_activations_dictionary(CONTENT_LAYERS,content_model_outputs)"
      ],
      "execution_count": 0,
      "outputs": []
    },
    {
      "cell_type": "markdown",
      "metadata": {
        "id": "MXexaNeqhWUi",
        "colab_type": "text"
      },
      "source": [
        "Feed Content Image and its Layers to vgg_layers to get the output"
      ]
    },
    {
      "cell_type": "markdown",
      "metadata": {
        "id": "NsItJZvLisQR",
        "colab_type": "text"
      },
      "source": [
        "1. Next steps is to figure out how to feed in the style and content images to get their activations. Save them as tensorflow constants\n",
        "2. Then create the cost function to minimize\n",
        "    * How does it know to optimize generated image and not content or style?"
      ]
    },
    {
      "cell_type": "markdown",
      "metadata": {
        "id": "6DWbK_T97Z23",
        "colab_type": "text"
      },
      "source": [
        "Still need to find a way to iterate the generated image and update it each time.\n",
        "1. Initially need to convert_to_tensor\n",
        "2. Calculate activations for style and content layers\n",
        "3. Then make a variable\n",
        "\n",
        "4. Also maybe make content and style activations constants"
      ]
    },
    {
      "cell_type": "markdown",
      "metadata": {
        "id": "MdnSWFCZ-2u-",
        "colab_type": "text"
      },
      "source": [
        "\n",
        "# Define Content Cost Function\n",
        "\n",
        "Future edit: I may want to define the *content* cost function so that it can be done over multiple layers as will be done for the style cost function"
      ]
    },
    {
      "cell_type": "code",
      "metadata": {
        "id": "SyF9k9Mh-7rI",
        "colab_type": "code",
        "colab": {}
      },
      "source": [
        "def content_cost(content_activations,generated_activations):\n",
        "  \"\"\"\n",
        "  Arguments:\n",
        "      - content_activations:  activations of the content image calculated \n",
        "                              for specific layers\n",
        "      - generated_activations:  activations of the generated image calculated \n",
        "                                for the same specific layers                              \n",
        "  \"\"\"\n",
        "  \n",
        "  n_H, n_W, n_C = generated_activations.get_shape().as_list()\n",
        "\n",
        "  # Reshape content and generated activations\n",
        "  #content_activations_unrolled = tf.reshape(content_activations,[m,n_H*n_W,n_C])\n",
        "  #generated_activations_unrolled = tf.reshape(generated_activations,[m,n_H*n_W,n_C])\n",
        "\n",
        "  # Compute the content cost\n",
        "  J_content = (1/(4*n_H*n_W*n_C))*tf.reduce_sum(tf.square(tf.subtract(content_activations,generated_activations)))\n",
        "\n",
        "  return J_content"
      ],
      "execution_count": 0,
      "outputs": []
    },
    {
      "cell_type": "markdown",
      "metadata": {
        "id": "zD1WFGIEKZeu",
        "colab_type": "text"
      },
      "source": [
        "TEST: 6.76559"
      ]
    },
    {
      "cell_type": "code",
      "metadata": {
        "id": "3gwjdzgjDIi0",
        "colab_type": "code",
        "outputId": "ce6920cf-0cfd-4211-d866-b2f9a83e4ac7",
        "colab": {
          "base_uri": "https://localhost:8080/",
          "height": 330
        }
      },
      "source": [
        "tf.reset_default_graph()\n",
        "\n",
        "with tf.Session() as test:\n",
        "    tf.set_random_seed(1)\n",
        "    a_C = tf.random_normal([1, 4, 4, 3], mean=1, stddev=4)\n",
        "    a_G = tf.random_normal([1, 4, 4, 3], mean=1, stddev=4)\n",
        "    J_content = content_cost(a_C, a_G)\n",
        "    print(\"J_content = \" + str(J_content.eval()))"
      ],
      "execution_count": 0,
      "outputs": [
        {
          "output_type": "error",
          "ename": "ValueError",
          "evalue": "ignored",
          "traceback": [
            "\u001b[0;31m---------------------------------------------------------------------------\u001b[0m",
            "\u001b[0;31mValueError\u001b[0m                                Traceback (most recent call last)",
            "\u001b[0;32m<ipython-input-30-e4201448f772>\u001b[0m in \u001b[0;36m<module>\u001b[0;34m()\u001b[0m\n\u001b[1;32m      5\u001b[0m     \u001b[0ma_C\u001b[0m \u001b[0;34m=\u001b[0m \u001b[0mtf\u001b[0m\u001b[0;34m.\u001b[0m\u001b[0mrandom_normal\u001b[0m\u001b[0;34m(\u001b[0m\u001b[0;34m[\u001b[0m\u001b[0;36m1\u001b[0m\u001b[0;34m,\u001b[0m \u001b[0;36m4\u001b[0m\u001b[0;34m,\u001b[0m \u001b[0;36m4\u001b[0m\u001b[0;34m,\u001b[0m \u001b[0;36m3\u001b[0m\u001b[0;34m]\u001b[0m\u001b[0;34m,\u001b[0m \u001b[0mmean\u001b[0m\u001b[0;34m=\u001b[0m\u001b[0;36m1\u001b[0m\u001b[0;34m,\u001b[0m \u001b[0mstddev\u001b[0m\u001b[0;34m=\u001b[0m\u001b[0;36m4\u001b[0m\u001b[0;34m)\u001b[0m\u001b[0;34m\u001b[0m\u001b[0;34m\u001b[0m\u001b[0m\n\u001b[1;32m      6\u001b[0m     \u001b[0ma_G\u001b[0m \u001b[0;34m=\u001b[0m \u001b[0mtf\u001b[0m\u001b[0;34m.\u001b[0m\u001b[0mrandom_normal\u001b[0m\u001b[0;34m(\u001b[0m\u001b[0;34m[\u001b[0m\u001b[0;36m1\u001b[0m\u001b[0;34m,\u001b[0m \u001b[0;36m4\u001b[0m\u001b[0;34m,\u001b[0m \u001b[0;36m4\u001b[0m\u001b[0;34m,\u001b[0m \u001b[0;36m3\u001b[0m\u001b[0;34m]\u001b[0m\u001b[0;34m,\u001b[0m \u001b[0mmean\u001b[0m\u001b[0;34m=\u001b[0m\u001b[0;36m1\u001b[0m\u001b[0;34m,\u001b[0m \u001b[0mstddev\u001b[0m\u001b[0;34m=\u001b[0m\u001b[0;36m4\u001b[0m\u001b[0;34m)\u001b[0m\u001b[0;34m\u001b[0m\u001b[0;34m\u001b[0m\u001b[0m\n\u001b[0;32m----> 7\u001b[0;31m     \u001b[0mJ_content\u001b[0m \u001b[0;34m=\u001b[0m \u001b[0mcontent_cost\u001b[0m\u001b[0;34m(\u001b[0m\u001b[0ma_C\u001b[0m\u001b[0;34m,\u001b[0m \u001b[0ma_G\u001b[0m\u001b[0;34m)\u001b[0m\u001b[0;34m\u001b[0m\u001b[0;34m\u001b[0m\u001b[0m\n\u001b[0m\u001b[1;32m      8\u001b[0m     \u001b[0mprint\u001b[0m\u001b[0;34m(\u001b[0m\u001b[0;34m\"J_content = \"\u001b[0m \u001b[0;34m+\u001b[0m \u001b[0mstr\u001b[0m\u001b[0;34m(\u001b[0m\u001b[0mJ_content\u001b[0m\u001b[0;34m.\u001b[0m\u001b[0meval\u001b[0m\u001b[0;34m(\u001b[0m\u001b[0;34m)\u001b[0m\u001b[0;34m)\u001b[0m\u001b[0;34m)\u001b[0m\u001b[0;34m\u001b[0m\u001b[0;34m\u001b[0m\u001b[0m\n",
            "\u001b[0;32m<ipython-input-29-3cf6de37af8c>\u001b[0m in \u001b[0;36mcontent_cost\u001b[0;34m(content_activations, generated_activations)\u001b[0m\n\u001b[1;32m      8\u001b[0m   \"\"\"\n\u001b[1;32m      9\u001b[0m \u001b[0;34m\u001b[0m\u001b[0m\n\u001b[0;32m---> 10\u001b[0;31m   \u001b[0mn_H\u001b[0m\u001b[0;34m,\u001b[0m \u001b[0mn_W\u001b[0m\u001b[0;34m,\u001b[0m \u001b[0mn_C\u001b[0m \u001b[0;34m=\u001b[0m \u001b[0mgenerated_activations\u001b[0m\u001b[0;34m.\u001b[0m\u001b[0mget_shape\u001b[0m\u001b[0;34m(\u001b[0m\u001b[0;34m)\u001b[0m\u001b[0;34m.\u001b[0m\u001b[0mas_list\u001b[0m\u001b[0;34m(\u001b[0m\u001b[0;34m)\u001b[0m\u001b[0;34m\u001b[0m\u001b[0;34m\u001b[0m\u001b[0m\n\u001b[0m\u001b[1;32m     11\u001b[0m \u001b[0;34m\u001b[0m\u001b[0m\n\u001b[1;32m     12\u001b[0m   \u001b[0;31m# Reshape content and generated activations\u001b[0m\u001b[0;34m\u001b[0m\u001b[0;34m\u001b[0m\u001b[0;34m\u001b[0m\u001b[0m\n",
            "\u001b[0;31mValueError\u001b[0m: too many values to unpack (expected 3)"
          ]
        }
      ]
    },
    {
      "cell_type": "markdown",
      "metadata": {
        "id": "c9R2SElV-75K",
        "colab_type": "text"
      },
      "source": [
        "# Define Style Cost Function"
      ]
    },
    {
      "cell_type": "markdown",
      "metadata": {
        "id": "AwIPZrkaHByM",
        "colab_type": "text"
      },
      "source": [
        "Define the Gram matrix so we can compare the correlation between filters"
      ]
    },
    {
      "cell_type": "code",
      "metadata": {
        "id": "lUX53GZlG_Kq",
        "colab_type": "code",
        "colab": {}
      },
      "source": [
        "def gram_matrix(input_matrix):\n",
        "  \"\"\"\n",
        "  Arguments:\n",
        "      - input_matrix:  tensor with 2 dimensions (a matrix)                             \n",
        "  \"\"\" \n",
        "  \n",
        "  gram_matrix = tf.matmul(input_matrix,tf.transpose(input_matrix))\n",
        "  \n",
        "  return gram_matrix"
      ],
      "execution_count": 0,
      "outputs": []
    },
    {
      "cell_type": "markdown",
      "metadata": {
        "id": "Das4U3E4nOfP",
        "colab_type": "text"
      },
      "source": [
        "Define the style cost for a given layer"
      ]
    },
    {
      "cell_type": "code",
      "metadata": {
        "id": "0KrFc2uYnNQG",
        "colab_type": "code",
        "colab": {}
      },
      "source": [
        "def style_layer_cost(style_activations,generated_activations):\n",
        "  \"\"\"\n",
        "  Arguments:\n",
        "      - style_activations:  a tensor of activations of the style image for a \n",
        "                            given layer\n",
        "      - generated_activations:  a tensor of activations of the generated image \n",
        "                                for a the same given layer\n",
        "  \"\"\" \n",
        "  # Get the height, width and number of channels \n",
        "  height, width, channels = generated_activations.get_shape().as_list()\n",
        "\n",
        "  # Reshape the images to have them of shape (channels, height*width)\n",
        "  style_activations = tf.transpose(tf.reshape(style_activations,[height*width,channels]))\n",
        "  generated_activations = tf.transpose(tf.reshape(generated_activations,[height*width,channels]))\n",
        "\n",
        "  # Computing gram_matrices for both the style and generated images\n",
        "  gram_style = gram_matrix(style_activations)\n",
        "  gram_generated = gram_matrix(generated_activations)\n",
        "\n",
        "  J_style_layer = (1/((2*channels*height*width)**2))*tf.reduce_sum(tf.square(tf.subtract(gram_style,gram_generated)))\n",
        "\n",
        "  return J_style_layer"
      ],
      "execution_count": 0,
      "outputs": []
    },
    {
      "cell_type": "markdown",
      "metadata": {
        "id": "j7p6eq9c_YWW",
        "colab_type": "text"
      },
      "source": [
        "Note: the content tensors need to be defined in the same session as when I am calling them, rather then calculating them in a earlier session. "
      ]
    },
    {
      "cell_type": "code",
      "metadata": {
        "id": "YRkUxDxU_G_9",
        "colab_type": "code",
        "colab": {}
      },
      "source": [
        "tf.reset_default_graph()\n",
        "sess = tf.Session()\n",
        "with sess.as_default():\n",
        "  \n",
        "  # Load our model. Load pretrained VGG, trained on imagenet data\n",
        "  VGG19_model = tf.keras.applications.VGG19(include_top=False, weights='imagenet',input_shape=(300,400,3))\n",
        "  VGG19_model.trainable = False\n",
        "  \n",
        "  style_model_outputs = get_activations(style_images_dict['image0'],VGG19_model,STYLE_LAYERS)\n",
        "  style_activations_tensor_dict, style_activations_array_dict = get_activations_dictionary(STYLE_LAYERS,style_model_outputs)\n",
        "\n",
        "\n",
        "  content_model_outputs = get_activations(content_images_dict['image0'],VGG19_model,CONTENT_LAYERS)\n",
        "  content_activations_tensor_dict, content_activations_array_dict = get_activations_dictionary(CONTENT_LAYERS,content_model_outputs)\n",
        "\n",
        "  #TESTING it works given two input tensors of the same shape\n",
        "  x = style_layer_cost(style_activations_tensor_dict['block5_conv1'],content_activations_tensor_dict['block5_conv2']).eval()\n",
        "  print(x)"
      ],
      "execution_count": 0,
      "outputs": []
    },
    {
      "cell_type": "markdown",
      "metadata": {
        "id": "upa0QDqOn90s",
        "colab_type": "text"
      },
      "source": [
        "TEST: 9.19028"
      ]
    },
    {
      "cell_type": "code",
      "metadata": {
        "id": "6aubUdBvn9CW",
        "colab_type": "code",
        "outputId": "3eeb2877-1b14-4c3c-b0da-c8cbd7ed7999",
        "colab": {
          "base_uri": "https://localhost:8080/",
          "height": 35
        }
      },
      "source": [
        "tf.reset_default_graph()\n",
        "\n",
        "with tf.Session() as test:\n",
        "    tf.set_random_seed(1)\n",
        "    a_S = tf.random_normal([1, 4, 4, 3], mean=1, stddev=4)\n",
        "    a_G = tf.random_normal([1, 4, 4, 3], mean=1, stddev=4)\n",
        "    J_style_layer = style_layer_cost(a_S, a_G)\n",
        "    \n",
        "    print(\"J_style_layer = \" + str(J_style_layer.eval()))"
      ],
      "execution_count": 0,
      "outputs": [
        {
          "output_type": "stream",
          "text": [
            "J_style_layer = 9.190278\n"
          ],
          "name": "stdout"
        }
      ]
    },
    {
      "cell_type": "markdown",
      "metadata": {
        "id": "u_nJigWin41x",
        "colab_type": "text"
      },
      "source": [
        "Need to define the style cost which sums the style_layer_cost"
      ]
    },
    {
      "cell_type": "code",
      "metadata": {
        "id": "3RfzEVCZ_L5b",
        "colab_type": "code",
        "colab": {}
      },
      "source": [
        "def style_cost(style_activations,generated_activations,layer_names):#,model,session,):\n",
        "  \"\"\"\n",
        "  Arguments:\n",
        "      - style_activations_dict: a dictionary of activations for the style image \n",
        "                                in the form of tensors for given layers \n",
        "      - generated_activations_dict: a dictionary of activations for the \n",
        "                                    generated image in the form of tensors \n",
        "                                    for the same given layers \n",
        "      - layer_names: the layers which we will use to define the style\n",
        "  \"\"\" \n",
        "  # initialise style cost\n",
        "  J_style = 0\n",
        "  \n",
        "  # coefficient to scale between layers. Ideally we would have this as an input\n",
        "  coeff = 1 / len(layer_names)\n",
        "  \n",
        "  #for layer_name in layer_names: \n",
        "  for name, a_C, a_G in zip(layer_names, style_activations, generated_activations):\n",
        "    J_style_layer = style_layer_cost(a_C, a_G)\n",
        "    J_style += coeff * J_style_layer\n",
        "    \n",
        "  return J_style"
      ],
      "execution_count": 0,
      "outputs": []
    },
    {
      "cell_type": "code",
      "metadata": {
        "id": "4dI9oxXMG4xx",
        "colab_type": "code",
        "outputId": "e8f60f59-e0a0-438f-a579-41cb3c86fdf0",
        "colab": {
          "base_uri": "https://localhost:8080/",
          "height": 167
        }
      },
      "source": [
        "style_cost(style_activations_tensor_dict,generated_s_activations_tensor_dict,STYLE_LAYERS)"
      ],
      "execution_count": 0,
      "outputs": [
        {
          "output_type": "error",
          "ename": "NameError",
          "evalue": "ignored",
          "traceback": [
            "\u001b[0;31m---------------------------------------------------------------------------\u001b[0m",
            "\u001b[0;31mNameError\u001b[0m                                 Traceback (most recent call last)",
            "\u001b[0;32m<ipython-input-29-f6cd8fd91cb6>\u001b[0m in \u001b[0;36m<module>\u001b[0;34m()\u001b[0m\n\u001b[0;32m----> 1\u001b[0;31m \u001b[0mstyle_cost\u001b[0m\u001b[0;34m(\u001b[0m\u001b[0mstyle_activations_tensor_dict\u001b[0m\u001b[0;34m,\u001b[0m\u001b[0mgenerated_s_activations_tensor_dict\u001b[0m\u001b[0;34m,\u001b[0m\u001b[0mSTYLE_LAYERS\u001b[0m\u001b[0;34m)\u001b[0m\u001b[0;34m\u001b[0m\u001b[0;34m\u001b[0m\u001b[0m\n\u001b[0m",
            "\u001b[0;31mNameError\u001b[0m: name 'style_activations_tensor_dict' is not defined"
          ]
        }
      ]
    },
    {
      "cell_type": "markdown",
      "metadata": {
        "id": "30eeKb1l_udK",
        "colab_type": "text"
      },
      "source": [
        "### NOTE\n",
        "I need to test this works with an input other then the style dictionary twice. Specifcially, I should test on the initial generated image."
      ]
    },
    {
      "cell_type": "code",
      "metadata": {
        "id": "2dVBxSFGewwS",
        "colab_type": "code",
        "outputId": "f48ca4d3-6669-4e85-fdf5-7d33364b3665",
        "colab": {
          "base_uri": "https://localhost:8080/",
          "height": 342
        }
      },
      "source": [
        "tf.reset_default_graph()\n",
        "sess = tf.Session()\n",
        "with sess.as_default():\n",
        "  \n",
        "  # Load our model. Load pretrained VGG, trained on imagenet data\n",
        "  VGG19_model = tf.keras.applications.VGG19(include_top=False, weights='imagenet',input_shape=(300,400,3))\n",
        "  VGG19_model.trainable = False\n",
        "  \n",
        "  style_model_outputs = get_activations(style_images_dict['image0'],VGG19_model,STYLE_LAYERS)\n",
        "  style_activations_tensor_dict, style_activations_array_dict = get_activations_dictionary(STYLE_LAYERS,style_model_outputs)\n",
        "\n",
        "\n",
        "  content_model_outputs = get_activations(content_images_dict['image0'],VGG19_model,CONTENT_LAYERS)\n",
        "  content_activations_tensor_dict, content_activations_array_dict = get_activations_dictionary(CONTENT_LAYERS,content_model_outputs)\n",
        "\n",
        "  #TESTING it works given two input tensors of the same shape\n",
        "  x = style_cost(style_activations_tensor_dict,style_activations_tensor_dict,STYLE_LAYERS).eval()\n",
        "  print(x)"
      ],
      "execution_count": 0,
      "outputs": [
        {
          "output_type": "stream",
          "text": [
            "W0708 22:12:24.843280 139670068701056 deprecation.py:506] From /usr/local/lib/python3.6/dist-packages/tensorflow/python/ops/init_ops.py:1251: calling VarianceScaling.__init__ (from tensorflow.python.ops.init_ops) with dtype is deprecated and will be removed in a future version.\n",
            "Instructions for updating:\n",
            "Call initializer instance with the dtype argument instead of passing it to the constructor\n"
          ],
          "name": "stderr"
        },
        {
          "output_type": "stream",
          "text": [
            "Downloading data from https://github.com/fchollet/deep-learning-models/releases/download/v0.1/vgg19_weights_tf_dim_ordering_tf_kernels_notop.h5\n",
            "80142336/80134624 [==============================] - 2s 0us/step\n"
          ],
          "name": "stdout"
        },
        {
          "output_type": "error",
          "ename": "TypeError",
          "evalue": "ignored",
          "traceback": [
            "\u001b[0;31m---------------------------------------------------------------------------\u001b[0m",
            "\u001b[0;31mTypeError\u001b[0m                                 Traceback (most recent call last)",
            "\u001b[0;32m<ipython-input-31-cb89831bad2d>\u001b[0m in \u001b[0;36m<module>\u001b[0;34m()\u001b[0m\n\u001b[1;32m      7\u001b[0m   \u001b[0mVGG19_model\u001b[0m\u001b[0;34m.\u001b[0m\u001b[0mtrainable\u001b[0m \u001b[0;34m=\u001b[0m \u001b[0;32mFalse\u001b[0m\u001b[0;34m\u001b[0m\u001b[0;34m\u001b[0m\u001b[0m\n\u001b[1;32m      8\u001b[0m \u001b[0;34m\u001b[0m\u001b[0m\n\u001b[0;32m----> 9\u001b[0;31m   \u001b[0mstyle_model_outputs\u001b[0m \u001b[0;34m=\u001b[0m \u001b[0mget_activations\u001b[0m\u001b[0;34m(\u001b[0m\u001b[0mstyle_images_dict\u001b[0m\u001b[0;34m[\u001b[0m\u001b[0;34m'image0'\u001b[0m\u001b[0;34m]\u001b[0m\u001b[0;34m,\u001b[0m\u001b[0mVGG19_model\u001b[0m\u001b[0;34m,\u001b[0m\u001b[0mSTYLE_LAYERS\u001b[0m\u001b[0;34m)\u001b[0m\u001b[0;34m\u001b[0m\u001b[0;34m\u001b[0m\u001b[0m\n\u001b[0m\u001b[1;32m     10\u001b[0m   \u001b[0mstyle_activations_tensor_dict\u001b[0m\u001b[0;34m,\u001b[0m \u001b[0mstyle_activations_array_dict\u001b[0m \u001b[0;34m=\u001b[0m \u001b[0mget_activations_dictionary\u001b[0m\u001b[0;34m(\u001b[0m\u001b[0mSTYLE_LAYERS\u001b[0m\u001b[0;34m,\u001b[0m\u001b[0mstyle_model_outputs\u001b[0m\u001b[0;34m)\u001b[0m\u001b[0;34m\u001b[0m\u001b[0;34m\u001b[0m\u001b[0m\n\u001b[1;32m     11\u001b[0m \u001b[0;34m\u001b[0m\u001b[0m\n",
            "\u001b[0;31mTypeError\u001b[0m: get_activations() missing 1 required positional argument: 'style_layers'"
          ]
        }
      ]
    },
    {
      "cell_type": "markdown",
      "metadata": {
        "id": "_6tOvZy8-4a-",
        "colab_type": "text"
      },
      "source": [
        "# Total Cost Function\n",
        "The total cost function is just a linear combination of the content and style cost functions. \\\\\n",
        "Need to give alpha and beta initial values so that the function can be run without needing to specify them"
      ]
    },
    {
      "cell_type": "code",
      "metadata": {
        "id": "NNzfXNU__Gfr",
        "colab_type": "code",
        "colab": {}
      },
      "source": [
        "def total_cost(J_content, J_style, alpha = 10, beta = 0.4):\n",
        "  \"\"\"\n",
        "  Arguments:\n",
        "      - J_content: the content cost \n",
        "      - J_style: the style cost\n",
        "      - alpha: value with which to scale the content cost\n",
        "      - beta: value with which to scale the style cost\n",
        "  \"\"\"  \n",
        "  \n",
        "  J_total = alpha * J_content + beta * J_style\n",
        "  \n",
        "  return J_total"
      ],
      "execution_count": 0,
      "outputs": []
    },
    {
      "cell_type": "markdown",
      "metadata": {
        "id": "BwJI1U6n3Jo0",
        "colab_type": "text"
      },
      "source": [
        "Testing the **total_cost** function works:"
      ]
    },
    {
      "cell_type": "markdown",
      "metadata": {
        "id": "3FElnyxs2_Vh",
        "colab_type": "text"
      },
      "source": [
        "Attemp 1 at trying to build an algorithm to train the model. \\\\\n",
        "Think i need to have a consistent model defined throughout the process. That is, maybe make the model an input to all the functions and define it at the start of the below session and make sure it is passed through the whole way. "
      ]
    },
    {
      "cell_type": "code",
      "metadata": {
        "id": "KUz6EdZicWaR",
        "colab_type": "code",
        "outputId": "638cedc2-3cbf-4a33-e47a-1f8be46b913f",
        "colab": {
          "base_uri": "https://localhost:8080/",
          "height": 374
        }
      },
      "source": [
        "sess.run(tf.report_uninitialized_variables())"
      ],
      "execution_count": 0,
      "outputs": [
        {
          "output_type": "stream",
          "text": [
            "W0713 00:51:17.488659 139693714438016 deprecation.py:323] From /usr/local/lib/python3.6/dist-packages/tensorflow/python/ops/array_ops.py:1354: add_dispatch_support.<locals>.wrapper (from tensorflow.python.ops.array_ops) is deprecated and will be removed in a future version.\n",
            "Instructions for updating:\n",
            "Use tf.where in 2.0, which has the same broadcast rule as np.where\n"
          ],
          "name": "stderr"
        },
        {
          "output_type": "error",
          "ename": "RuntimeError",
          "evalue": "ignored",
          "traceback": [
            "\u001b[0;31m---------------------------------------------------------------------------\u001b[0m",
            "\u001b[0;31mRuntimeError\u001b[0m                              Traceback (most recent call last)",
            "\u001b[0;32m<ipython-input-44-50ec5afa11d1>\u001b[0m in \u001b[0;36m<module>\u001b[0;34m()\u001b[0m\n\u001b[0;32m----> 1\u001b[0;31m \u001b[0msess\u001b[0m\u001b[0;34m.\u001b[0m\u001b[0mrun\u001b[0m\u001b[0;34m(\u001b[0m\u001b[0mtf\u001b[0m\u001b[0;34m.\u001b[0m\u001b[0mreport_uninitialized_variables\u001b[0m\u001b[0;34m(\u001b[0m\u001b[0;34m)\u001b[0m\u001b[0;34m)\u001b[0m\u001b[0;34m\u001b[0m\u001b[0;34m\u001b[0m\u001b[0m\n\u001b[0m",
            "\u001b[0;32m/usr/local/lib/python3.6/dist-packages/tensorflow/python/client/session.py\u001b[0m in \u001b[0;36mrun\u001b[0;34m(self, fetches, feed_dict, options, run_metadata)\u001b[0m\n\u001b[1;32m    948\u001b[0m     \u001b[0;32mtry\u001b[0m\u001b[0;34m:\u001b[0m\u001b[0;34m\u001b[0m\u001b[0;34m\u001b[0m\u001b[0m\n\u001b[1;32m    949\u001b[0m       result = self._run(None, fetches, feed_dict, options_ptr,\n\u001b[0;32m--> 950\u001b[0;31m                          run_metadata_ptr)\n\u001b[0m\u001b[1;32m    951\u001b[0m       \u001b[0;32mif\u001b[0m \u001b[0mrun_metadata\u001b[0m\u001b[0;34m:\u001b[0m\u001b[0;34m\u001b[0m\u001b[0;34m\u001b[0m\u001b[0m\n\u001b[1;32m    952\u001b[0m         \u001b[0mproto_data\u001b[0m \u001b[0;34m=\u001b[0m \u001b[0mtf_session\u001b[0m\u001b[0;34m.\u001b[0m\u001b[0mTF_GetBuffer\u001b[0m\u001b[0;34m(\u001b[0m\u001b[0mrun_metadata_ptr\u001b[0m\u001b[0;34m)\u001b[0m\u001b[0;34m\u001b[0m\u001b[0;34m\u001b[0m\u001b[0m\n",
            "\u001b[0;32m/usr/local/lib/python3.6/dist-packages/tensorflow/python/client/session.py\u001b[0m in \u001b[0;36m_run\u001b[0;34m(self, handle, fetches, feed_dict, options, run_metadata)\u001b[0m\n\u001b[1;32m   1094\u001b[0m     \u001b[0;31m# Check session.\u001b[0m\u001b[0;34m\u001b[0m\u001b[0;34m\u001b[0m\u001b[0;34m\u001b[0m\u001b[0m\n\u001b[1;32m   1095\u001b[0m     \u001b[0;32mif\u001b[0m \u001b[0mself\u001b[0m\u001b[0;34m.\u001b[0m\u001b[0m_closed\u001b[0m\u001b[0;34m:\u001b[0m\u001b[0;34m\u001b[0m\u001b[0;34m\u001b[0m\u001b[0m\n\u001b[0;32m-> 1096\u001b[0;31m       \u001b[0;32mraise\u001b[0m \u001b[0mRuntimeError\u001b[0m\u001b[0;34m(\u001b[0m\u001b[0;34m'Attempted to use a closed Session.'\u001b[0m\u001b[0;34m)\u001b[0m\u001b[0;34m\u001b[0m\u001b[0;34m\u001b[0m\u001b[0m\n\u001b[0m\u001b[1;32m   1097\u001b[0m     \u001b[0;32mif\u001b[0m \u001b[0mself\u001b[0m\u001b[0;34m.\u001b[0m\u001b[0mgraph\u001b[0m\u001b[0;34m.\u001b[0m\u001b[0mversion\u001b[0m \u001b[0;34m==\u001b[0m \u001b[0;36m0\u001b[0m\u001b[0;34m:\u001b[0m\u001b[0;34m\u001b[0m\u001b[0;34m\u001b[0m\u001b[0m\n\u001b[1;32m   1098\u001b[0m       raise RuntimeError('The Session graph is empty.  Add operations to the '\n",
            "\u001b[0;31mRuntimeError\u001b[0m: Attempted to use a closed Session."
          ]
        }
      ]
    },
    {
      "cell_type": "markdown",
      "metadata": {
        "id": "rkGITAndbWJr",
        "colab_type": "text"
      },
      "source": [
        "Testing how sessions and graphs work"
      ]
    },
    {
      "cell_type": "code",
      "metadata": {
        "id": "juMnldtAcfqu",
        "colab_type": "code",
        "outputId": "bbe062b1-fab7-4ead-82d1-322e42ee28e8",
        "colab": {
          "base_uri": "https://localhost:8080/",
          "height": 52
        }
      },
      "source": [
        "import tensorflow as tf\n",
        "\n",
        "graph1 = tf.Graph()\n",
        "graph2 = tf.Graph()\n",
        "\n",
        "with graph1.as_default() as graph:\n",
        "  a = tf.constant(0, name='a')\n",
        "  graph1_init_op = tf.global_variables_initializer()\n",
        "\n",
        "with graph2.as_default() as graph:\n",
        "  a = tf.constant(1, name='a')\n",
        "  graph2_init_op = tf.global_variables_initializer()\n",
        "\n",
        "sess1 = tf.Session(graph=graph1)\n",
        "sess2 = tf.Session(graph=graph2)\n",
        "sess1.run(graph1_init_op)\n",
        "sess2.run(graph2_init_op)\n",
        "\n",
        "# Both tensor names are a!\n",
        "print(sess1.run(graph1.get_tensor_by_name('a:0'))) # prints 0\n",
        "print(sess2.run(graph2.get_tensor_by_name('a:0'))) # prints 1"
      ],
      "execution_count": 0,
      "outputs": [
        {
          "output_type": "stream",
          "text": [
            "0\n",
            "1\n"
          ],
          "name": "stdout"
        }
      ]
    },
    {
      "cell_type": "code",
      "metadata": {
        "id": "BUzgHQ7svxGS",
        "colab_type": "code",
        "outputId": "4b3314f5-bc70-4fb2-d7e8-467134c9cafd",
        "colab": {
          "base_uri": "https://localhost:8080/",
          "height": 899
        }
      },
      "source": [
        "tf.reset_default_graph()\n",
        "sess = tf.InteractiveSession()\n",
        "with sess.as_default():\n",
        "  \n",
        "  # Load our model which uses the pretrained VGG19, trained on imagenet data\n",
        "  # and only outputs the activations for the provided content and style layers\n",
        "  model = define_model(CONTENT_LAYERS, STYLE_LAYERS)\n",
        "  model.layers[0].trainable = True\n",
        "#   input_1.trainable = True\n",
        "  print(model.summary())"
      ],
      "execution_count": 0,
      "outputs": [
        {
          "output_type": "stream",
          "text": [
            "/usr/local/lib/python3.6/dist-packages/tensorflow/python/client/session.py:1735: UserWarning: An interactive session is already active. This can cause out-of-memory errors in some cases. You must explicitly call `InteractiveSession.close()` to release resources held by the other session(s).\n",
            "  warnings.warn('An interactive session is already active. This can '\n"
          ],
          "name": "stderr"
        },
        {
          "output_type": "stream",
          "text": [
            "Model: \"model\"\n",
            "_________________________________________________________________\n",
            "Layer (type)                 Output Shape              Param #   \n",
            "=================================================================\n",
            "input_1 (InputLayer)         [(None, 300, 400, 3)]     0         \n",
            "_________________________________________________________________\n",
            "block1_conv1 (Conv2D)        (None, 300, 400, 64)      1792      \n",
            "_________________________________________________________________\n",
            "block1_conv2 (Conv2D)        (None, 300, 400, 64)      36928     \n",
            "_________________________________________________________________\n",
            "block1_pool (MaxPooling2D)   (None, 150, 200, 64)      0         \n",
            "_________________________________________________________________\n",
            "block2_conv1 (Conv2D)        (None, 150, 200, 128)     73856     \n",
            "_________________________________________________________________\n",
            "block2_conv2 (Conv2D)        (None, 150, 200, 128)     147584    \n",
            "_________________________________________________________________\n",
            "block2_pool (MaxPooling2D)   (None, 75, 100, 128)      0         \n",
            "_________________________________________________________________\n",
            "block3_conv1 (Conv2D)        (None, 75, 100, 256)      295168    \n",
            "_________________________________________________________________\n",
            "block3_conv2 (Conv2D)        (None, 75, 100, 256)      590080    \n",
            "_________________________________________________________________\n",
            "block3_conv3 (Conv2D)        (None, 75, 100, 256)      590080    \n",
            "_________________________________________________________________\n",
            "block3_conv4 (Conv2D)        (None, 75, 100, 256)      590080    \n",
            "_________________________________________________________________\n",
            "block3_pool (MaxPooling2D)   (None, 37, 50, 256)       0         \n",
            "_________________________________________________________________\n",
            "block4_conv1 (Conv2D)        (None, 37, 50, 512)       1180160   \n",
            "_________________________________________________________________\n",
            "block4_conv2 (Conv2D)        (None, 37, 50, 512)       2359808   \n",
            "_________________________________________________________________\n",
            "block4_conv3 (Conv2D)        (None, 37, 50, 512)       2359808   \n",
            "_________________________________________________________________\n",
            "block4_conv4 (Conv2D)        (None, 37, 50, 512)       2359808   \n",
            "_________________________________________________________________\n",
            "block4_pool (MaxPooling2D)   (None, 18, 25, 512)       0         \n",
            "_________________________________________________________________\n",
            "block5_conv1 (Conv2D)        (None, 18, 25, 512)       2359808   \n",
            "_________________________________________________________________\n",
            "block5_conv2 (Conv2D)        (None, 18, 25, 512)       2359808   \n",
            "=================================================================\n",
            "Total params: 15,304,768\n",
            "Trainable params: 0\n",
            "Non-trainable params: 15,304,768\n",
            "_________________________________________________________________\n",
            "None\n"
          ],
          "name": "stdout"
        }
      ]
    },
    {
      "cell_type": "code",
      "metadata": {
        "id": "quy0e1qFzbyj",
        "colab_type": "code",
        "colab": {}
      },
      "source": [
        ""
      ],
      "execution_count": 0,
      "outputs": []
    },
    {
      "cell_type": "code",
      "metadata": {
        "id": "Ngy4PdCoZrHI",
        "colab_type": "code",
        "outputId": "342e96b8-7a85-40fc-bf37-b054ee94dcc1",
        "colab": {
          "base_uri": "https://localhost:8080/",
          "height": 195
        }
      },
      "source": [
        "print(image.get_shape().as_list())\n",
        "print(style_image.get_shape().as_list())\n",
        "print(content_image.get_shape().as_list())"
      ],
      "execution_count": 0,
      "outputs": [
        {
          "output_type": "error",
          "ename": "NameError",
          "evalue": "ignored",
          "traceback": [
            "\u001b[0;31m---------------------------------------------------------------------------\u001b[0m",
            "\u001b[0;31mNameError\u001b[0m                                 Traceback (most recent call last)",
            "\u001b[0;32m<ipython-input-36-45518bb17c8c>\u001b[0m in \u001b[0;36m<module>\u001b[0;34m()\u001b[0m\n\u001b[0;32m----> 1\u001b[0;31m \u001b[0mprint\u001b[0m\u001b[0;34m(\u001b[0m\u001b[0mimage\u001b[0m\u001b[0;34m.\u001b[0m\u001b[0mget_shape\u001b[0m\u001b[0;34m(\u001b[0m\u001b[0;34m)\u001b[0m\u001b[0;34m.\u001b[0m\u001b[0mas_list\u001b[0m\u001b[0;34m(\u001b[0m\u001b[0;34m)\u001b[0m\u001b[0;34m)\u001b[0m\u001b[0;34m\u001b[0m\u001b[0;34m\u001b[0m\u001b[0m\n\u001b[0m\u001b[1;32m      2\u001b[0m \u001b[0mprint\u001b[0m\u001b[0;34m(\u001b[0m\u001b[0mstyle_image\u001b[0m\u001b[0;34m.\u001b[0m\u001b[0mget_shape\u001b[0m\u001b[0;34m(\u001b[0m\u001b[0;34m)\u001b[0m\u001b[0;34m.\u001b[0m\u001b[0mas_list\u001b[0m\u001b[0;34m(\u001b[0m\u001b[0;34m)\u001b[0m\u001b[0;34m)\u001b[0m\u001b[0;34m\u001b[0m\u001b[0;34m\u001b[0m\u001b[0m\n\u001b[1;32m      3\u001b[0m \u001b[0mprint\u001b[0m\u001b[0;34m(\u001b[0m\u001b[0mcontent_image\u001b[0m\u001b[0;34m.\u001b[0m\u001b[0mget_shape\u001b[0m\u001b[0;34m(\u001b[0m\u001b[0;34m)\u001b[0m\u001b[0;34m.\u001b[0m\u001b[0mas_list\u001b[0m\u001b[0;34m(\u001b[0m\u001b[0;34m)\u001b[0m\u001b[0;34m)\u001b[0m\u001b[0;34m\u001b[0m\u001b[0;34m\u001b[0m\u001b[0m\n",
            "\u001b[0;31mNameError\u001b[0m: name 'image' is not defined"
          ]
        }
      ]
    },
    {
      "cell_type": "code",
      "metadata": {
        "id": "xFiGx2xEsjEr",
        "colab_type": "code",
        "outputId": "5121339b-cffc-402c-a330-5f0203128bfe",
        "colab": {
          "base_uri": "https://localhost:8080/",
          "height": 158
        }
      },
      "source": [
        "# Testing adding channel values\n",
        "az = tf.constant([[[[103.939, 116.779,123.68]]]])\n",
        "print(az.get_shape().as_list())\n",
        "\n",
        "wilson = tf.constant([[[[1.0,2.0,3.0],[10.0,10.0,10.0]]]])\n",
        "print(wilson.get_shape().as_list())\n",
        "\n",
        "full = az + wilson\n",
        "\n",
        "full_clipped = tf.clip_by_value(full, clip_value_min=105.0, clip_value_max=120.0)\n",
        "\n",
        "init_op = tf.global_variables_initializer()\n",
        "\n",
        "with tf.Session() as sess1:\n",
        "    # ***initialization of all variables... NOTE this must be done before running any further sessions!***\n",
        "    sess1.run(init_op)\n",
        "    sess1.run(full_clipped)\n",
        "    print(full.get_shape().as_list())\n",
        "    print(full.eval())\n",
        "    print(full_clipped.get_shape().as_list())\n",
        "    print(full_clipped.eval())"
      ],
      "execution_count": 0,
      "outputs": [
        {
          "output_type": "stream",
          "text": [
            "[1, 1, 1, 3]\n",
            "[1, 1, 2, 3]\n",
            "[1, 1, 2, 3]\n",
            "[[[[104.939 118.779 126.68 ]\n",
            "   [113.939 126.779 133.68 ]]]]\n",
            "[1, 1, 2, 3]\n",
            "[[[[105.    118.779 120.   ]\n",
            "   [113.939 120.    120.   ]]]]\n"
          ],
          "name": "stdout"
        }
      ]
    },
    {
      "cell_type": "markdown",
      "metadata": {
        "id": "OmrFgZbNkbSi",
        "colab_type": "text"
      },
      "source": [
        "maybe I need to normalise the activations so the cost doesnt blow up"
      ]
    },
    {
      "cell_type": "code",
      "metadata": {
        "colab_type": "code",
        "outputId": "5761a648-1fc7-4fbd-e5b5-9940281ba22c",
        "id": "tBIu376CzcSw",
        "colab": {
          "base_uri": "https://localhost:8080/",
          "height": 1000
        }
      },
      "source": [
        "# Reset the graph\n",
        "tf.reset_default_graph()\n",
        "\n",
        "with tf.Session() as sess:\n",
        "  \n",
        "  writer = tf.summary.FileWriter(\"./logs\",sess.graph)\n",
        "\n",
        "  # Create initial generated image  \n",
        "  image = tf.get_variable(\"image\",initializer=tf.convert_to_tensor(generated_images_dict['image6'], dtype=tf.float32))\n",
        "  \n",
        "  def clip_0_255(image):\n",
        "    image = image + tf.constant([[[[103.939, 116.779,123.68]]]])\n",
        "    image =  tf.clip_by_value(image, clip_value_min=0.0, clip_value_max=255.0)\n",
        "    image = image.eval()\n",
        "    return preprocess_input(image)\n",
        "\n",
        "  # Load our model which uses the pretrained VGG19, trained on imagenet data\n",
        "  # and only outputs the activations for the provided content and style layers\n",
        "  model = define_model(CONTENT_LAYERS, STYLE_LAYERS)\n",
        "\n",
        "  # Activations from style image required to calculate Style Cost\n",
        "  style_image = tf.convert_to_tensor(style_images_dict['image3'])\n",
        "  style_c_outputs, style_s_outputs = get_activations(model, style_image, CONTENT_LAYERS, STYLE_LAYERS)\n",
        "  sess.run(style_s_outputs)\n",
        "  style_activations_tensor_dict = get_activations_dictionary(STYLE_LAYERS, style_s_outputs)\n",
        "\n",
        "  # Activations from content image required to calculate Content Cost\n",
        "  content_image = tf.convert_to_tensor(content_images_dict['image6'])\n",
        "  content_c_outputs, content_s_outputs = get_activations(model, content_image, CONTENT_LAYERS, STYLE_LAYERS)\n",
        "  sess.run(content_c_outputs)\n",
        "  content_activations_tensor_dict = get_activations_dictionary(CONTENT_LAYERS,content_c_outputs)\n",
        "\n",
        "  # Feed image variable to the model so we can get the activations\n",
        "  model_outputs = model(image)\n",
        "\n",
        "  # Splitting the outputs into content and style outputs\n",
        "  generated_c_outputs = [layer[0] for layer in model_outputs[:len(CONTENT_LAYERS)]]\n",
        "  generated_s_outputs = [layer[0] for layer in model_outputs[len(CONTENT_LAYERS):]]\n",
        "  generated_c_activations_tensor_dict = get_activations_dictionary(CONTENT_LAYERS,generated_c_outputs)\n",
        "  generated_s_activations_tensor_dict = get_activations_dictionary(STYLE_LAYERS,generated_s_outputs)\n",
        "\n",
        "  # Calculating the loss function\n",
        "  J_content = content_cost(content_activations_tensor_dict['block5_conv2'],generated_c_activations_tensor_dict['block5_conv2'])\n",
        "  J_style = style_cost(style_s_outputs,generated_s_outputs,STYLE_LAYERS)\n",
        "  J_total = total_cost(J_content, J_style)\n",
        "\n",
        "  # Define the optimiser\n",
        "  optimizer = tf.train.AdamOptimizer(learning_rate=0.2, beta1=0.99, beta2=0.999, epsilon=1e-1)\n",
        "\n",
        "  # Specifying to apply the optimiser to minise the loss J_total\n",
        "  train_step = optimizer.minimize(J_total)\n",
        "\n",
        "  # Required to initialise the tf variables\n",
        "  init_op = tf.global_variables_initializer()\n",
        "\n",
        "  # ***initialization of all variables... NOTE this must be done before running any further sessions!***\n",
        "  sess.run(init_op)\n",
        "  \n",
        "  sess.run(model(image))\n",
        "\n",
        "#   start = image.eval()\n",
        "\n",
        "  for i in range(2):\n",
        "\n",
        "    # This piece of code is what updates the weights variable X\n",
        "    sess.run(train_step)\n",
        "    Jt, Jc, Js = sess.run([J_total, J_content, J_style])\n",
        "    print(\"Iteration \" + str(i) + \" :\")\n",
        "    print(\"total cost = \" + str(Jt))\n",
        "    print(\"content cost = \" + str(Jc))\n",
        "    print(\"style cost = \" + str(Js))\n",
        "    \n",
        "#     if i == 0:\n",
        "#       iteration1 = image.eval()\n",
        "#     elif i == 1:\n",
        "#       iteration2 = image.eval()\n",
        "#     else:\n",
        "#       iteration3 = image.eval() \n",
        "      \n",
        "    sess.run(image.assign(clip_0_255(image)))\n",
        "    sess.run(model(image))\n",
        "    print(image.get_shape().as_list())\n",
        "    # Printing the value of X every 20 iterations\n",
        "#       if i%20 == 0:\n",
        "#         print('Iterartion ' + str(i) + ' X = ' + str(X.eval()))\n",
        "\n",
        "  gen = image\n",
        "  print(gen.eval())\n",
        "  \n",
        "  writer.close()\n",
        "\n",
        "  "
      ],
      "execution_count": 0,
      "outputs": [
        {
          "output_type": "stream",
          "text": [
            "Iteration 0 :\n",
            "total cost = 1131704.5\n",
            "content cost = 0.055600613\n",
            "style cost = 2829260.0\n",
            "[1, 300, 400, 3]\n",
            "Iteration 1 :\n",
            "total cost = 167589.4\n",
            "content cost = 3.177605e-05\n",
            "style cost = 418973.5\n",
            "[1, 300, 400, 3]\n",
            "[[[[ 35.43084     14.829964    -5.7512054 ]\n",
            "   [ 37.00103     -2.2469406   -8.97123   ]\n",
            "   [ 23.099426    -1.7417297    1.1214142 ]\n",
            "   ...\n",
            "   [ 25.80909      9.650764    -1.1985397 ]\n",
            "   [ 28.892525    14.38282     -6.4171906 ]\n",
            "   [ 28.084068     7.463333    11.933388  ]]\n",
            "\n",
            "  [[ 22.88073      0.6802521  -11.746323  ]\n",
            "   [ 22.12999     14.206245    -7.5690536 ]\n",
            "   [ 37.897453    15.09771     -1.5683365 ]\n",
            "   ...\n",
            "   [ 38.5299       6.6999435   11.901024  ]\n",
            "   [ 35.96807     11.3057785    8.889885  ]\n",
            "   [ 25.136116    25.395653     5.85717   ]]\n",
            "\n",
            "  [[ 41.346138    13.265266     8.874184  ]\n",
            "   [ 30.709496    17.471138     7.0252457 ]\n",
            "   [ 18.995438     3.7276764  -15.06266   ]\n",
            "   ...\n",
            "   [ 23.63855      9.92852      9.896263  ]\n",
            "   [ 29.448586    19.894798    13.843025  ]\n",
            "   [ 21.551048     5.9059296   -2.5953674 ]]\n",
            "\n",
            "  ...\n",
            "\n",
            "  [[-33.155228   -15.3088455  -21.42334   ]\n",
            "   [-31.982574   -20.740372    -9.23597   ]\n",
            "   [-37.414276   -24.06916    -21.323967  ]\n",
            "   ...\n",
            "   [-42.01314    -32.552338   -22.931389  ]\n",
            "   [-43.285465   -41.872185   -25.105957  ]\n",
            "   [-44.5375     -43.18232    -19.241386  ]]\n",
            "\n",
            "  [[-21.283302     2.4711075   -0.57961273]\n",
            "   [-33.383247   -24.662666   -14.644485  ]\n",
            "   [-26.383522   -17.418648   -19.304802  ]\n",
            "   ...\n",
            "   [-32.647545   -32.763916   -28.603104  ]\n",
            "   [-42.341896   -34.545677   -35.086967  ]\n",
            "   [-28.757774   -42.37525    -30.24067   ]]\n",
            "\n",
            "  [[ -4.6299057    6.5779877   15.798363  ]\n",
            "   [-13.216316   -12.567535    -4.2806168 ]\n",
            "   [-23.368309    -2.7837067  -12.010231  ]\n",
            "   ...\n",
            "   [-31.328796   -34.085472   -42.263786  ]\n",
            "   [-29.99308    -41.740242   -44.575592  ]\n",
            "   [-35.59751    -39.166557   -44.744698  ]]]]\n"
          ],
          "name": "stdout"
        }
      ]
    },
    {
      "cell_type": "code",
      "metadata": {
        "id": "D_BEvxulsrq4",
        "colab_type": "code",
        "outputId": "025ccd73-1d15-4bf5-c4a4-68d5b94723aa",
        "colab": {
          "base_uri": "https://localhost:8080/",
          "height": 105
        }
      },
      "source": [
        "!pip install -q tf-nightly-2.0-preview\n",
        "# Load the TensorBoard notebook extension\n",
        "%load_ext tensorboard"
      ],
      "execution_count": 0,
      "outputs": [
        {
          "output_type": "stream",
          "text": [
            "\u001b[K     |████████████████████████████████| 79.1MB 320kB/s \n",
            "\u001b[K     |████████████████████████████████| 3.9MB 44.8MB/s \n",
            "\u001b[K     |████████████████████████████████| 61kB 19.6MB/s \n",
            "\u001b[K     |████████████████████████████████| 460kB 38.2MB/s \n",
            "\u001b[?25h  Building wheel for opt-einsum (setup.py) ... \u001b[?25l\u001b[?25hdone\n"
          ],
          "name": "stdout"
        }
      ]
    },
    {
      "cell_type": "code",
      "metadata": {
        "id": "IOx4Mzj5377W",
        "colab_type": "code",
        "outputId": "28b3c429-3821-4945-e833-2781290034ff",
        "colab": {
          "base_uri": "https://localhost:8080/",
          "height": 1000
        }
      },
      "source": [
        "%tensorboard --logdir logs"
      ],
      "execution_count": 0,
      "outputs": [
        {
          "output_type": "display_data",
          "data": {
            "text/plain": [
              "ERROR: Timed out waiting for TensorBoard to start. It may still be running as pid 1419."
            ]
          },
          "metadata": {
            "tags": []
          }
        },
        {
          "output_type": "stream",
          "text": [
            "W0714 05:10:08.834048 140554220246912 manager.py:321] invalid info file: '/tmp/.tensorboard-info/pid-1369.info'\n",
            "Traceback (most recent call last):\n",
            "  File \"/usr/local/lib/python3.6/dist-packages/tensorboard/manager.py\", line 316, in get_all\n",
            "    info = _info_from_string(contents)\n",
            "  File \"/usr/local/lib/python3.6/dist-packages/tensorboard/manager.py\", line 155, in _info_from_string\n",
            "    raise ValueError(\"incompatible version: %r\" % (json_value,))\n",
            "ValueError: incompatible version: {'cache_key': 'eyJhcmd1bWVudHMiOlsiLS1sb2dkaXIiLCJsb2dzIl0sImNvbmZpZ3VyZV9rd2FyZ3MiOnt9LCJ3b3JraW5nX2RpcmVjdG9yeSI6Ii9jb250ZW50In0=', 'db': '', 'logdir': 'logs', 'path_prefix': '', 'pid': 1369, 'port': 6006, 'start_time': 1563080809, 'version': '1.15.0a20190713'}\n",
            "W0714 05:10:09.398949 140554220246912 manager.py:321] invalid info file: '/tmp/.tensorboard-info/pid-1369.info'\n",
            "Traceback (most recent call last):\n",
            "  File \"/usr/local/lib/python3.6/dist-packages/tensorboard/manager.py\", line 316, in get_all\n",
            "    info = _info_from_string(contents)\n",
            "  File \"/usr/local/lib/python3.6/dist-packages/tensorboard/manager.py\", line 155, in _info_from_string\n",
            "    raise ValueError(\"incompatible version: %r\" % (json_value,))\n",
            "ValueError: incompatible version: {'cache_key': 'eyJhcmd1bWVudHMiOlsiLS1sb2dkaXIiLCJsb2dzIl0sImNvbmZpZ3VyZV9rd2FyZ3MiOnt9LCJ3b3JraW5nX2RpcmVjdG9yeSI6Ii9jb250ZW50In0=', 'db': '', 'logdir': 'logs', 'path_prefix': '', 'pid': 1369, 'port': 6006, 'start_time': 1563080809, 'version': '1.15.0a20190713'}\n",
            "W0714 05:10:09.905303 140554220246912 manager.py:321] invalid info file: '/tmp/.tensorboard-info/pid-1369.info'\n",
            "Traceback (most recent call last):\n",
            "  File \"/usr/local/lib/python3.6/dist-packages/tensorboard/manager.py\", line 316, in get_all\n",
            "    info = _info_from_string(contents)\n",
            "  File \"/usr/local/lib/python3.6/dist-packages/tensorboard/manager.py\", line 155, in _info_from_string\n",
            "    raise ValueError(\"incompatible version: %r\" % (json_value,))\n",
            "ValueError: incompatible version: {'cache_key': 'eyJhcmd1bWVudHMiOlsiLS1sb2dkaXIiLCJsb2dzIl0sImNvbmZpZ3VyZV9rd2FyZ3MiOnt9LCJ3b3JraW5nX2RpcmVjdG9yeSI6Ii9jb250ZW50In0=', 'db': '', 'logdir': 'logs', 'path_prefix': '', 'pid': 1369, 'port': 6006, 'start_time': 1563080809, 'version': '1.15.0a20190713'}\n",
            "W0714 05:10:10.408159 140554220246912 manager.py:321] invalid info file: '/tmp/.tensorboard-info/pid-1369.info'\n",
            "Traceback (most recent call last):\n",
            "  File \"/usr/local/lib/python3.6/dist-packages/tensorboard/manager.py\", line 316, in get_all\n",
            "    info = _info_from_string(contents)\n",
            "  File \"/usr/local/lib/python3.6/dist-packages/tensorboard/manager.py\", line 155, in _info_from_string\n",
            "    raise ValueError(\"incompatible version: %r\" % (json_value,))\n",
            "ValueError: incompatible version: {'cache_key': 'eyJhcmd1bWVudHMiOlsiLS1sb2dkaXIiLCJsb2dzIl0sImNvbmZpZ3VyZV9rd2FyZ3MiOnt9LCJ3b3JraW5nX2RpcmVjdG9yeSI6Ii9jb250ZW50In0=', 'db': '', 'logdir': 'logs', 'path_prefix': '', 'pid': 1369, 'port': 6006, 'start_time': 1563080809, 'version': '1.15.0a20190713'}\n",
            "W0714 05:10:10.911231 140554220246912 manager.py:321] invalid info file: '/tmp/.tensorboard-info/pid-1369.info'\n",
            "Traceback (most recent call last):\n",
            "  File \"/usr/local/lib/python3.6/dist-packages/tensorboard/manager.py\", line 316, in get_all\n",
            "    info = _info_from_string(contents)\n",
            "  File \"/usr/local/lib/python3.6/dist-packages/tensorboard/manager.py\", line 155, in _info_from_string\n",
            "    raise ValueError(\"incompatible version: %r\" % (json_value,))\n",
            "ValueError: incompatible version: {'cache_key': 'eyJhcmd1bWVudHMiOlsiLS1sb2dkaXIiLCJsb2dzIl0sImNvbmZpZ3VyZV9rd2FyZ3MiOnt9LCJ3b3JraW5nX2RpcmVjdG9yeSI6Ii9jb250ZW50In0=', 'db': '', 'logdir': 'logs', 'path_prefix': '', 'pid': 1369, 'port': 6006, 'start_time': 1563080809, 'version': '1.15.0a20190713'}\n",
            "W0714 05:10:11.418092 140554220246912 manager.py:321] invalid info file: '/tmp/.tensorboard-info/pid-1369.info'\n",
            "Traceback (most recent call last):\n",
            "  File \"/usr/local/lib/python3.6/dist-packages/tensorboard/manager.py\", line 316, in get_all\n",
            "    info = _info_from_string(contents)\n",
            "  File \"/usr/local/lib/python3.6/dist-packages/tensorboard/manager.py\", line 155, in _info_from_string\n",
            "    raise ValueError(\"incompatible version: %r\" % (json_value,))\n",
            "ValueError: incompatible version: {'cache_key': 'eyJhcmd1bWVudHMiOlsiLS1sb2dkaXIiLCJsb2dzIl0sImNvbmZpZ3VyZV9rd2FyZ3MiOnt9LCJ3b3JraW5nX2RpcmVjdG9yeSI6Ii9jb250ZW50In0=', 'db': '', 'logdir': 'logs', 'path_prefix': '', 'pid': 1369, 'port': 6006, 'start_time': 1563080809, 'version': '1.15.0a20190713'}\n",
            "W0714 05:10:11.921005 140554220246912 manager.py:321] invalid info file: '/tmp/.tensorboard-info/pid-1419.info'\n",
            "Traceback (most recent call last):\n",
            "  File \"/usr/local/lib/python3.6/dist-packages/tensorboard/manager.py\", line 316, in get_all\n",
            "    info = _info_from_string(contents)\n",
            "  File \"/usr/local/lib/python3.6/dist-packages/tensorboard/manager.py\", line 155, in _info_from_string\n",
            "    raise ValueError(\"incompatible version: %r\" % (json_value,))\n",
            "ValueError: incompatible version: {'cache_key': 'eyJhcmd1bWVudHMiOlsiLS1sb2dkaXIiLCJsb2dzIl0sImNvbmZpZ3VyZV9rd2FyZ3MiOnt9LCJ3b3JraW5nX2RpcmVjdG9yeSI6Ii9jb250ZW50In0=', 'db': '', 'logdir': 'logs', 'path_prefix': '', 'pid': 1419, 'port': 6007, 'start_time': 1563081011, 'version': '1.15.0a20190713'}\n",
            "W0714 05:10:11.922614 140554220246912 manager.py:321] invalid info file: '/tmp/.tensorboard-info/pid-1369.info'\n",
            "Traceback (most recent call last):\n",
            "  File \"/usr/local/lib/python3.6/dist-packages/tensorboard/manager.py\", line 316, in get_all\n",
            "    info = _info_from_string(contents)\n",
            "  File \"/usr/local/lib/python3.6/dist-packages/tensorboard/manager.py\", line 155, in _info_from_string\n",
            "    raise ValueError(\"incompatible version: %r\" % (json_value,))\n",
            "ValueError: incompatible version: {'cache_key': 'eyJhcmd1bWVudHMiOlsiLS1sb2dkaXIiLCJsb2dzIl0sImNvbmZpZ3VyZV9rd2FyZ3MiOnt9LCJ3b3JraW5nX2RpcmVjdG9yeSI6Ii9jb250ZW50In0=', 'db': '', 'logdir': 'logs', 'path_prefix': '', 'pid': 1369, 'port': 6006, 'start_time': 1563080809, 'version': '1.15.0a20190713'}\n",
            "W0714 05:10:12.425184 140554220246912 manager.py:321] invalid info file: '/tmp/.tensorboard-info/pid-1419.info'\n",
            "Traceback (most recent call last):\n",
            "  File \"/usr/local/lib/python3.6/dist-packages/tensorboard/manager.py\", line 316, in get_all\n",
            "    info = _info_from_string(contents)\n",
            "  File \"/usr/local/lib/python3.6/dist-packages/tensorboard/manager.py\", line 155, in _info_from_string\n",
            "    raise ValueError(\"incompatible version: %r\" % (json_value,))\n",
            "ValueError: incompatible version: {'cache_key': 'eyJhcmd1bWVudHMiOlsiLS1sb2dkaXIiLCJsb2dzIl0sImNvbmZpZ3VyZV9rd2FyZ3MiOnt9LCJ3b3JraW5nX2RpcmVjdG9yeSI6Ii9jb250ZW50In0=', 'db': '', 'logdir': 'logs', 'path_prefix': '', 'pid': 1419, 'port': 6007, 'start_time': 1563081011, 'version': '1.15.0a20190713'}\n",
            "W0714 05:10:12.427147 140554220246912 manager.py:321] invalid info file: '/tmp/.tensorboard-info/pid-1369.info'\n",
            "Traceback (most recent call last):\n",
            "  File \"/usr/local/lib/python3.6/dist-packages/tensorboard/manager.py\", line 316, in get_all\n",
            "    info = _info_from_string(contents)\n",
            "  File \"/usr/local/lib/python3.6/dist-packages/tensorboard/manager.py\", line 155, in _info_from_string\n",
            "    raise ValueError(\"incompatible version: %r\" % (json_value,))\n",
            "ValueError: incompatible version: {'cache_key': 'eyJhcmd1bWVudHMiOlsiLS1sb2dkaXIiLCJsb2dzIl0sImNvbmZpZ3VyZV9rd2FyZ3MiOnt9LCJ3b3JraW5nX2RpcmVjdG9yeSI6Ii9jb250ZW50In0=', 'db': '', 'logdir': 'logs', 'path_prefix': '', 'pid': 1369, 'port': 6006, 'start_time': 1563080809, 'version': '1.15.0a20190713'}\n",
            "W0714 05:10:12.931525 140554220246912 manager.py:321] invalid info file: '/tmp/.tensorboard-info/pid-1419.info'\n",
            "Traceback (most recent call last):\n",
            "  File \"/usr/local/lib/python3.6/dist-packages/tensorboard/manager.py\", line 316, in get_all\n",
            "    info = _info_from_string(contents)\n",
            "  File \"/usr/local/lib/python3.6/dist-packages/tensorboard/manager.py\", line 155, in _info_from_string\n",
            "    raise ValueError(\"incompatible version: %r\" % (json_value,))\n",
            "ValueError: incompatible version: {'cache_key': 'eyJhcmd1bWVudHMiOlsiLS1sb2dkaXIiLCJsb2dzIl0sImNvbmZpZ3VyZV9rd2FyZ3MiOnt9LCJ3b3JraW5nX2RpcmVjdG9yeSI6Ii9jb250ZW50In0=', 'db': '', 'logdir': 'logs', 'path_prefix': '', 'pid': 1419, 'port': 6007, 'start_time': 1563081011, 'version': '1.15.0a20190713'}\n",
            "W0714 05:10:12.933470 140554220246912 manager.py:321] invalid info file: '/tmp/.tensorboard-info/pid-1369.info'\n",
            "Traceback (most recent call last):\n",
            "  File \"/usr/local/lib/python3.6/dist-packages/tensorboard/manager.py\", line 316, in get_all\n",
            "    info = _info_from_string(contents)\n",
            "  File \"/usr/local/lib/python3.6/dist-packages/tensorboard/manager.py\", line 155, in _info_from_string\n",
            "    raise ValueError(\"incompatible version: %r\" % (json_value,))\n",
            "ValueError: incompatible version: {'cache_key': 'eyJhcmd1bWVudHMiOlsiLS1sb2dkaXIiLCJsb2dzIl0sImNvbmZpZ3VyZV9rd2FyZ3MiOnt9LCJ3b3JraW5nX2RpcmVjdG9yeSI6Ii9jb250ZW50In0=', 'db': '', 'logdir': 'logs', 'path_prefix': '', 'pid': 1369, 'port': 6006, 'start_time': 1563080809, 'version': '1.15.0a20190713'}\n",
            "W0714 05:10:13.437907 140554220246912 manager.py:321] invalid info file: '/tmp/.tensorboard-info/pid-1419.info'\n",
            "Traceback (most recent call last):\n",
            "  File \"/usr/local/lib/python3.6/dist-packages/tensorboard/manager.py\", line 316, in get_all\n",
            "    info = _info_from_string(contents)\n",
            "  File \"/usr/local/lib/python3.6/dist-packages/tensorboard/manager.py\", line 155, in _info_from_string\n",
            "    raise ValueError(\"incompatible version: %r\" % (json_value,))\n",
            "ValueError: incompatible version: {'cache_key': 'eyJhcmd1bWVudHMiOlsiLS1sb2dkaXIiLCJsb2dzIl0sImNvbmZpZ3VyZV9rd2FyZ3MiOnt9LCJ3b3JraW5nX2RpcmVjdG9yeSI6Ii9jb250ZW50In0=', 'db': '', 'logdir': 'logs', 'path_prefix': '', 'pid': 1419, 'port': 6007, 'start_time': 1563081011, 'version': '1.15.0a20190713'}\n",
            "W0714 05:10:13.439531 140554220246912 manager.py:321] invalid info file: '/tmp/.tensorboard-info/pid-1369.info'\n",
            "Traceback (most recent call last):\n",
            "  File \"/usr/local/lib/python3.6/dist-packages/tensorboard/manager.py\", line 316, in get_all\n",
            "    info = _info_from_string(contents)\n",
            "  File \"/usr/local/lib/python3.6/dist-packages/tensorboard/manager.py\", line 155, in _info_from_string\n",
            "    raise ValueError(\"incompatible version: %r\" % (json_value,))\n",
            "ValueError: incompatible version: {'cache_key': 'eyJhcmd1bWVudHMiOlsiLS1sb2dkaXIiLCJsb2dzIl0sImNvbmZpZ3VyZV9rd2FyZ3MiOnt9LCJ3b3JraW5nX2RpcmVjdG9yeSI6Ii9jb250ZW50In0=', 'db': '', 'logdir': 'logs', 'path_prefix': '', 'pid': 1369, 'port': 6006, 'start_time': 1563080809, 'version': '1.15.0a20190713'}\n",
            "W0714 05:10:13.941786 140554220246912 manager.py:321] invalid info file: '/tmp/.tensorboard-info/pid-1419.info'\n",
            "Traceback (most recent call last):\n",
            "  File \"/usr/local/lib/python3.6/dist-packages/tensorboard/manager.py\", line 316, in get_all\n",
            "    info = _info_from_string(contents)\n",
            "  File \"/usr/local/lib/python3.6/dist-packages/tensorboard/manager.py\", line 155, in _info_from_string\n",
            "    raise ValueError(\"incompatible version: %r\" % (json_value,))\n",
            "ValueError: incompatible version: {'cache_key': 'eyJhcmd1bWVudHMiOlsiLS1sb2dkaXIiLCJsb2dzIl0sImNvbmZpZ3VyZV9rd2FyZ3MiOnt9LCJ3b3JraW5nX2RpcmVjdG9yeSI6Ii9jb250ZW50In0=', 'db': '', 'logdir': 'logs', 'path_prefix': '', 'pid': 1419, 'port': 6007, 'start_time': 1563081011, 'version': '1.15.0a20190713'}\n",
            "W0714 05:10:13.943434 140554220246912 manager.py:321] invalid info file: '/tmp/.tensorboard-info/pid-1369.info'\n",
            "Traceback (most recent call last):\n",
            "  File \"/usr/local/lib/python3.6/dist-packages/tensorboard/manager.py\", line 316, in get_all\n",
            "    info = _info_from_string(contents)\n",
            "  File \"/usr/local/lib/python3.6/dist-packages/tensorboard/manager.py\", line 155, in _info_from_string\n",
            "    raise ValueError(\"incompatible version: %r\" % (json_value,))\n",
            "ValueError: incompatible version: {'cache_key': 'eyJhcmd1bWVudHMiOlsiLS1sb2dkaXIiLCJsb2dzIl0sImNvbmZpZ3VyZV9rd2FyZ3MiOnt9LCJ3b3JraW5nX2RpcmVjdG9yeSI6Ii9jb250ZW50In0=', 'db': '', 'logdir': 'logs', 'path_prefix': '', 'pid': 1369, 'port': 6006, 'start_time': 1563080809, 'version': '1.15.0a20190713'}\n",
            "W0714 05:10:14.445574 140554220246912 manager.py:321] invalid info file: '/tmp/.tensorboard-info/pid-1419.info'\n",
            "Traceback (most recent call last):\n",
            "  File \"/usr/local/lib/python3.6/dist-packages/tensorboard/manager.py\", line 316, in get_all\n",
            "    info = _info_from_string(contents)\n",
            "  File \"/usr/local/lib/python3.6/dist-packages/tensorboard/manager.py\", line 155, in _info_from_string\n",
            "    raise ValueError(\"incompatible version: %r\" % (json_value,))\n",
            "ValueError: incompatible version: {'cache_key': 'eyJhcmd1bWVudHMiOlsiLS1sb2dkaXIiLCJsb2dzIl0sImNvbmZpZ3VyZV9rd2FyZ3MiOnt9LCJ3b3JraW5nX2RpcmVjdG9yeSI6Ii9jb250ZW50In0=', 'db': '', 'logdir': 'logs', 'path_prefix': '', 'pid': 1419, 'port': 6007, 'start_time': 1563081011, 'version': '1.15.0a20190713'}\n",
            "W0714 05:10:14.447175 140554220246912 manager.py:321] invalid info file: '/tmp/.tensorboard-info/pid-1369.info'\n",
            "Traceback (most recent call last):\n",
            "  File \"/usr/local/lib/python3.6/dist-packages/tensorboard/manager.py\", line 316, in get_all\n",
            "    info = _info_from_string(contents)\n",
            "  File \"/usr/local/lib/python3.6/dist-packages/tensorboard/manager.py\", line 155, in _info_from_string\n",
            "    raise ValueError(\"incompatible version: %r\" % (json_value,))\n",
            "ValueError: incompatible version: {'cache_key': 'eyJhcmd1bWVudHMiOlsiLS1sb2dkaXIiLCJsb2dzIl0sImNvbmZpZ3VyZV9rd2FyZ3MiOnt9LCJ3b3JraW5nX2RpcmVjdG9yeSI6Ii9jb250ZW50In0=', 'db': '', 'logdir': 'logs', 'path_prefix': '', 'pid': 1369, 'port': 6006, 'start_time': 1563080809, 'version': '1.15.0a20190713'}\n",
            "W0714 05:10:14.949339 140554220246912 manager.py:321] invalid info file: '/tmp/.tensorboard-info/pid-1419.info'\n",
            "Traceback (most recent call last):\n",
            "  File \"/usr/local/lib/python3.6/dist-packages/tensorboard/manager.py\", line 316, in get_all\n",
            "    info = _info_from_string(contents)\n",
            "  File \"/usr/local/lib/python3.6/dist-packages/tensorboard/manager.py\", line 155, in _info_from_string\n",
            "    raise ValueError(\"incompatible version: %r\" % (json_value,))\n",
            "ValueError: incompatible version: {'cache_key': 'eyJhcmd1bWVudHMiOlsiLS1sb2dkaXIiLCJsb2dzIl0sImNvbmZpZ3VyZV9rd2FyZ3MiOnt9LCJ3b3JraW5nX2RpcmVjdG9yeSI6Ii9jb250ZW50In0=', 'db': '', 'logdir': 'logs', 'path_prefix': '', 'pid': 1419, 'port': 6007, 'start_time': 1563081011, 'version': '1.15.0a20190713'}\n",
            "W0714 05:10:14.951311 140554220246912 manager.py:321] invalid info file: '/tmp/.tensorboard-info/pid-1369.info'\n",
            "Traceback (most recent call last):\n",
            "  File \"/usr/local/lib/python3.6/dist-packages/tensorboard/manager.py\", line 316, in get_all\n",
            "    info = _info_from_string(contents)\n",
            "  File \"/usr/local/lib/python3.6/dist-packages/tensorboard/manager.py\", line 155, in _info_from_string\n",
            "    raise ValueError(\"incompatible version: %r\" % (json_value,))\n",
            "ValueError: incompatible version: {'cache_key': 'eyJhcmd1bWVudHMiOlsiLS1sb2dkaXIiLCJsb2dzIl0sImNvbmZpZ3VyZV9rd2FyZ3MiOnt9LCJ3b3JraW5nX2RpcmVjdG9yeSI6Ii9jb250ZW50In0=', 'db': '', 'logdir': 'logs', 'path_prefix': '', 'pid': 1369, 'port': 6006, 'start_time': 1563080809, 'version': '1.15.0a20190713'}\n",
            "W0714 05:10:15.453673 140554220246912 manager.py:321] invalid info file: '/tmp/.tensorboard-info/pid-1419.info'\n",
            "Traceback (most recent call last):\n",
            "  File \"/usr/local/lib/python3.6/dist-packages/tensorboard/manager.py\", line 316, in get_all\n",
            "    info = _info_from_string(contents)\n",
            "  File \"/usr/local/lib/python3.6/dist-packages/tensorboard/manager.py\", line 155, in _info_from_string\n",
            "    raise ValueError(\"incompatible version: %r\" % (json_value,))\n",
            "ValueError: incompatible version: {'cache_key': 'eyJhcmd1bWVudHMiOlsiLS1sb2dkaXIiLCJsb2dzIl0sImNvbmZpZ3VyZV9rd2FyZ3MiOnt9LCJ3b3JraW5nX2RpcmVjdG9yeSI6Ii9jb250ZW50In0=', 'db': '', 'logdir': 'logs', 'path_prefix': '', 'pid': 1419, 'port': 6007, 'start_time': 1563081011, 'version': '1.15.0a20190713'}\n",
            "W0714 05:10:15.455306 140554220246912 manager.py:321] invalid info file: '/tmp/.tensorboard-info/pid-1369.info'\n",
            "Traceback (most recent call last):\n",
            "  File \"/usr/local/lib/python3.6/dist-packages/tensorboard/manager.py\", line 316, in get_all\n",
            "    info = _info_from_string(contents)\n",
            "  File \"/usr/local/lib/python3.6/dist-packages/tensorboard/manager.py\", line 155, in _info_from_string\n",
            "    raise ValueError(\"incompatible version: %r\" % (json_value,))\n",
            "ValueError: incompatible version: {'cache_key': 'eyJhcmd1bWVudHMiOlsiLS1sb2dkaXIiLCJsb2dzIl0sImNvbmZpZ3VyZV9rd2FyZ3MiOnt9LCJ3b3JraW5nX2RpcmVjdG9yeSI6Ii9jb250ZW50In0=', 'db': '', 'logdir': 'logs', 'path_prefix': '', 'pid': 1369, 'port': 6006, 'start_time': 1563080809, 'version': '1.15.0a20190713'}\n",
            "W0714 05:10:15.957408 140554220246912 manager.py:321] invalid info file: '/tmp/.tensorboard-info/pid-1419.info'\n",
            "Traceback (most recent call last):\n",
            "  File \"/usr/local/lib/python3.6/dist-packages/tensorboard/manager.py\", line 316, in get_all\n",
            "    info = _info_from_string(contents)\n",
            "  File \"/usr/local/lib/python3.6/dist-packages/tensorboard/manager.py\", line 155, in _info_from_string\n",
            "    raise ValueError(\"incompatible version: %r\" % (json_value,))\n",
            "ValueError: incompatible version: {'cache_key': 'eyJhcmd1bWVudHMiOlsiLS1sb2dkaXIiLCJsb2dzIl0sImNvbmZpZ3VyZV9rd2FyZ3MiOnt9LCJ3b3JraW5nX2RpcmVjdG9yeSI6Ii9jb250ZW50In0=', 'db': '', 'logdir': 'logs', 'path_prefix': '', 'pid': 1419, 'port': 6007, 'start_time': 1563081011, 'version': '1.15.0a20190713'}\n",
            "W0714 05:10:15.959211 140554220246912 manager.py:321] invalid info file: '/tmp/.tensorboard-info/pid-1369.info'\n",
            "Traceback (most recent call last):\n",
            "  File \"/usr/local/lib/python3.6/dist-packages/tensorboard/manager.py\", line 316, in get_all\n",
            "    info = _info_from_string(contents)\n",
            "  File \"/usr/local/lib/python3.6/dist-packages/tensorboard/manager.py\", line 155, in _info_from_string\n",
            "    raise ValueError(\"incompatible version: %r\" % (json_value,))\n",
            "ValueError: incompatible version: {'cache_key': 'eyJhcmd1bWVudHMiOlsiLS1sb2dkaXIiLCJsb2dzIl0sImNvbmZpZ3VyZV9rd2FyZ3MiOnt9LCJ3b3JraW5nX2RpcmVjdG9yeSI6Ii9jb250ZW50In0=', 'db': '', 'logdir': 'logs', 'path_prefix': '', 'pid': 1369, 'port': 6006, 'start_time': 1563080809, 'version': '1.15.0a20190713'}\n",
            "W0714 05:10:16.461479 140554220246912 manager.py:321] invalid info file: '/tmp/.tensorboard-info/pid-1419.info'\n",
            "Traceback (most recent call last):\n",
            "  File \"/usr/local/lib/python3.6/dist-packages/tensorboard/manager.py\", line 316, in get_all\n",
            "    info = _info_from_string(contents)\n",
            "  File \"/usr/local/lib/python3.6/dist-packages/tensorboard/manager.py\", line 155, in _info_from_string\n",
            "    raise ValueError(\"incompatible version: %r\" % (json_value,))\n",
            "ValueError: incompatible version: {'cache_key': 'eyJhcmd1bWVudHMiOlsiLS1sb2dkaXIiLCJsb2dzIl0sImNvbmZpZ3VyZV9rd2FyZ3MiOnt9LCJ3b3JraW5nX2RpcmVjdG9yeSI6Ii9jb250ZW50In0=', 'db': '', 'logdir': 'logs', 'path_prefix': '', 'pid': 1419, 'port': 6007, 'start_time': 1563081011, 'version': '1.15.0a20190713'}\n",
            "W0714 05:10:16.463202 140554220246912 manager.py:321] invalid info file: '/tmp/.tensorboard-info/pid-1369.info'\n",
            "Traceback (most recent call last):\n",
            "  File \"/usr/local/lib/python3.6/dist-packages/tensorboard/manager.py\", line 316, in get_all\n",
            "    info = _info_from_string(contents)\n",
            "  File \"/usr/local/lib/python3.6/dist-packages/tensorboard/manager.py\", line 155, in _info_from_string\n",
            "    raise ValueError(\"incompatible version: %r\" % (json_value,))\n",
            "ValueError: incompatible version: {'cache_key': 'eyJhcmd1bWVudHMiOlsiLS1sb2dkaXIiLCJsb2dzIl0sImNvbmZpZ3VyZV9rd2FyZ3MiOnt9LCJ3b3JraW5nX2RpcmVjdG9yeSI6Ii9jb250ZW50In0=', 'db': '', 'logdir': 'logs', 'path_prefix': '', 'pid': 1369, 'port': 6006, 'start_time': 1563080809, 'version': '1.15.0a20190713'}\n",
            "W0714 05:10:16.965529 140554220246912 manager.py:321] invalid info file: '/tmp/.tensorboard-info/pid-1419.info'\n",
            "Traceback (most recent call last):\n",
            "  File \"/usr/local/lib/python3.6/dist-packages/tensorboard/manager.py\", line 316, in get_all\n",
            "    info = _info_from_string(contents)\n",
            "  File \"/usr/local/lib/python3.6/dist-packages/tensorboard/manager.py\", line 155, in _info_from_string\n",
            "    raise ValueError(\"incompatible version: %r\" % (json_value,))\n",
            "ValueError: incompatible version: {'cache_key': 'eyJhcmd1bWVudHMiOlsiLS1sb2dkaXIiLCJsb2dzIl0sImNvbmZpZ3VyZV9rd2FyZ3MiOnt9LCJ3b3JraW5nX2RpcmVjdG9yeSI6Ii9jb250ZW50In0=', 'db': '', 'logdir': 'logs', 'path_prefix': '', 'pid': 1419, 'port': 6007, 'start_time': 1563081011, 'version': '1.15.0a20190713'}\n",
            "W0714 05:10:16.967210 140554220246912 manager.py:321] invalid info file: '/tmp/.tensorboard-info/pid-1369.info'\n",
            "Traceback (most recent call last):\n",
            "  File \"/usr/local/lib/python3.6/dist-packages/tensorboard/manager.py\", line 316, in get_all\n",
            "    info = _info_from_string(contents)\n",
            "  File \"/usr/local/lib/python3.6/dist-packages/tensorboard/manager.py\", line 155, in _info_from_string\n",
            "    raise ValueError(\"incompatible version: %r\" % (json_value,))\n",
            "ValueError: incompatible version: {'cache_key': 'eyJhcmd1bWVudHMiOlsiLS1sb2dkaXIiLCJsb2dzIl0sImNvbmZpZ3VyZV9rd2FyZ3MiOnt9LCJ3b3JraW5nX2RpcmVjdG9yeSI6Ii9jb250ZW50In0=', 'db': '', 'logdir': 'logs', 'path_prefix': '', 'pid': 1369, 'port': 6006, 'start_time': 1563080809, 'version': '1.15.0a20190713'}\n",
            "W0714 05:10:17.469546 140554220246912 manager.py:321] invalid info file: '/tmp/.tensorboard-info/pid-1419.info'\n",
            "Traceback (most recent call last):\n",
            "  File \"/usr/local/lib/python3.6/dist-packages/tensorboard/manager.py\", line 316, in get_all\n",
            "    info = _info_from_string(contents)\n",
            "  File \"/usr/local/lib/python3.6/dist-packages/tensorboard/manager.py\", line 155, in _info_from_string\n",
            "    raise ValueError(\"incompatible version: %r\" % (json_value,))\n",
            "ValueError: incompatible version: {'cache_key': 'eyJhcmd1bWVudHMiOlsiLS1sb2dkaXIiLCJsb2dzIl0sImNvbmZpZ3VyZV9rd2FyZ3MiOnt9LCJ3b3JraW5nX2RpcmVjdG9yeSI6Ii9jb250ZW50In0=', 'db': '', 'logdir': 'logs', 'path_prefix': '', 'pid': 1419, 'port': 6007, 'start_time': 1563081011, 'version': '1.15.0a20190713'}\n",
            "W0714 05:10:17.471174 140554220246912 manager.py:321] invalid info file: '/tmp/.tensorboard-info/pid-1369.info'\n",
            "Traceback (most recent call last):\n",
            "  File \"/usr/local/lib/python3.6/dist-packages/tensorboard/manager.py\", line 316, in get_all\n",
            "    info = _info_from_string(contents)\n",
            "  File \"/usr/local/lib/python3.6/dist-packages/tensorboard/manager.py\", line 155, in _info_from_string\n",
            "    raise ValueError(\"incompatible version: %r\" % (json_value,))\n",
            "ValueError: incompatible version: {'cache_key': 'eyJhcmd1bWVudHMiOlsiLS1sb2dkaXIiLCJsb2dzIl0sImNvbmZpZ3VyZV9rd2FyZ3MiOnt9LCJ3b3JraW5nX2RpcmVjdG9yeSI6Ii9jb250ZW50In0=', 'db': '', 'logdir': 'logs', 'path_prefix': '', 'pid': 1369, 'port': 6006, 'start_time': 1563080809, 'version': '1.15.0a20190713'}\n",
            "W0714 05:10:17.975050 140554220246912 manager.py:321] invalid info file: '/tmp/.tensorboard-info/pid-1419.info'\n",
            "Traceback (most recent call last):\n",
            "  File \"/usr/local/lib/python3.6/dist-packages/tensorboard/manager.py\", line 316, in get_all\n",
            "    info = _info_from_string(contents)\n",
            "  File \"/usr/local/lib/python3.6/dist-packages/tensorboard/manager.py\", line 155, in _info_from_string\n",
            "    raise ValueError(\"incompatible version: %r\" % (json_value,))\n",
            "ValueError: incompatible version: {'cache_key': 'eyJhcmd1bWVudHMiOlsiLS1sb2dkaXIiLCJsb2dzIl0sImNvbmZpZ3VyZV9rd2FyZ3MiOnt9LCJ3b3JraW5nX2RpcmVjdG9yeSI6Ii9jb250ZW50In0=', 'db': '', 'logdir': 'logs', 'path_prefix': '', 'pid': 1419, 'port': 6007, 'start_time': 1563081011, 'version': '1.15.0a20190713'}\n",
            "W0714 05:10:17.976626 140554220246912 manager.py:321] invalid info file: '/tmp/.tensorboard-info/pid-1369.info'\n",
            "Traceback (most recent call last):\n",
            "  File \"/usr/local/lib/python3.6/dist-packages/tensorboard/manager.py\", line 316, in get_all\n",
            "    info = _info_from_string(contents)\n",
            "  File \"/usr/local/lib/python3.6/dist-packages/tensorboard/manager.py\", line 155, in _info_from_string\n",
            "    raise ValueError(\"incompatible version: %r\" % (json_value,))\n",
            "ValueError: incompatible version: {'cache_key': 'eyJhcmd1bWVudHMiOlsiLS1sb2dkaXIiLCJsb2dzIl0sImNvbmZpZ3VyZV9rd2FyZ3MiOnt9LCJ3b3JraW5nX2RpcmVjdG9yeSI6Ii9jb250ZW50In0=', 'db': '', 'logdir': 'logs', 'path_prefix': '', 'pid': 1369, 'port': 6006, 'start_time': 1563080809, 'version': '1.15.0a20190713'}\n",
            "W0714 05:10:18.479055 140554220246912 manager.py:321] invalid info file: '/tmp/.tensorboard-info/pid-1419.info'\n",
            "Traceback (most recent call last):\n",
            "  File \"/usr/local/lib/python3.6/dist-packages/tensorboard/manager.py\", line 316, in get_all\n",
            "    info = _info_from_string(contents)\n",
            "  File \"/usr/local/lib/python3.6/dist-packages/tensorboard/manager.py\", line 155, in _info_from_string\n",
            "    raise ValueError(\"incompatible version: %r\" % (json_value,))\n",
            "ValueError: incompatible version: {'cache_key': 'eyJhcmd1bWVudHMiOlsiLS1sb2dkaXIiLCJsb2dzIl0sImNvbmZpZ3VyZV9rd2FyZ3MiOnt9LCJ3b3JraW5nX2RpcmVjdG9yeSI6Ii9jb250ZW50In0=', 'db': '', 'logdir': 'logs', 'path_prefix': '', 'pid': 1419, 'port': 6007, 'start_time': 1563081011, 'version': '1.15.0a20190713'}\n",
            "W0714 05:10:18.480716 140554220246912 manager.py:321] invalid info file: '/tmp/.tensorboard-info/pid-1369.info'\n",
            "Traceback (most recent call last):\n",
            "  File \"/usr/local/lib/python3.6/dist-packages/tensorboard/manager.py\", line 316, in get_all\n",
            "    info = _info_from_string(contents)\n",
            "  File \"/usr/local/lib/python3.6/dist-packages/tensorboard/manager.py\", line 155, in _info_from_string\n",
            "    raise ValueError(\"incompatible version: %r\" % (json_value,))\n",
            "ValueError: incompatible version: {'cache_key': 'eyJhcmd1bWVudHMiOlsiLS1sb2dkaXIiLCJsb2dzIl0sImNvbmZpZ3VyZV9rd2FyZ3MiOnt9LCJ3b3JraW5nX2RpcmVjdG9yeSI6Ii9jb250ZW50In0=', 'db': '', 'logdir': 'logs', 'path_prefix': '', 'pid': 1369, 'port': 6006, 'start_time': 1563080809, 'version': '1.15.0a20190713'}\n",
            "W0714 05:10:18.983178 140554220246912 manager.py:321] invalid info file: '/tmp/.tensorboard-info/pid-1419.info'\n",
            "Traceback (most recent call last):\n",
            "  File \"/usr/local/lib/python3.6/dist-packages/tensorboard/manager.py\", line 316, in get_all\n",
            "    info = _info_from_string(contents)\n",
            "  File \"/usr/local/lib/python3.6/dist-packages/tensorboard/manager.py\", line 155, in _info_from_string\n",
            "    raise ValueError(\"incompatible version: %r\" % (json_value,))\n",
            "ValueError: incompatible version: {'cache_key': 'eyJhcmd1bWVudHMiOlsiLS1sb2dkaXIiLCJsb2dzIl0sImNvbmZpZ3VyZV9rd2FyZ3MiOnt9LCJ3b3JraW5nX2RpcmVjdG9yeSI6Ii9jb250ZW50In0=', 'db': '', 'logdir': 'logs', 'path_prefix': '', 'pid': 1419, 'port': 6007, 'start_time': 1563081011, 'version': '1.15.0a20190713'}\n",
            "W0714 05:10:18.984972 140554220246912 manager.py:321] invalid info file: '/tmp/.tensorboard-info/pid-1369.info'\n",
            "Traceback (most recent call last):\n",
            "  File \"/usr/local/lib/python3.6/dist-packages/tensorboard/manager.py\", line 316, in get_all\n",
            "    info = _info_from_string(contents)\n",
            "  File \"/usr/local/lib/python3.6/dist-packages/tensorboard/manager.py\", line 155, in _info_from_string\n",
            "    raise ValueError(\"incompatible version: %r\" % (json_value,))\n",
            "ValueError: incompatible version: {'cache_key': 'eyJhcmd1bWVudHMiOlsiLS1sb2dkaXIiLCJsb2dzIl0sImNvbmZpZ3VyZV9rd2FyZ3MiOnt9LCJ3b3JraW5nX2RpcmVjdG9yeSI6Ii9jb250ZW50In0=', 'db': '', 'logdir': 'logs', 'path_prefix': '', 'pid': 1369, 'port': 6006, 'start_time': 1563080809, 'version': '1.15.0a20190713'}\n",
            "W0714 05:10:19.487196 140554220246912 manager.py:321] invalid info file: '/tmp/.tensorboard-info/pid-1419.info'\n",
            "Traceback (most recent call last):\n",
            "  File \"/usr/local/lib/python3.6/dist-packages/tensorboard/manager.py\", line 316, in get_all\n",
            "    info = _info_from_string(contents)\n",
            "  File \"/usr/local/lib/python3.6/dist-packages/tensorboard/manager.py\", line 155, in _info_from_string\n",
            "    raise ValueError(\"incompatible version: %r\" % (json_value,))\n",
            "ValueError: incompatible version: {'cache_key': 'eyJhcmd1bWVudHMiOlsiLS1sb2dkaXIiLCJsb2dzIl0sImNvbmZpZ3VyZV9rd2FyZ3MiOnt9LCJ3b3JraW5nX2RpcmVjdG9yeSI6Ii9jb250ZW50In0=', 'db': '', 'logdir': 'logs', 'path_prefix': '', 'pid': 1419, 'port': 6007, 'start_time': 1563081011, 'version': '1.15.0a20190713'}\n",
            "W0714 05:10:19.488779 140554220246912 manager.py:321] invalid info file: '/tmp/.tensorboard-info/pid-1369.info'\n",
            "Traceback (most recent call last):\n",
            "  File \"/usr/local/lib/python3.6/dist-packages/tensorboard/manager.py\", line 316, in get_all\n",
            "    info = _info_from_string(contents)\n",
            "  File \"/usr/local/lib/python3.6/dist-packages/tensorboard/manager.py\", line 155, in _info_from_string\n",
            "    raise ValueError(\"incompatible version: %r\" % (json_value,))\n",
            "ValueError: incompatible version: {'cache_key': 'eyJhcmd1bWVudHMiOlsiLS1sb2dkaXIiLCJsb2dzIl0sImNvbmZpZ3VyZV9rd2FyZ3MiOnt9LCJ3b3JraW5nX2RpcmVjdG9yeSI6Ii9jb250ZW50In0=', 'db': '', 'logdir': 'logs', 'path_prefix': '', 'pid': 1369, 'port': 6006, 'start_time': 1563080809, 'version': '1.15.0a20190713'}\n",
            "W0714 05:10:19.990901 140554220246912 manager.py:321] invalid info file: '/tmp/.tensorboard-info/pid-1419.info'\n",
            "Traceback (most recent call last):\n",
            "  File \"/usr/local/lib/python3.6/dist-packages/tensorboard/manager.py\", line 316, in get_all\n",
            "    info = _info_from_string(contents)\n",
            "  File \"/usr/local/lib/python3.6/dist-packages/tensorboard/manager.py\", line 155, in _info_from_string\n",
            "    raise ValueError(\"incompatible version: %r\" % (json_value,))\n",
            "ValueError: incompatible version: {'cache_key': 'eyJhcmd1bWVudHMiOlsiLS1sb2dkaXIiLCJsb2dzIl0sImNvbmZpZ3VyZV9rd2FyZ3MiOnt9LCJ3b3JraW5nX2RpcmVjdG9yeSI6Ii9jb250ZW50In0=', 'db': '', 'logdir': 'logs', 'path_prefix': '', 'pid': 1419, 'port': 6007, 'start_time': 1563081011, 'version': '1.15.0a20190713'}\n",
            "W0714 05:10:19.992654 140554220246912 manager.py:321] invalid info file: '/tmp/.tensorboard-info/pid-1369.info'\n",
            "Traceback (most recent call last):\n",
            "  File \"/usr/local/lib/python3.6/dist-packages/tensorboard/manager.py\", line 316, in get_all\n",
            "    info = _info_from_string(contents)\n",
            "  File \"/usr/local/lib/python3.6/dist-packages/tensorboard/manager.py\", line 155, in _info_from_string\n",
            "    raise ValueError(\"incompatible version: %r\" % (json_value,))\n",
            "ValueError: incompatible version: {'cache_key': 'eyJhcmd1bWVudHMiOlsiLS1sb2dkaXIiLCJsb2dzIl0sImNvbmZpZ3VyZV9rd2FyZ3MiOnt9LCJ3b3JraW5nX2RpcmVjdG9yeSI6Ii9jb250ZW50In0=', 'db': '', 'logdir': 'logs', 'path_prefix': '', 'pid': 1369, 'port': 6006, 'start_time': 1563080809, 'version': '1.15.0a20190713'}\n",
            "W0714 05:10:20.494539 140554220246912 manager.py:321] invalid info file: '/tmp/.tensorboard-info/pid-1419.info'\n",
            "Traceback (most recent call last):\n",
            "  File \"/usr/local/lib/python3.6/dist-packages/tensorboard/manager.py\", line 316, in get_all\n",
            "    info = _info_from_string(contents)\n",
            "  File \"/usr/local/lib/python3.6/dist-packages/tensorboard/manager.py\", line 155, in _info_from_string\n",
            "    raise ValueError(\"incompatible version: %r\" % (json_value,))\n",
            "ValueError: incompatible version: {'cache_key': 'eyJhcmd1bWVudHMiOlsiLS1sb2dkaXIiLCJsb2dzIl0sImNvbmZpZ3VyZV9rd2FyZ3MiOnt9LCJ3b3JraW5nX2RpcmVjdG9yeSI6Ii9jb250ZW50In0=', 'db': '', 'logdir': 'logs', 'path_prefix': '', 'pid': 1419, 'port': 6007, 'start_time': 1563081011, 'version': '1.15.0a20190713'}\n",
            "W0714 05:10:20.496245 140554220246912 manager.py:321] invalid info file: '/tmp/.tensorboard-info/pid-1369.info'\n",
            "Traceback (most recent call last):\n",
            "  File \"/usr/local/lib/python3.6/dist-packages/tensorboard/manager.py\", line 316, in get_all\n",
            "    info = _info_from_string(contents)\n",
            "  File \"/usr/local/lib/python3.6/dist-packages/tensorboard/manager.py\", line 155, in _info_from_string\n",
            "    raise ValueError(\"incompatible version: %r\" % (json_value,))\n",
            "ValueError: incompatible version: {'cache_key': 'eyJhcmd1bWVudHMiOlsiLS1sb2dkaXIiLCJsb2dzIl0sImNvbmZpZ3VyZV9rd2FyZ3MiOnt9LCJ3b3JraW5nX2RpcmVjdG9yeSI6Ii9jb250ZW50In0=', 'db': '', 'logdir': 'logs', 'path_prefix': '', 'pid': 1369, 'port': 6006, 'start_time': 1563080809, 'version': '1.15.0a20190713'}\n",
            "W0714 05:10:20.998585 140554220246912 manager.py:321] invalid info file: '/tmp/.tensorboard-info/pid-1419.info'\n",
            "Traceback (most recent call last):\n",
            "  File \"/usr/local/lib/python3.6/dist-packages/tensorboard/manager.py\", line 316, in get_all\n",
            "    info = _info_from_string(contents)\n",
            "  File \"/usr/local/lib/python3.6/dist-packages/tensorboard/manager.py\", line 155, in _info_from_string\n",
            "    raise ValueError(\"incompatible version: %r\" % (json_value,))\n",
            "ValueError: incompatible version: {'cache_key': 'eyJhcmd1bWVudHMiOlsiLS1sb2dkaXIiLCJsb2dzIl0sImNvbmZpZ3VyZV9rd2FyZ3MiOnt9LCJ3b3JraW5nX2RpcmVjdG9yeSI6Ii9jb250ZW50In0=', 'db': '', 'logdir': 'logs', 'path_prefix': '', 'pid': 1419, 'port': 6007, 'start_time': 1563081011, 'version': '1.15.0a20190713'}\n",
            "W0714 05:10:21.000306 140554220246912 manager.py:321] invalid info file: '/tmp/.tensorboard-info/pid-1369.info'\n",
            "Traceback (most recent call last):\n",
            "  File \"/usr/local/lib/python3.6/dist-packages/tensorboard/manager.py\", line 316, in get_all\n",
            "    info = _info_from_string(contents)\n",
            "  File \"/usr/local/lib/python3.6/dist-packages/tensorboard/manager.py\", line 155, in _info_from_string\n",
            "    raise ValueError(\"incompatible version: %r\" % (json_value,))\n",
            "ValueError: incompatible version: {'cache_key': 'eyJhcmd1bWVudHMiOlsiLS1sb2dkaXIiLCJsb2dzIl0sImNvbmZpZ3VyZV9rd2FyZ3MiOnt9LCJ3b3JraW5nX2RpcmVjdG9yeSI6Ii9jb250ZW50In0=', 'db': '', 'logdir': 'logs', 'path_prefix': '', 'pid': 1369, 'port': 6006, 'start_time': 1563080809, 'version': '1.15.0a20190713'}\n",
            "W0714 05:10:21.504946 140554220246912 manager.py:321] invalid info file: '/tmp/.tensorboard-info/pid-1419.info'\n",
            "Traceback (most recent call last):\n",
            "  File \"/usr/local/lib/python3.6/dist-packages/tensorboard/manager.py\", line 316, in get_all\n",
            "    info = _info_from_string(contents)\n",
            "  File \"/usr/local/lib/python3.6/dist-packages/tensorboard/manager.py\", line 155, in _info_from_string\n",
            "    raise ValueError(\"incompatible version: %r\" % (json_value,))\n",
            "ValueError: incompatible version: {'cache_key': 'eyJhcmd1bWVudHMiOlsiLS1sb2dkaXIiLCJsb2dzIl0sImNvbmZpZ3VyZV9rd2FyZ3MiOnt9LCJ3b3JraW5nX2RpcmVjdG9yeSI6Ii9jb250ZW50In0=', 'db': '', 'logdir': 'logs', 'path_prefix': '', 'pid': 1419, 'port': 6007, 'start_time': 1563081011, 'version': '1.15.0a20190713'}\n",
            "W0714 05:10:21.506658 140554220246912 manager.py:321] invalid info file: '/tmp/.tensorboard-info/pid-1369.info'\n",
            "Traceback (most recent call last):\n",
            "  File \"/usr/local/lib/python3.6/dist-packages/tensorboard/manager.py\", line 316, in get_all\n",
            "    info = _info_from_string(contents)\n",
            "  File \"/usr/local/lib/python3.6/dist-packages/tensorboard/manager.py\", line 155, in _info_from_string\n",
            "    raise ValueError(\"incompatible version: %r\" % (json_value,))\n",
            "ValueError: incompatible version: {'cache_key': 'eyJhcmd1bWVudHMiOlsiLS1sb2dkaXIiLCJsb2dzIl0sImNvbmZpZ3VyZV9rd2FyZ3MiOnt9LCJ3b3JraW5nX2RpcmVjdG9yeSI6Ii9jb250ZW50In0=', 'db': '', 'logdir': 'logs', 'path_prefix': '', 'pid': 1369, 'port': 6006, 'start_time': 1563080809, 'version': '1.15.0a20190713'}\n",
            "W0714 05:10:22.008762 140554220246912 manager.py:321] invalid info file: '/tmp/.tensorboard-info/pid-1419.info'\n",
            "Traceback (most recent call last):\n",
            "  File \"/usr/local/lib/python3.6/dist-packages/tensorboard/manager.py\", line 316, in get_all\n",
            "    info = _info_from_string(contents)\n",
            "  File \"/usr/local/lib/python3.6/dist-packages/tensorboard/manager.py\", line 155, in _info_from_string\n",
            "    raise ValueError(\"incompatible version: %r\" % (json_value,))\n",
            "ValueError: incompatible version: {'cache_key': 'eyJhcmd1bWVudHMiOlsiLS1sb2dkaXIiLCJsb2dzIl0sImNvbmZpZ3VyZV9rd2FyZ3MiOnt9LCJ3b3JraW5nX2RpcmVjdG9yeSI6Ii9jb250ZW50In0=', 'db': '', 'logdir': 'logs', 'path_prefix': '', 'pid': 1419, 'port': 6007, 'start_time': 1563081011, 'version': '1.15.0a20190713'}\n",
            "W0714 05:10:22.010364 140554220246912 manager.py:321] invalid info file: '/tmp/.tensorboard-info/pid-1369.info'\n",
            "Traceback (most recent call last):\n",
            "  File \"/usr/local/lib/python3.6/dist-packages/tensorboard/manager.py\", line 316, in get_all\n",
            "    info = _info_from_string(contents)\n",
            "  File \"/usr/local/lib/python3.6/dist-packages/tensorboard/manager.py\", line 155, in _info_from_string\n",
            "    raise ValueError(\"incompatible version: %r\" % (json_value,))\n",
            "ValueError: incompatible version: {'cache_key': 'eyJhcmd1bWVudHMiOlsiLS1sb2dkaXIiLCJsb2dzIl0sImNvbmZpZ3VyZV9rd2FyZ3MiOnt9LCJ3b3JraW5nX2RpcmVjdG9yeSI6Ii9jb250ZW50In0=', 'db': '', 'logdir': 'logs', 'path_prefix': '', 'pid': 1369, 'port': 6006, 'start_time': 1563080809, 'version': '1.15.0a20190713'}\n",
            "W0714 05:10:22.512750 140554220246912 manager.py:321] invalid info file: '/tmp/.tensorboard-info/pid-1419.info'\n",
            "Traceback (most recent call last):\n",
            "  File \"/usr/local/lib/python3.6/dist-packages/tensorboard/manager.py\", line 316, in get_all\n",
            "    info = _info_from_string(contents)\n",
            "  File \"/usr/local/lib/python3.6/dist-packages/tensorboard/manager.py\", line 155, in _info_from_string\n",
            "    raise ValueError(\"incompatible version: %r\" % (json_value,))\n",
            "ValueError: incompatible version: {'cache_key': 'eyJhcmd1bWVudHMiOlsiLS1sb2dkaXIiLCJsb2dzIl0sImNvbmZpZ3VyZV9rd2FyZ3MiOnt9LCJ3b3JraW5nX2RpcmVjdG9yeSI6Ii9jb250ZW50In0=', 'db': '', 'logdir': 'logs', 'path_prefix': '', 'pid': 1419, 'port': 6007, 'start_time': 1563081011, 'version': '1.15.0a20190713'}\n",
            "W0714 05:10:22.514376 140554220246912 manager.py:321] invalid info file: '/tmp/.tensorboard-info/pid-1369.info'\n",
            "Traceback (most recent call last):\n",
            "  File \"/usr/local/lib/python3.6/dist-packages/tensorboard/manager.py\", line 316, in get_all\n",
            "    info = _info_from_string(contents)\n",
            "  File \"/usr/local/lib/python3.6/dist-packages/tensorboard/manager.py\", line 155, in _info_from_string\n",
            "    raise ValueError(\"incompatible version: %r\" % (json_value,))\n",
            "ValueError: incompatible version: {'cache_key': 'eyJhcmd1bWVudHMiOlsiLS1sb2dkaXIiLCJsb2dzIl0sImNvbmZpZ3VyZV9rd2FyZ3MiOnt9LCJ3b3JraW5nX2RpcmVjdG9yeSI6Ii9jb250ZW50In0=', 'db': '', 'logdir': 'logs', 'path_prefix': '', 'pid': 1369, 'port': 6006, 'start_time': 1563080809, 'version': '1.15.0a20190713'}\n",
            "W0714 05:10:23.016748 140554220246912 manager.py:321] invalid info file: '/tmp/.tensorboard-info/pid-1419.info'\n",
            "Traceback (most recent call last):\n",
            "  File \"/usr/local/lib/python3.6/dist-packages/tensorboard/manager.py\", line 316, in get_all\n",
            "    info = _info_from_string(contents)\n",
            "  File \"/usr/local/lib/python3.6/dist-packages/tensorboard/manager.py\", line 155, in _info_from_string\n",
            "    raise ValueError(\"incompatible version: %r\" % (json_value,))\n",
            "ValueError: incompatible version: {'cache_key': 'eyJhcmd1bWVudHMiOlsiLS1sb2dkaXIiLCJsb2dzIl0sImNvbmZpZ3VyZV9rd2FyZ3MiOnt9LCJ3b3JraW5nX2RpcmVjdG9yeSI6Ii9jb250ZW50In0=', 'db': '', 'logdir': 'logs', 'path_prefix': '', 'pid': 1419, 'port': 6007, 'start_time': 1563081011, 'version': '1.15.0a20190713'}\n",
            "W0714 05:10:23.018363 140554220246912 manager.py:321] invalid info file: '/tmp/.tensorboard-info/pid-1369.info'\n",
            "Traceback (most recent call last):\n",
            "  File \"/usr/local/lib/python3.6/dist-packages/tensorboard/manager.py\", line 316, in get_all\n",
            "    info = _info_from_string(contents)\n",
            "  File \"/usr/local/lib/python3.6/dist-packages/tensorboard/manager.py\", line 155, in _info_from_string\n",
            "    raise ValueError(\"incompatible version: %r\" % (json_value,))\n",
            "ValueError: incompatible version: {'cache_key': 'eyJhcmd1bWVudHMiOlsiLS1sb2dkaXIiLCJsb2dzIl0sImNvbmZpZ3VyZV9rd2FyZ3MiOnt9LCJ3b3JraW5nX2RpcmVjdG9yeSI6Ii9jb250ZW50In0=', 'db': '', 'logdir': 'logs', 'path_prefix': '', 'pid': 1369, 'port': 6006, 'start_time': 1563080809, 'version': '1.15.0a20190713'}\n",
            "W0714 05:10:23.520652 140554220246912 manager.py:321] invalid info file: '/tmp/.tensorboard-info/pid-1419.info'\n",
            "Traceback (most recent call last):\n",
            "  File \"/usr/local/lib/python3.6/dist-packages/tensorboard/manager.py\", line 316, in get_all\n",
            "    info = _info_from_string(contents)\n",
            "  File \"/usr/local/lib/python3.6/dist-packages/tensorboard/manager.py\", line 155, in _info_from_string\n",
            "    raise ValueError(\"incompatible version: %r\" % (json_value,))\n",
            "ValueError: incompatible version: {'cache_key': 'eyJhcmd1bWVudHMiOlsiLS1sb2dkaXIiLCJsb2dzIl0sImNvbmZpZ3VyZV9rd2FyZ3MiOnt9LCJ3b3JraW5nX2RpcmVjdG9yeSI6Ii9jb250ZW50In0=', 'db': '', 'logdir': 'logs', 'path_prefix': '', 'pid': 1419, 'port': 6007, 'start_time': 1563081011, 'version': '1.15.0a20190713'}\n",
            "W0714 05:10:23.522359 140554220246912 manager.py:321] invalid info file: '/tmp/.tensorboard-info/pid-1369.info'\n",
            "Traceback (most recent call last):\n",
            "  File \"/usr/local/lib/python3.6/dist-packages/tensorboard/manager.py\", line 316, in get_all\n",
            "    info = _info_from_string(contents)\n",
            "  File \"/usr/local/lib/python3.6/dist-packages/tensorboard/manager.py\", line 155, in _info_from_string\n",
            "    raise ValueError(\"incompatible version: %r\" % (json_value,))\n",
            "ValueError: incompatible version: {'cache_key': 'eyJhcmd1bWVudHMiOlsiLS1sb2dkaXIiLCJsb2dzIl0sImNvbmZpZ3VyZV9rd2FyZ3MiOnt9LCJ3b3JraW5nX2RpcmVjdG9yeSI6Ii9jb250ZW50In0=', 'db': '', 'logdir': 'logs', 'path_prefix': '', 'pid': 1369, 'port': 6006, 'start_time': 1563080809, 'version': '1.15.0a20190713'}\n",
            "W0714 05:10:24.024910 140554220246912 manager.py:321] invalid info file: '/tmp/.tensorboard-info/pid-1419.info'\n",
            "Traceback (most recent call last):\n",
            "  File \"/usr/local/lib/python3.6/dist-packages/tensorboard/manager.py\", line 316, in get_all\n",
            "    info = _info_from_string(contents)\n",
            "  File \"/usr/local/lib/python3.6/dist-packages/tensorboard/manager.py\", line 155, in _info_from_string\n",
            "    raise ValueError(\"incompatible version: %r\" % (json_value,))\n",
            "ValueError: incompatible version: {'cache_key': 'eyJhcmd1bWVudHMiOlsiLS1sb2dkaXIiLCJsb2dzIl0sImNvbmZpZ3VyZV9rd2FyZ3MiOnt9LCJ3b3JraW5nX2RpcmVjdG9yeSI6Ii9jb250ZW50In0=', 'db': '', 'logdir': 'logs', 'path_prefix': '', 'pid': 1419, 'port': 6007, 'start_time': 1563081011, 'version': '1.15.0a20190713'}\n",
            "W0714 05:10:24.026532 140554220246912 manager.py:321] invalid info file: '/tmp/.tensorboard-info/pid-1369.info'\n",
            "Traceback (most recent call last):\n",
            "  File \"/usr/local/lib/python3.6/dist-packages/tensorboard/manager.py\", line 316, in get_all\n",
            "    info = _info_from_string(contents)\n",
            "  File \"/usr/local/lib/python3.6/dist-packages/tensorboard/manager.py\", line 155, in _info_from_string\n",
            "    raise ValueError(\"incompatible version: %r\" % (json_value,))\n",
            "ValueError: incompatible version: {'cache_key': 'eyJhcmd1bWVudHMiOlsiLS1sb2dkaXIiLCJsb2dzIl0sImNvbmZpZ3VyZV9rd2FyZ3MiOnt9LCJ3b3JraW5nX2RpcmVjdG9yeSI6Ii9jb250ZW50In0=', 'db': '', 'logdir': 'logs', 'path_prefix': '', 'pid': 1369, 'port': 6006, 'start_time': 1563080809, 'version': '1.15.0a20190713'}\n",
            "W0714 05:10:24.528915 140554220246912 manager.py:321] invalid info file: '/tmp/.tensorboard-info/pid-1419.info'\n",
            "Traceback (most recent call last):\n",
            "  File \"/usr/local/lib/python3.6/dist-packages/tensorboard/manager.py\", line 316, in get_all\n",
            "    info = _info_from_string(contents)\n",
            "  File \"/usr/local/lib/python3.6/dist-packages/tensorboard/manager.py\", line 155, in _info_from_string\n",
            "    raise ValueError(\"incompatible version: %r\" % (json_value,))\n",
            "ValueError: incompatible version: {'cache_key': 'eyJhcmd1bWVudHMiOlsiLS1sb2dkaXIiLCJsb2dzIl0sImNvbmZpZ3VyZV9rd2FyZ3MiOnt9LCJ3b3JraW5nX2RpcmVjdG9yeSI6Ii9jb250ZW50In0=', 'db': '', 'logdir': 'logs', 'path_prefix': '', 'pid': 1419, 'port': 6007, 'start_time': 1563081011, 'version': '1.15.0a20190713'}\n",
            "W0714 05:10:24.530625 140554220246912 manager.py:321] invalid info file: '/tmp/.tensorboard-info/pid-1369.info'\n",
            "Traceback (most recent call last):\n",
            "  File \"/usr/local/lib/python3.6/dist-packages/tensorboard/manager.py\", line 316, in get_all\n",
            "    info = _info_from_string(contents)\n",
            "  File \"/usr/local/lib/python3.6/dist-packages/tensorboard/manager.py\", line 155, in _info_from_string\n",
            "    raise ValueError(\"incompatible version: %r\" % (json_value,))\n",
            "ValueError: incompatible version: {'cache_key': 'eyJhcmd1bWVudHMiOlsiLS1sb2dkaXIiLCJsb2dzIl0sImNvbmZpZ3VyZV9rd2FyZ3MiOnt9LCJ3b3JraW5nX2RpcmVjdG9yeSI6Ii9jb250ZW50In0=', 'db': '', 'logdir': 'logs', 'path_prefix': '', 'pid': 1369, 'port': 6006, 'start_time': 1563080809, 'version': '1.15.0a20190713'}\n",
            "W0714 05:10:25.033076 140554220246912 manager.py:321] invalid info file: '/tmp/.tensorboard-info/pid-1419.info'\n",
            "Traceback (most recent call last):\n",
            "  File \"/usr/local/lib/python3.6/dist-packages/tensorboard/manager.py\", line 316, in get_all\n",
            "    info = _info_from_string(contents)\n",
            "  File \"/usr/local/lib/python3.6/dist-packages/tensorboard/manager.py\", line 155, in _info_from_string\n",
            "    raise ValueError(\"incompatible version: %r\" % (json_value,))\n",
            "ValueError: incompatible version: {'cache_key': 'eyJhcmd1bWVudHMiOlsiLS1sb2dkaXIiLCJsb2dzIl0sImNvbmZpZ3VyZV9rd2FyZ3MiOnt9LCJ3b3JraW5nX2RpcmVjdG9yeSI6Ii9jb250ZW50In0=', 'db': '', 'logdir': 'logs', 'path_prefix': '', 'pid': 1419, 'port': 6007, 'start_time': 1563081011, 'version': '1.15.0a20190713'}\n",
            "W0714 05:10:25.034744 140554220246912 manager.py:321] invalid info file: '/tmp/.tensorboard-info/pid-1369.info'\n",
            "Traceback (most recent call last):\n",
            "  File \"/usr/local/lib/python3.6/dist-packages/tensorboard/manager.py\", line 316, in get_all\n",
            "    info = _info_from_string(contents)\n",
            "  File \"/usr/local/lib/python3.6/dist-packages/tensorboard/manager.py\", line 155, in _info_from_string\n",
            "    raise ValueError(\"incompatible version: %r\" % (json_value,))\n",
            "ValueError: incompatible version: {'cache_key': 'eyJhcmd1bWVudHMiOlsiLS1sb2dkaXIiLCJsb2dzIl0sImNvbmZpZ3VyZV9rd2FyZ3MiOnt9LCJ3b3JraW5nX2RpcmVjdG9yeSI6Ii9jb250ZW50In0=', 'db': '', 'logdir': 'logs', 'path_prefix': '', 'pid': 1369, 'port': 6006, 'start_time': 1563080809, 'version': '1.15.0a20190713'}\n",
            "W0714 05:10:25.539317 140554220246912 manager.py:321] invalid info file: '/tmp/.tensorboard-info/pid-1419.info'\n",
            "Traceback (most recent call last):\n",
            "  File \"/usr/local/lib/python3.6/dist-packages/tensorboard/manager.py\", line 316, in get_all\n",
            "    info = _info_from_string(contents)\n",
            "  File \"/usr/local/lib/python3.6/dist-packages/tensorboard/manager.py\", line 155, in _info_from_string\n",
            "    raise ValueError(\"incompatible version: %r\" % (json_value,))\n",
            "ValueError: incompatible version: {'cache_key': 'eyJhcmd1bWVudHMiOlsiLS1sb2dkaXIiLCJsb2dzIl0sImNvbmZpZ3VyZV9rd2FyZ3MiOnt9LCJ3b3JraW5nX2RpcmVjdG9yeSI6Ii9jb250ZW50In0=', 'db': '', 'logdir': 'logs', 'path_prefix': '', 'pid': 1419, 'port': 6007, 'start_time': 1563081011, 'version': '1.15.0a20190713'}\n",
            "W0714 05:10:25.540976 140554220246912 manager.py:321] invalid info file: '/tmp/.tensorboard-info/pid-1369.info'\n",
            "Traceback (most recent call last):\n",
            "  File \"/usr/local/lib/python3.6/dist-packages/tensorboard/manager.py\", line 316, in get_all\n",
            "    info = _info_from_string(contents)\n",
            "  File \"/usr/local/lib/python3.6/dist-packages/tensorboard/manager.py\", line 155, in _info_from_string\n",
            "    raise ValueError(\"incompatible version: %r\" % (json_value,))\n",
            "ValueError: incompatible version: {'cache_key': 'eyJhcmd1bWVudHMiOlsiLS1sb2dkaXIiLCJsb2dzIl0sImNvbmZpZ3VyZV9rd2FyZ3MiOnt9LCJ3b3JraW5nX2RpcmVjdG9yeSI6Ii9jb250ZW50In0=', 'db': '', 'logdir': 'logs', 'path_prefix': '', 'pid': 1369, 'port': 6006, 'start_time': 1563080809, 'version': '1.15.0a20190713'}\n",
            "W0714 05:10:26.043456 140554220246912 manager.py:321] invalid info file: '/tmp/.tensorboard-info/pid-1419.info'\n",
            "Traceback (most recent call last):\n",
            "  File \"/usr/local/lib/python3.6/dist-packages/tensorboard/manager.py\", line 316, in get_all\n",
            "    info = _info_from_string(contents)\n",
            "  File \"/usr/local/lib/python3.6/dist-packages/tensorboard/manager.py\", line 155, in _info_from_string\n",
            "    raise ValueError(\"incompatible version: %r\" % (json_value,))\n",
            "ValueError: incompatible version: {'cache_key': 'eyJhcmd1bWVudHMiOlsiLS1sb2dkaXIiLCJsb2dzIl0sImNvbmZpZ3VyZV9rd2FyZ3MiOnt9LCJ3b3JraW5nX2RpcmVjdG9yeSI6Ii9jb250ZW50In0=', 'db': '', 'logdir': 'logs', 'path_prefix': '', 'pid': 1419, 'port': 6007, 'start_time': 1563081011, 'version': '1.15.0a20190713'}\n",
            "W0714 05:10:26.045028 140554220246912 manager.py:321] invalid info file: '/tmp/.tensorboard-info/pid-1369.info'\n",
            "Traceback (most recent call last):\n",
            "  File \"/usr/local/lib/python3.6/dist-packages/tensorboard/manager.py\", line 316, in get_all\n",
            "    info = _info_from_string(contents)\n",
            "  File \"/usr/local/lib/python3.6/dist-packages/tensorboard/manager.py\", line 155, in _info_from_string\n",
            "    raise ValueError(\"incompatible version: %r\" % (json_value,))\n",
            "ValueError: incompatible version: {'cache_key': 'eyJhcmd1bWVudHMiOlsiLS1sb2dkaXIiLCJsb2dzIl0sImNvbmZpZ3VyZV9rd2FyZ3MiOnt9LCJ3b3JraW5nX2RpcmVjdG9yeSI6Ii9jb250ZW50In0=', 'db': '', 'logdir': 'logs', 'path_prefix': '', 'pid': 1369, 'port': 6006, 'start_time': 1563080809, 'version': '1.15.0a20190713'}\n",
            "W0714 05:10:26.549110 140554220246912 manager.py:321] invalid info file: '/tmp/.tensorboard-info/pid-1419.info'\n",
            "Traceback (most recent call last):\n",
            "  File \"/usr/local/lib/python3.6/dist-packages/tensorboard/manager.py\", line 316, in get_all\n",
            "    info = _info_from_string(contents)\n",
            "  File \"/usr/local/lib/python3.6/dist-packages/tensorboard/manager.py\", line 155, in _info_from_string\n",
            "    raise ValueError(\"incompatible version: %r\" % (json_value,))\n",
            "ValueError: incompatible version: {'cache_key': 'eyJhcmd1bWVudHMiOlsiLS1sb2dkaXIiLCJsb2dzIl0sImNvbmZpZ3VyZV9rd2FyZ3MiOnt9LCJ3b3JraW5nX2RpcmVjdG9yeSI6Ii9jb250ZW50In0=', 'db': '', 'logdir': 'logs', 'path_prefix': '', 'pid': 1419, 'port': 6007, 'start_time': 1563081011, 'version': '1.15.0a20190713'}\n",
            "W0714 05:10:26.550750 140554220246912 manager.py:321] invalid info file: '/tmp/.tensorboard-info/pid-1369.info'\n",
            "Traceback (most recent call last):\n",
            "  File \"/usr/local/lib/python3.6/dist-packages/tensorboard/manager.py\", line 316, in get_all\n",
            "    info = _info_from_string(contents)\n",
            "  File \"/usr/local/lib/python3.6/dist-packages/tensorboard/manager.py\", line 155, in _info_from_string\n",
            "    raise ValueError(\"incompatible version: %r\" % (json_value,))\n",
            "ValueError: incompatible version: {'cache_key': 'eyJhcmd1bWVudHMiOlsiLS1sb2dkaXIiLCJsb2dzIl0sImNvbmZpZ3VyZV9rd2FyZ3MiOnt9LCJ3b3JraW5nX2RpcmVjdG9yeSI6Ii9jb250ZW50In0=', 'db': '', 'logdir': 'logs', 'path_prefix': '', 'pid': 1369, 'port': 6006, 'start_time': 1563080809, 'version': '1.15.0a20190713'}\n",
            "W0714 05:10:27.053256 140554220246912 manager.py:321] invalid info file: '/tmp/.tensorboard-info/pid-1419.info'\n",
            "Traceback (most recent call last):\n",
            "  File \"/usr/local/lib/python3.6/dist-packages/tensorboard/manager.py\", line 316, in get_all\n",
            "    info = _info_from_string(contents)\n",
            "  File \"/usr/local/lib/python3.6/dist-packages/tensorboard/manager.py\", line 155, in _info_from_string\n",
            "    raise ValueError(\"incompatible version: %r\" % (json_value,))\n",
            "ValueError: incompatible version: {'cache_key': 'eyJhcmd1bWVudHMiOlsiLS1sb2dkaXIiLCJsb2dzIl0sImNvbmZpZ3VyZV9rd2FyZ3MiOnt9LCJ3b3JraW5nX2RpcmVjdG9yeSI6Ii9jb250ZW50In0=', 'db': '', 'logdir': 'logs', 'path_prefix': '', 'pid': 1419, 'port': 6007, 'start_time': 1563081011, 'version': '1.15.0a20190713'}\n",
            "W0714 05:10:27.055240 140554220246912 manager.py:321] invalid info file: '/tmp/.tensorboard-info/pid-1369.info'\n",
            "Traceback (most recent call last):\n",
            "  File \"/usr/local/lib/python3.6/dist-packages/tensorboard/manager.py\", line 316, in get_all\n",
            "    info = _info_from_string(contents)\n",
            "  File \"/usr/local/lib/python3.6/dist-packages/tensorboard/manager.py\", line 155, in _info_from_string\n",
            "    raise ValueError(\"incompatible version: %r\" % (json_value,))\n",
            "ValueError: incompatible version: {'cache_key': 'eyJhcmd1bWVudHMiOlsiLS1sb2dkaXIiLCJsb2dzIl0sImNvbmZpZ3VyZV9rd2FyZ3MiOnt9LCJ3b3JraW5nX2RpcmVjdG9yeSI6Ii9jb250ZW50In0=', 'db': '', 'logdir': 'logs', 'path_prefix': '', 'pid': 1369, 'port': 6006, 'start_time': 1563080809, 'version': '1.15.0a20190713'}\n",
            "W0714 05:10:27.557955 140554220246912 manager.py:321] invalid info file: '/tmp/.tensorboard-info/pid-1419.info'\n",
            "Traceback (most recent call last):\n",
            "  File \"/usr/local/lib/python3.6/dist-packages/tensorboard/manager.py\", line 316, in get_all\n",
            "    info = _info_from_string(contents)\n",
            "  File \"/usr/local/lib/python3.6/dist-packages/tensorboard/manager.py\", line 155, in _info_from_string\n",
            "    raise ValueError(\"incompatible version: %r\" % (json_value,))\n",
            "ValueError: incompatible version: {'cache_key': 'eyJhcmd1bWVudHMiOlsiLS1sb2dkaXIiLCJsb2dzIl0sImNvbmZpZ3VyZV9rd2FyZ3MiOnt9LCJ3b3JraW5nX2RpcmVjdG9yeSI6Ii9jb250ZW50In0=', 'db': '', 'logdir': 'logs', 'path_prefix': '', 'pid': 1419, 'port': 6007, 'start_time': 1563081011, 'version': '1.15.0a20190713'}\n",
            "W0714 05:10:27.560175 140554220246912 manager.py:321] invalid info file: '/tmp/.tensorboard-info/pid-1369.info'\n",
            "Traceback (most recent call last):\n",
            "  File \"/usr/local/lib/python3.6/dist-packages/tensorboard/manager.py\", line 316, in get_all\n",
            "    info = _info_from_string(contents)\n",
            "  File \"/usr/local/lib/python3.6/dist-packages/tensorboard/manager.py\", line 155, in _info_from_string\n",
            "    raise ValueError(\"incompatible version: %r\" % (json_value,))\n",
            "ValueError: incompatible version: {'cache_key': 'eyJhcmd1bWVudHMiOlsiLS1sb2dkaXIiLCJsb2dzIl0sImNvbmZpZ3VyZV9rd2FyZ3MiOnt9LCJ3b3JraW5nX2RpcmVjdG9yeSI6Ii9jb250ZW50In0=', 'db': '', 'logdir': 'logs', 'path_prefix': '', 'pid': 1369, 'port': 6006, 'start_time': 1563080809, 'version': '1.15.0a20190713'}\n",
            "W0714 05:10:28.065119 140554220246912 manager.py:321] invalid info file: '/tmp/.tensorboard-info/pid-1419.info'\n",
            "Traceback (most recent call last):\n",
            "  File \"/usr/local/lib/python3.6/dist-packages/tensorboard/manager.py\", line 316, in get_all\n",
            "    info = _info_from_string(contents)\n",
            "  File \"/usr/local/lib/python3.6/dist-packages/tensorboard/manager.py\", line 155, in _info_from_string\n",
            "    raise ValueError(\"incompatible version: %r\" % (json_value,))\n",
            "ValueError: incompatible version: {'cache_key': 'eyJhcmd1bWVudHMiOlsiLS1sb2dkaXIiLCJsb2dzIl0sImNvbmZpZ3VyZV9rd2FyZ3MiOnt9LCJ3b3JraW5nX2RpcmVjdG9yeSI6Ii9jb250ZW50In0=', 'db': '', 'logdir': 'logs', 'path_prefix': '', 'pid': 1419, 'port': 6007, 'start_time': 1563081011, 'version': '1.15.0a20190713'}\n",
            "W0714 05:10:28.067426 140554220246912 manager.py:321] invalid info file: '/tmp/.tensorboard-info/pid-1369.info'\n",
            "Traceback (most recent call last):\n",
            "  File \"/usr/local/lib/python3.6/dist-packages/tensorboard/manager.py\", line 316, in get_all\n",
            "    info = _info_from_string(contents)\n",
            "  File \"/usr/local/lib/python3.6/dist-packages/tensorboard/manager.py\", line 155, in _info_from_string\n",
            "    raise ValueError(\"incompatible version: %r\" % (json_value,))\n",
            "ValueError: incompatible version: {'cache_key': 'eyJhcmd1bWVudHMiOlsiLS1sb2dkaXIiLCJsb2dzIl0sImNvbmZpZ3VyZV9rd2FyZ3MiOnt9LCJ3b3JraW5nX2RpcmVjdG9yeSI6Ii9jb250ZW50In0=', 'db': '', 'logdir': 'logs', 'path_prefix': '', 'pid': 1369, 'port': 6006, 'start_time': 1563080809, 'version': '1.15.0a20190713'}\n",
            "W0714 05:10:28.570029 140554220246912 manager.py:321] invalid info file: '/tmp/.tensorboard-info/pid-1419.info'\n",
            "Traceback (most recent call last):\n",
            "  File \"/usr/local/lib/python3.6/dist-packages/tensorboard/manager.py\", line 316, in get_all\n",
            "    info = _info_from_string(contents)\n",
            "  File \"/usr/local/lib/python3.6/dist-packages/tensorboard/manager.py\", line 155, in _info_from_string\n",
            "    raise ValueError(\"incompatible version: %r\" % (json_value,))\n",
            "ValueError: incompatible version: {'cache_key': 'eyJhcmd1bWVudHMiOlsiLS1sb2dkaXIiLCJsb2dzIl0sImNvbmZpZ3VyZV9rd2FyZ3MiOnt9LCJ3b3JraW5nX2RpcmVjdG9yeSI6Ii9jb250ZW50In0=', 'db': '', 'logdir': 'logs', 'path_prefix': '', 'pid': 1419, 'port': 6007, 'start_time': 1563081011, 'version': '1.15.0a20190713'}\n",
            "W0714 05:10:28.572042 140554220246912 manager.py:321] invalid info file: '/tmp/.tensorboard-info/pid-1369.info'\n",
            "Traceback (most recent call last):\n",
            "  File \"/usr/local/lib/python3.6/dist-packages/tensorboard/manager.py\", line 316, in get_all\n",
            "    info = _info_from_string(contents)\n",
            "  File \"/usr/local/lib/python3.6/dist-packages/tensorboard/manager.py\", line 155, in _info_from_string\n",
            "    raise ValueError(\"incompatible version: %r\" % (json_value,))\n",
            "ValueError: incompatible version: {'cache_key': 'eyJhcmd1bWVudHMiOlsiLS1sb2dkaXIiLCJsb2dzIl0sImNvbmZpZ3VyZV9rd2FyZ3MiOnt9LCJ3b3JraW5nX2RpcmVjdG9yeSI6Ii9jb250ZW50In0=', 'db': '', 'logdir': 'logs', 'path_prefix': '', 'pid': 1369, 'port': 6006, 'start_time': 1563080809, 'version': '1.15.0a20190713'}\n",
            "W0714 05:10:29.074448 140554220246912 manager.py:321] invalid info file: '/tmp/.tensorboard-info/pid-1419.info'\n",
            "Traceback (most recent call last):\n",
            "  File \"/usr/local/lib/python3.6/dist-packages/tensorboard/manager.py\", line 316, in get_all\n",
            "    info = _info_from_string(contents)\n",
            "  File \"/usr/local/lib/python3.6/dist-packages/tensorboard/manager.py\", line 155, in _info_from_string\n",
            "    raise ValueError(\"incompatible version: %r\" % (json_value,))\n",
            "ValueError: incompatible version: {'cache_key': 'eyJhcmd1bWVudHMiOlsiLS1sb2dkaXIiLCJsb2dzIl0sImNvbmZpZ3VyZV9rd2FyZ3MiOnt9LCJ3b3JraW5nX2RpcmVjdG9yeSI6Ii9jb250ZW50In0=', 'db': '', 'logdir': 'logs', 'path_prefix': '', 'pid': 1419, 'port': 6007, 'start_time': 1563081011, 'version': '1.15.0a20190713'}\n",
            "W0714 05:10:29.076455 140554220246912 manager.py:321] invalid info file: '/tmp/.tensorboard-info/pid-1369.info'\n",
            "Traceback (most recent call last):\n",
            "  File \"/usr/local/lib/python3.6/dist-packages/tensorboard/manager.py\", line 316, in get_all\n",
            "    info = _info_from_string(contents)\n",
            "  File \"/usr/local/lib/python3.6/dist-packages/tensorboard/manager.py\", line 155, in _info_from_string\n",
            "    raise ValueError(\"incompatible version: %r\" % (json_value,))\n",
            "ValueError: incompatible version: {'cache_key': 'eyJhcmd1bWVudHMiOlsiLS1sb2dkaXIiLCJsb2dzIl0sImNvbmZpZ3VyZV9rd2FyZ3MiOnt9LCJ3b3JraW5nX2RpcmVjdG9yeSI6Ii9jb250ZW50In0=', 'db': '', 'logdir': 'logs', 'path_prefix': '', 'pid': 1369, 'port': 6006, 'start_time': 1563080809, 'version': '1.15.0a20190713'}\n",
            "W0714 05:10:29.583036 140554220246912 manager.py:321] invalid info file: '/tmp/.tensorboard-info/pid-1419.info'\n",
            "Traceback (most recent call last):\n",
            "  File \"/usr/local/lib/python3.6/dist-packages/tensorboard/manager.py\", line 316, in get_all\n",
            "    info = _info_from_string(contents)\n",
            "  File \"/usr/local/lib/python3.6/dist-packages/tensorboard/manager.py\", line 155, in _info_from_string\n",
            "    raise ValueError(\"incompatible version: %r\" % (json_value,))\n",
            "ValueError: incompatible version: {'cache_key': 'eyJhcmd1bWVudHMiOlsiLS1sb2dkaXIiLCJsb2dzIl0sImNvbmZpZ3VyZV9rd2FyZ3MiOnt9LCJ3b3JraW5nX2RpcmVjdG9yeSI6Ii9jb250ZW50In0=', 'db': '', 'logdir': 'logs', 'path_prefix': '', 'pid': 1419, 'port': 6007, 'start_time': 1563081011, 'version': '1.15.0a20190713'}\n",
            "W0714 05:10:29.585460 140554220246912 manager.py:321] invalid info file: '/tmp/.tensorboard-info/pid-1369.info'\n",
            "Traceback (most recent call last):\n",
            "  File \"/usr/local/lib/python3.6/dist-packages/tensorboard/manager.py\", line 316, in get_all\n",
            "    info = _info_from_string(contents)\n",
            "  File \"/usr/local/lib/python3.6/dist-packages/tensorboard/manager.py\", line 155, in _info_from_string\n",
            "    raise ValueError(\"incompatible version: %r\" % (json_value,))\n",
            "ValueError: incompatible version: {'cache_key': 'eyJhcmd1bWVudHMiOlsiLS1sb2dkaXIiLCJsb2dzIl0sImNvbmZpZ3VyZV9rd2FyZ3MiOnt9LCJ3b3JraW5nX2RpcmVjdG9yeSI6Ii9jb250ZW50In0=', 'db': '', 'logdir': 'logs', 'path_prefix': '', 'pid': 1369, 'port': 6006, 'start_time': 1563080809, 'version': '1.15.0a20190713'}\n",
            "W0714 05:10:30.091386 140554220246912 manager.py:321] invalid info file: '/tmp/.tensorboard-info/pid-1419.info'\n",
            "Traceback (most recent call last):\n",
            "  File \"/usr/local/lib/python3.6/dist-packages/tensorboard/manager.py\", line 316, in get_all\n",
            "    info = _info_from_string(contents)\n",
            "  File \"/usr/local/lib/python3.6/dist-packages/tensorboard/manager.py\", line 155, in _info_from_string\n",
            "    raise ValueError(\"incompatible version: %r\" % (json_value,))\n",
            "ValueError: incompatible version: {'cache_key': 'eyJhcmd1bWVudHMiOlsiLS1sb2dkaXIiLCJsb2dzIl0sImNvbmZpZ3VyZV9rd2FyZ3MiOnt9LCJ3b3JraW5nX2RpcmVjdG9yeSI6Ii9jb250ZW50In0=', 'db': '', 'logdir': 'logs', 'path_prefix': '', 'pid': 1419, 'port': 6007, 'start_time': 1563081011, 'version': '1.15.0a20190713'}\n",
            "W0714 05:10:30.093646 140554220246912 manager.py:321] invalid info file: '/tmp/.tensorboard-info/pid-1369.info'\n",
            "Traceback (most recent call last):\n",
            "  File \"/usr/local/lib/python3.6/dist-packages/tensorboard/manager.py\", line 316, in get_all\n",
            "    info = _info_from_string(contents)\n",
            "  File \"/usr/local/lib/python3.6/dist-packages/tensorboard/manager.py\", line 155, in _info_from_string\n",
            "    raise ValueError(\"incompatible version: %r\" % (json_value,))\n",
            "ValueError: incompatible version: {'cache_key': 'eyJhcmd1bWVudHMiOlsiLS1sb2dkaXIiLCJsb2dzIl0sImNvbmZpZ3VyZV9rd2FyZ3MiOnt9LCJ3b3JraW5nX2RpcmVjdG9yeSI6Ii9jb250ZW50In0=', 'db': '', 'logdir': 'logs', 'path_prefix': '', 'pid': 1369, 'port': 6006, 'start_time': 1563080809, 'version': '1.15.0a20190713'}\n",
            "W0714 05:10:30.595739 140554220246912 manager.py:321] invalid info file: '/tmp/.tensorboard-info/pid-1419.info'\n",
            "Traceback (most recent call last):\n",
            "  File \"/usr/local/lib/python3.6/dist-packages/tensorboard/manager.py\", line 316, in get_all\n",
            "    info = _info_from_string(contents)\n",
            "  File \"/usr/local/lib/python3.6/dist-packages/tensorboard/manager.py\", line 155, in _info_from_string\n",
            "    raise ValueError(\"incompatible version: %r\" % (json_value,))\n",
            "ValueError: incompatible version: {'cache_key': 'eyJhcmd1bWVudHMiOlsiLS1sb2dkaXIiLCJsb2dzIl0sImNvbmZpZ3VyZV9rd2FyZ3MiOnt9LCJ3b3JraW5nX2RpcmVjdG9yeSI6Ii9jb250ZW50In0=', 'db': '', 'logdir': 'logs', 'path_prefix': '', 'pid': 1419, 'port': 6007, 'start_time': 1563081011, 'version': '1.15.0a20190713'}\n",
            "W0714 05:10:30.597144 140554220246912 manager.py:321] invalid info file: '/tmp/.tensorboard-info/pid-1369.info'\n",
            "Traceback (most recent call last):\n",
            "  File \"/usr/local/lib/python3.6/dist-packages/tensorboard/manager.py\", line 316, in get_all\n",
            "    info = _info_from_string(contents)\n",
            "  File \"/usr/local/lib/python3.6/dist-packages/tensorboard/manager.py\", line 155, in _info_from_string\n",
            "    raise ValueError(\"incompatible version: %r\" % (json_value,))\n",
            "ValueError: incompatible version: {'cache_key': 'eyJhcmd1bWVudHMiOlsiLS1sb2dkaXIiLCJsb2dzIl0sImNvbmZpZ3VyZV9rd2FyZ3MiOnt9LCJ3b3JraW5nX2RpcmVjdG9yeSI6Ii9jb250ZW50In0=', 'db': '', 'logdir': 'logs', 'path_prefix': '', 'pid': 1369, 'port': 6006, 'start_time': 1563080809, 'version': '1.15.0a20190713'}\n",
            "W0714 05:10:31.098975 140554220246912 manager.py:321] invalid info file: '/tmp/.tensorboard-info/pid-1419.info'\n",
            "Traceback (most recent call last):\n",
            "  File \"/usr/local/lib/python3.6/dist-packages/tensorboard/manager.py\", line 316, in get_all\n",
            "    info = _info_from_string(contents)\n",
            "  File \"/usr/local/lib/python3.6/dist-packages/tensorboard/manager.py\", line 155, in _info_from_string\n",
            "    raise ValueError(\"incompatible version: %r\" % (json_value,))\n",
            "ValueError: incompatible version: {'cache_key': 'eyJhcmd1bWVudHMiOlsiLS1sb2dkaXIiLCJsb2dzIl0sImNvbmZpZ3VyZV9rd2FyZ3MiOnt9LCJ3b3JraW5nX2RpcmVjdG9yeSI6Ii9jb250ZW50In0=', 'db': '', 'logdir': 'logs', 'path_prefix': '', 'pid': 1419, 'port': 6007, 'start_time': 1563081011, 'version': '1.15.0a20190713'}\n",
            "W0714 05:10:31.101027 140554220246912 manager.py:321] invalid info file: '/tmp/.tensorboard-info/pid-1369.info'\n",
            "Traceback (most recent call last):\n",
            "  File \"/usr/local/lib/python3.6/dist-packages/tensorboard/manager.py\", line 316, in get_all\n",
            "    info = _info_from_string(contents)\n",
            "  File \"/usr/local/lib/python3.6/dist-packages/tensorboard/manager.py\", line 155, in _info_from_string\n",
            "    raise ValueError(\"incompatible version: %r\" % (json_value,))\n",
            "ValueError: incompatible version: {'cache_key': 'eyJhcmd1bWVudHMiOlsiLS1sb2dkaXIiLCJsb2dzIl0sImNvbmZpZ3VyZV9rd2FyZ3MiOnt9LCJ3b3JraW5nX2RpcmVjdG9yeSI6Ii9jb250ZW50In0=', 'db': '', 'logdir': 'logs', 'path_prefix': '', 'pid': 1369, 'port': 6006, 'start_time': 1563080809, 'version': '1.15.0a20190713'}\n",
            "W0714 05:10:31.604630 140554220246912 manager.py:321] invalid info file: '/tmp/.tensorboard-info/pid-1419.info'\n",
            "Traceback (most recent call last):\n",
            "  File \"/usr/local/lib/python3.6/dist-packages/tensorboard/manager.py\", line 316, in get_all\n",
            "    info = _info_from_string(contents)\n",
            "  File \"/usr/local/lib/python3.6/dist-packages/tensorboard/manager.py\", line 155, in _info_from_string\n",
            "    raise ValueError(\"incompatible version: %r\" % (json_value,))\n",
            "ValueError: incompatible version: {'cache_key': 'eyJhcmd1bWVudHMiOlsiLS1sb2dkaXIiLCJsb2dzIl0sImNvbmZpZ3VyZV9rd2FyZ3MiOnt9LCJ3b3JraW5nX2RpcmVjdG9yeSI6Ii9jb250ZW50In0=', 'db': '', 'logdir': 'logs', 'path_prefix': '', 'pid': 1419, 'port': 6007, 'start_time': 1563081011, 'version': '1.15.0a20190713'}\n",
            "W0714 05:10:31.606576 140554220246912 manager.py:321] invalid info file: '/tmp/.tensorboard-info/pid-1369.info'\n",
            "Traceback (most recent call last):\n",
            "  File \"/usr/local/lib/python3.6/dist-packages/tensorboard/manager.py\", line 316, in get_all\n",
            "    info = _info_from_string(contents)\n",
            "  File \"/usr/local/lib/python3.6/dist-packages/tensorboard/manager.py\", line 155, in _info_from_string\n",
            "    raise ValueError(\"incompatible version: %r\" % (json_value,))\n",
            "ValueError: incompatible version: {'cache_key': 'eyJhcmd1bWVudHMiOlsiLS1sb2dkaXIiLCJsb2dzIl0sImNvbmZpZ3VyZV9rd2FyZ3MiOnt9LCJ3b3JraW5nX2RpcmVjdG9yeSI6Ii9jb250ZW50In0=', 'db': '', 'logdir': 'logs', 'path_prefix': '', 'pid': 1369, 'port': 6006, 'start_time': 1563080809, 'version': '1.15.0a20190713'}\n",
            "W0714 05:10:32.108949 140554220246912 manager.py:321] invalid info file: '/tmp/.tensorboard-info/pid-1419.info'\n",
            "Traceback (most recent call last):\n",
            "  File \"/usr/local/lib/python3.6/dist-packages/tensorboard/manager.py\", line 316, in get_all\n",
            "    info = _info_from_string(contents)\n",
            "  File \"/usr/local/lib/python3.6/dist-packages/tensorboard/manager.py\", line 155, in _info_from_string\n",
            "    raise ValueError(\"incompatible version: %r\" % (json_value,))\n",
            "ValueError: incompatible version: {'cache_key': 'eyJhcmd1bWVudHMiOlsiLS1sb2dkaXIiLCJsb2dzIl0sImNvbmZpZ3VyZV9rd2FyZ3MiOnt9LCJ3b3JraW5nX2RpcmVjdG9yeSI6Ii9jb250ZW50In0=', 'db': '', 'logdir': 'logs', 'path_prefix': '', 'pid': 1419, 'port': 6007, 'start_time': 1563081011, 'version': '1.15.0a20190713'}\n",
            "W0714 05:10:32.110808 140554220246912 manager.py:321] invalid info file: '/tmp/.tensorboard-info/pid-1369.info'\n",
            "Traceback (most recent call last):\n",
            "  File \"/usr/local/lib/python3.6/dist-packages/tensorboard/manager.py\", line 316, in get_all\n",
            "    info = _info_from_string(contents)\n",
            "  File \"/usr/local/lib/python3.6/dist-packages/tensorboard/manager.py\", line 155, in _info_from_string\n",
            "    raise ValueError(\"incompatible version: %r\" % (json_value,))\n",
            "ValueError: incompatible version: {'cache_key': 'eyJhcmd1bWVudHMiOlsiLS1sb2dkaXIiLCJsb2dzIl0sImNvbmZpZ3VyZV9rd2FyZ3MiOnt9LCJ3b3JraW5nX2RpcmVjdG9yeSI6Ii9jb250ZW50In0=', 'db': '', 'logdir': 'logs', 'path_prefix': '', 'pid': 1369, 'port': 6006, 'start_time': 1563080809, 'version': '1.15.0a20190713'}\n",
            "W0714 05:10:32.613132 140554220246912 manager.py:321] invalid info file: '/tmp/.tensorboard-info/pid-1419.info'\n",
            "Traceback (most recent call last):\n",
            "  File \"/usr/local/lib/python3.6/dist-packages/tensorboard/manager.py\", line 316, in get_all\n",
            "    info = _info_from_string(contents)\n",
            "  File \"/usr/local/lib/python3.6/dist-packages/tensorboard/manager.py\", line 155, in _info_from_string\n",
            "    raise ValueError(\"incompatible version: %r\" % (json_value,))\n",
            "ValueError: incompatible version: {'cache_key': 'eyJhcmd1bWVudHMiOlsiLS1sb2dkaXIiLCJsb2dzIl0sImNvbmZpZ3VyZV9rd2FyZ3MiOnt9LCJ3b3JraW5nX2RpcmVjdG9yeSI6Ii9jb250ZW50In0=', 'db': '', 'logdir': 'logs', 'path_prefix': '', 'pid': 1419, 'port': 6007, 'start_time': 1563081011, 'version': '1.15.0a20190713'}\n",
            "W0714 05:10:32.615267 140554220246912 manager.py:321] invalid info file: '/tmp/.tensorboard-info/pid-1369.info'\n",
            "Traceback (most recent call last):\n",
            "  File \"/usr/local/lib/python3.6/dist-packages/tensorboard/manager.py\", line 316, in get_all\n",
            "    info = _info_from_string(contents)\n",
            "  File \"/usr/local/lib/python3.6/dist-packages/tensorboard/manager.py\", line 155, in _info_from_string\n",
            "    raise ValueError(\"incompatible version: %r\" % (json_value,))\n",
            "ValueError: incompatible version: {'cache_key': 'eyJhcmd1bWVudHMiOlsiLS1sb2dkaXIiLCJsb2dzIl0sImNvbmZpZ3VyZV9rd2FyZ3MiOnt9LCJ3b3JraW5nX2RpcmVjdG9yeSI6Ii9jb250ZW50In0=', 'db': '', 'logdir': 'logs', 'path_prefix': '', 'pid': 1369, 'port': 6006, 'start_time': 1563080809, 'version': '1.15.0a20190713'}\n",
            "W0714 05:10:33.117988 140554220246912 manager.py:321] invalid info file: '/tmp/.tensorboard-info/pid-1419.info'\n",
            "Traceback (most recent call last):\n",
            "  File \"/usr/local/lib/python3.6/dist-packages/tensorboard/manager.py\", line 316, in get_all\n",
            "    info = _info_from_string(contents)\n",
            "  File \"/usr/local/lib/python3.6/dist-packages/tensorboard/manager.py\", line 155, in _info_from_string\n",
            "    raise ValueError(\"incompatible version: %r\" % (json_value,))\n",
            "ValueError: incompatible version: {'cache_key': 'eyJhcmd1bWVudHMiOlsiLS1sb2dkaXIiLCJsb2dzIl0sImNvbmZpZ3VyZV9rd2FyZ3MiOnt9LCJ3b3JraW5nX2RpcmVjdG9yeSI6Ii9jb250ZW50In0=', 'db': '', 'logdir': 'logs', 'path_prefix': '', 'pid': 1419, 'port': 6007, 'start_time': 1563081011, 'version': '1.15.0a20190713'}\n",
            "W0714 05:10:33.120036 140554220246912 manager.py:321] invalid info file: '/tmp/.tensorboard-info/pid-1369.info'\n",
            "Traceback (most recent call last):\n",
            "  File \"/usr/local/lib/python3.6/dist-packages/tensorboard/manager.py\", line 316, in get_all\n",
            "    info = _info_from_string(contents)\n",
            "  File \"/usr/local/lib/python3.6/dist-packages/tensorboard/manager.py\", line 155, in _info_from_string\n",
            "    raise ValueError(\"incompatible version: %r\" % (json_value,))\n",
            "ValueError: incompatible version: {'cache_key': 'eyJhcmd1bWVudHMiOlsiLS1sb2dkaXIiLCJsb2dzIl0sImNvbmZpZ3VyZV9rd2FyZ3MiOnt9LCJ3b3JraW5nX2RpcmVjdG9yeSI6Ii9jb250ZW50In0=', 'db': '', 'logdir': 'logs', 'path_prefix': '', 'pid': 1369, 'port': 6006, 'start_time': 1563080809, 'version': '1.15.0a20190713'}\n",
            "W0714 05:10:33.622592 140554220246912 manager.py:321] invalid info file: '/tmp/.tensorboard-info/pid-1419.info'\n",
            "Traceback (most recent call last):\n",
            "  File \"/usr/local/lib/python3.6/dist-packages/tensorboard/manager.py\", line 316, in get_all\n",
            "    info = _info_from_string(contents)\n",
            "  File \"/usr/local/lib/python3.6/dist-packages/tensorboard/manager.py\", line 155, in _info_from_string\n",
            "    raise ValueError(\"incompatible version: %r\" % (json_value,))\n",
            "ValueError: incompatible version: {'cache_key': 'eyJhcmd1bWVudHMiOlsiLS1sb2dkaXIiLCJsb2dzIl0sImNvbmZpZ3VyZV9rd2FyZ3MiOnt9LCJ3b3JraW5nX2RpcmVjdG9yeSI6Ii9jb250ZW50In0=', 'db': '', 'logdir': 'logs', 'path_prefix': '', 'pid': 1419, 'port': 6007, 'start_time': 1563081011, 'version': '1.15.0a20190713'}\n",
            "W0714 05:10:33.624364 140554220246912 manager.py:321] invalid info file: '/tmp/.tensorboard-info/pid-1369.info'\n",
            "Traceback (most recent call last):\n",
            "  File \"/usr/local/lib/python3.6/dist-packages/tensorboard/manager.py\", line 316, in get_all\n",
            "    info = _info_from_string(contents)\n",
            "  File \"/usr/local/lib/python3.6/dist-packages/tensorboard/manager.py\", line 155, in _info_from_string\n",
            "    raise ValueError(\"incompatible version: %r\" % (json_value,))\n",
            "ValueError: incompatible version: {'cache_key': 'eyJhcmd1bWVudHMiOlsiLS1sb2dkaXIiLCJsb2dzIl0sImNvbmZpZ3VyZV9rd2FyZ3MiOnt9LCJ3b3JraW5nX2RpcmVjdG9yeSI6Ii9jb250ZW50In0=', 'db': '', 'logdir': 'logs', 'path_prefix': '', 'pid': 1369, 'port': 6006, 'start_time': 1563080809, 'version': '1.15.0a20190713'}\n",
            "W0714 05:10:34.127181 140554220246912 manager.py:321] invalid info file: '/tmp/.tensorboard-info/pid-1419.info'\n",
            "Traceback (most recent call last):\n",
            "  File \"/usr/local/lib/python3.6/dist-packages/tensorboard/manager.py\", line 316, in get_all\n",
            "    info = _info_from_string(contents)\n",
            "  File \"/usr/local/lib/python3.6/dist-packages/tensorboard/manager.py\", line 155, in _info_from_string\n",
            "    raise ValueError(\"incompatible version: %r\" % (json_value,))\n",
            "ValueError: incompatible version: {'cache_key': 'eyJhcmd1bWVudHMiOlsiLS1sb2dkaXIiLCJsb2dzIl0sImNvbmZpZ3VyZV9rd2FyZ3MiOnt9LCJ3b3JraW5nX2RpcmVjdG9yeSI6Ii9jb250ZW50In0=', 'db': '', 'logdir': 'logs', 'path_prefix': '', 'pid': 1419, 'port': 6007, 'start_time': 1563081011, 'version': '1.15.0a20190713'}\n",
            "W0714 05:10:34.129360 140554220246912 manager.py:321] invalid info file: '/tmp/.tensorboard-info/pid-1369.info'\n",
            "Traceback (most recent call last):\n",
            "  File \"/usr/local/lib/python3.6/dist-packages/tensorboard/manager.py\", line 316, in get_all\n",
            "    info = _info_from_string(contents)\n",
            "  File \"/usr/local/lib/python3.6/dist-packages/tensorboard/manager.py\", line 155, in _info_from_string\n",
            "    raise ValueError(\"incompatible version: %r\" % (json_value,))\n",
            "ValueError: incompatible version: {'cache_key': 'eyJhcmd1bWVudHMiOlsiLS1sb2dkaXIiLCJsb2dzIl0sImNvbmZpZ3VyZV9rd2FyZ3MiOnt9LCJ3b3JraW5nX2RpcmVjdG9yeSI6Ii9jb250ZW50In0=', 'db': '', 'logdir': 'logs', 'path_prefix': '', 'pid': 1369, 'port': 6006, 'start_time': 1563080809, 'version': '1.15.0a20190713'}\n",
            "W0714 05:10:34.634982 140554220246912 manager.py:321] invalid info file: '/tmp/.tensorboard-info/pid-1419.info'\n",
            "Traceback (most recent call last):\n",
            "  File \"/usr/local/lib/python3.6/dist-packages/tensorboard/manager.py\", line 316, in get_all\n",
            "    info = _info_from_string(contents)\n",
            "  File \"/usr/local/lib/python3.6/dist-packages/tensorboard/manager.py\", line 155, in _info_from_string\n",
            "    raise ValueError(\"incompatible version: %r\" % (json_value,))\n",
            "ValueError: incompatible version: {'cache_key': 'eyJhcmd1bWVudHMiOlsiLS1sb2dkaXIiLCJsb2dzIl0sImNvbmZpZ3VyZV9rd2FyZ3MiOnt9LCJ3b3JraW5nX2RpcmVjdG9yeSI6Ii9jb250ZW50In0=', 'db': '', 'logdir': 'logs', 'path_prefix': '', 'pid': 1419, 'port': 6007, 'start_time': 1563081011, 'version': '1.15.0a20190713'}\n",
            "W0714 05:10:34.636923 140554220246912 manager.py:321] invalid info file: '/tmp/.tensorboard-info/pid-1369.info'\n",
            "Traceback (most recent call last):\n",
            "  File \"/usr/local/lib/python3.6/dist-packages/tensorboard/manager.py\", line 316, in get_all\n",
            "    info = _info_from_string(contents)\n",
            "  File \"/usr/local/lib/python3.6/dist-packages/tensorboard/manager.py\", line 155, in _info_from_string\n",
            "    raise ValueError(\"incompatible version: %r\" % (json_value,))\n",
            "ValueError: incompatible version: {'cache_key': 'eyJhcmd1bWVudHMiOlsiLS1sb2dkaXIiLCJsb2dzIl0sImNvbmZpZ3VyZV9rd2FyZ3MiOnt9LCJ3b3JraW5nX2RpcmVjdG9yeSI6Ii9jb250ZW50In0=', 'db': '', 'logdir': 'logs', 'path_prefix': '', 'pid': 1369, 'port': 6006, 'start_time': 1563080809, 'version': '1.15.0a20190713'}\n",
            "W0714 05:10:35.140235 140554220246912 manager.py:321] invalid info file: '/tmp/.tensorboard-info/pid-1419.info'\n",
            "Traceback (most recent call last):\n",
            "  File \"/usr/local/lib/python3.6/dist-packages/tensorboard/manager.py\", line 316, in get_all\n",
            "    info = _info_from_string(contents)\n",
            "  File \"/usr/local/lib/python3.6/dist-packages/tensorboard/manager.py\", line 155, in _info_from_string\n",
            "    raise ValueError(\"incompatible version: %r\" % (json_value,))\n",
            "ValueError: incompatible version: {'cache_key': 'eyJhcmd1bWVudHMiOlsiLS1sb2dkaXIiLCJsb2dzIl0sImNvbmZpZ3VyZV9rd2FyZ3MiOnt9LCJ3b3JraW5nX2RpcmVjdG9yeSI6Ii9jb250ZW50In0=', 'db': '', 'logdir': 'logs', 'path_prefix': '', 'pid': 1419, 'port': 6007, 'start_time': 1563081011, 'version': '1.15.0a20190713'}\n",
            "W0714 05:10:35.141902 140554220246912 manager.py:321] invalid info file: '/tmp/.tensorboard-info/pid-1369.info'\n",
            "Traceback (most recent call last):\n",
            "  File \"/usr/local/lib/python3.6/dist-packages/tensorboard/manager.py\", line 316, in get_all\n",
            "    info = _info_from_string(contents)\n",
            "  File \"/usr/local/lib/python3.6/dist-packages/tensorboard/manager.py\", line 155, in _info_from_string\n",
            "    raise ValueError(\"incompatible version: %r\" % (json_value,))\n",
            "ValueError: incompatible version: {'cache_key': 'eyJhcmd1bWVudHMiOlsiLS1sb2dkaXIiLCJsb2dzIl0sImNvbmZpZ3VyZV9rd2FyZ3MiOnt9LCJ3b3JraW5nX2RpcmVjdG9yeSI6Ii9jb250ZW50In0=', 'db': '', 'logdir': 'logs', 'path_prefix': '', 'pid': 1369, 'port': 6006, 'start_time': 1563080809, 'version': '1.15.0a20190713'}\n",
            "W0714 05:10:35.646415 140554220246912 manager.py:321] invalid info file: '/tmp/.tensorboard-info/pid-1419.info'\n",
            "Traceback (most recent call last):\n",
            "  File \"/usr/local/lib/python3.6/dist-packages/tensorboard/manager.py\", line 316, in get_all\n",
            "    info = _info_from_string(contents)\n",
            "  File \"/usr/local/lib/python3.6/dist-packages/tensorboard/manager.py\", line 155, in _info_from_string\n",
            "    raise ValueError(\"incompatible version: %r\" % (json_value,))\n",
            "ValueError: incompatible version: {'cache_key': 'eyJhcmd1bWVudHMiOlsiLS1sb2dkaXIiLCJsb2dzIl0sImNvbmZpZ3VyZV9rd2FyZ3MiOnt9LCJ3b3JraW5nX2RpcmVjdG9yeSI6Ii9jb250ZW50In0=', 'db': '', 'logdir': 'logs', 'path_prefix': '', 'pid': 1419, 'port': 6007, 'start_time': 1563081011, 'version': '1.15.0a20190713'}\n",
            "W0714 05:10:35.647913 140554220246912 manager.py:321] invalid info file: '/tmp/.tensorboard-info/pid-1369.info'\n",
            "Traceback (most recent call last):\n",
            "  File \"/usr/local/lib/python3.6/dist-packages/tensorboard/manager.py\", line 316, in get_all\n",
            "    info = _info_from_string(contents)\n",
            "  File \"/usr/local/lib/python3.6/dist-packages/tensorboard/manager.py\", line 155, in _info_from_string\n",
            "    raise ValueError(\"incompatible version: %r\" % (json_value,))\n",
            "ValueError: incompatible version: {'cache_key': 'eyJhcmd1bWVudHMiOlsiLS1sb2dkaXIiLCJsb2dzIl0sImNvbmZpZ3VyZV9rd2FyZ3MiOnt9LCJ3b3JraW5nX2RpcmVjdG9yeSI6Ii9jb250ZW50In0=', 'db': '', 'logdir': 'logs', 'path_prefix': '', 'pid': 1369, 'port': 6006, 'start_time': 1563080809, 'version': '1.15.0a20190713'}\n",
            "W0714 05:10:36.150059 140554220246912 manager.py:321] invalid info file: '/tmp/.tensorboard-info/pid-1419.info'\n",
            "Traceback (most recent call last):\n",
            "  File \"/usr/local/lib/python3.6/dist-packages/tensorboard/manager.py\", line 316, in get_all\n",
            "    info = _info_from_string(contents)\n",
            "  File \"/usr/local/lib/python3.6/dist-packages/tensorboard/manager.py\", line 155, in _info_from_string\n",
            "    raise ValueError(\"incompatible version: %r\" % (json_value,))\n",
            "ValueError: incompatible version: {'cache_key': 'eyJhcmd1bWVudHMiOlsiLS1sb2dkaXIiLCJsb2dzIl0sImNvbmZpZ3VyZV9rd2FyZ3MiOnt9LCJ3b3JraW5nX2RpcmVjdG9yeSI6Ii9jb250ZW50In0=', 'db': '', 'logdir': 'logs', 'path_prefix': '', 'pid': 1419, 'port': 6007, 'start_time': 1563081011, 'version': '1.15.0a20190713'}\n",
            "W0714 05:10:36.151600 140554220246912 manager.py:321] invalid info file: '/tmp/.tensorboard-info/pid-1369.info'\n",
            "Traceback (most recent call last):\n",
            "  File \"/usr/local/lib/python3.6/dist-packages/tensorboard/manager.py\", line 316, in get_all\n",
            "    info = _info_from_string(contents)\n",
            "  File \"/usr/local/lib/python3.6/dist-packages/tensorboard/manager.py\", line 155, in _info_from_string\n",
            "    raise ValueError(\"incompatible version: %r\" % (json_value,))\n",
            "ValueError: incompatible version: {'cache_key': 'eyJhcmd1bWVudHMiOlsiLS1sb2dkaXIiLCJsb2dzIl0sImNvbmZpZ3VyZV9rd2FyZ3MiOnt9LCJ3b3JraW5nX2RpcmVjdG9yeSI6Ii9jb250ZW50In0=', 'db': '', 'logdir': 'logs', 'path_prefix': '', 'pid': 1369, 'port': 6006, 'start_time': 1563080809, 'version': '1.15.0a20190713'}\n",
            "W0714 05:10:36.654086 140554220246912 manager.py:321] invalid info file: '/tmp/.tensorboard-info/pid-1419.info'\n",
            "Traceback (most recent call last):\n",
            "  File \"/usr/local/lib/python3.6/dist-packages/tensorboard/manager.py\", line 316, in get_all\n",
            "    info = _info_from_string(contents)\n",
            "  File \"/usr/local/lib/python3.6/dist-packages/tensorboard/manager.py\", line 155, in _info_from_string\n",
            "    raise ValueError(\"incompatible version: %r\" % (json_value,))\n",
            "ValueError: incompatible version: {'cache_key': 'eyJhcmd1bWVudHMiOlsiLS1sb2dkaXIiLCJsb2dzIl0sImNvbmZpZ3VyZV9rd2FyZ3MiOnt9LCJ3b3JraW5nX2RpcmVjdG9yeSI6Ii9jb250ZW50In0=', 'db': '', 'logdir': 'logs', 'path_prefix': '', 'pid': 1419, 'port': 6007, 'start_time': 1563081011, 'version': '1.15.0a20190713'}\n",
            "W0714 05:10:36.656064 140554220246912 manager.py:321] invalid info file: '/tmp/.tensorboard-info/pid-1369.info'\n",
            "Traceback (most recent call last):\n",
            "  File \"/usr/local/lib/python3.6/dist-packages/tensorboard/manager.py\", line 316, in get_all\n",
            "    info = _info_from_string(contents)\n",
            "  File \"/usr/local/lib/python3.6/dist-packages/tensorboard/manager.py\", line 155, in _info_from_string\n",
            "    raise ValueError(\"incompatible version: %r\" % (json_value,))\n",
            "ValueError: incompatible version: {'cache_key': 'eyJhcmd1bWVudHMiOlsiLS1sb2dkaXIiLCJsb2dzIl0sImNvbmZpZ3VyZV9rd2FyZ3MiOnt9LCJ3b3JraW5nX2RpcmVjdG9yeSI6Ii9jb250ZW50In0=', 'db': '', 'logdir': 'logs', 'path_prefix': '', 'pid': 1369, 'port': 6006, 'start_time': 1563080809, 'version': '1.15.0a20190713'}\n",
            "W0714 05:10:37.158635 140554220246912 manager.py:321] invalid info file: '/tmp/.tensorboard-info/pid-1419.info'\n",
            "Traceback (most recent call last):\n",
            "  File \"/usr/local/lib/python3.6/dist-packages/tensorboard/manager.py\", line 316, in get_all\n",
            "    info = _info_from_string(contents)\n",
            "  File \"/usr/local/lib/python3.6/dist-packages/tensorboard/manager.py\", line 155, in _info_from_string\n",
            "    raise ValueError(\"incompatible version: %r\" % (json_value,))\n",
            "ValueError: incompatible version: {'cache_key': 'eyJhcmd1bWVudHMiOlsiLS1sb2dkaXIiLCJsb2dzIl0sImNvbmZpZ3VyZV9rd2FyZ3MiOnt9LCJ3b3JraW5nX2RpcmVjdG9yeSI6Ii9jb250ZW50In0=', 'db': '', 'logdir': 'logs', 'path_prefix': '', 'pid': 1419, 'port': 6007, 'start_time': 1563081011, 'version': '1.15.0a20190713'}\n",
            "W0714 05:10:37.160791 140554220246912 manager.py:321] invalid info file: '/tmp/.tensorboard-info/pid-1369.info'\n",
            "Traceback (most recent call last):\n",
            "  File \"/usr/local/lib/python3.6/dist-packages/tensorboard/manager.py\", line 316, in get_all\n",
            "    info = _info_from_string(contents)\n",
            "  File \"/usr/local/lib/python3.6/dist-packages/tensorboard/manager.py\", line 155, in _info_from_string\n",
            "    raise ValueError(\"incompatible version: %r\" % (json_value,))\n",
            "ValueError: incompatible version: {'cache_key': 'eyJhcmd1bWVudHMiOlsiLS1sb2dkaXIiLCJsb2dzIl0sImNvbmZpZ3VyZV9rd2FyZ3MiOnt9LCJ3b3JraW5nX2RpcmVjdG9yeSI6Ii9jb250ZW50In0=', 'db': '', 'logdir': 'logs', 'path_prefix': '', 'pid': 1369, 'port': 6006, 'start_time': 1563080809, 'version': '1.15.0a20190713'}\n",
            "W0714 05:10:37.663348 140554220246912 manager.py:321] invalid info file: '/tmp/.tensorboard-info/pid-1419.info'\n",
            "Traceback (most recent call last):\n",
            "  File \"/usr/local/lib/python3.6/dist-packages/tensorboard/manager.py\", line 316, in get_all\n",
            "    info = _info_from_string(contents)\n",
            "  File \"/usr/local/lib/python3.6/dist-packages/tensorboard/manager.py\", line 155, in _info_from_string\n",
            "    raise ValueError(\"incompatible version: %r\" % (json_value,))\n",
            "ValueError: incompatible version: {'cache_key': 'eyJhcmd1bWVudHMiOlsiLS1sb2dkaXIiLCJsb2dzIl0sImNvbmZpZ3VyZV9rd2FyZ3MiOnt9LCJ3b3JraW5nX2RpcmVjdG9yeSI6Ii9jb250ZW50In0=', 'db': '', 'logdir': 'logs', 'path_prefix': '', 'pid': 1419, 'port': 6007, 'start_time': 1563081011, 'version': '1.15.0a20190713'}\n",
            "W0714 05:10:37.665590 140554220246912 manager.py:321] invalid info file: '/tmp/.tensorboard-info/pid-1369.info'\n",
            "Traceback (most recent call last):\n",
            "  File \"/usr/local/lib/python3.6/dist-packages/tensorboard/manager.py\", line 316, in get_all\n",
            "    info = _info_from_string(contents)\n",
            "  File \"/usr/local/lib/python3.6/dist-packages/tensorboard/manager.py\", line 155, in _info_from_string\n",
            "    raise ValueError(\"incompatible version: %r\" % (json_value,))\n",
            "ValueError: incompatible version: {'cache_key': 'eyJhcmd1bWVudHMiOlsiLS1sb2dkaXIiLCJsb2dzIl0sImNvbmZpZ3VyZV9rd2FyZ3MiOnt9LCJ3b3JraW5nX2RpcmVjdG9yeSI6Ii9jb250ZW50In0=', 'db': '', 'logdir': 'logs', 'path_prefix': '', 'pid': 1369, 'port': 6006, 'start_time': 1563080809, 'version': '1.15.0a20190713'}\n",
            "W0714 05:10:38.168298 140554220246912 manager.py:321] invalid info file: '/tmp/.tensorboard-info/pid-1419.info'\n",
            "Traceback (most recent call last):\n",
            "  File \"/usr/local/lib/python3.6/dist-packages/tensorboard/manager.py\", line 316, in get_all\n",
            "    info = _info_from_string(contents)\n",
            "  File \"/usr/local/lib/python3.6/dist-packages/tensorboard/manager.py\", line 155, in _info_from_string\n",
            "    raise ValueError(\"incompatible version: %r\" % (json_value,))\n",
            "ValueError: incompatible version: {'cache_key': 'eyJhcmd1bWVudHMiOlsiLS1sb2dkaXIiLCJsb2dzIl0sImNvbmZpZ3VyZV9rd2FyZ3MiOnt9LCJ3b3JraW5nX2RpcmVjdG9yeSI6Ii9jb250ZW50In0=', 'db': '', 'logdir': 'logs', 'path_prefix': '', 'pid': 1419, 'port': 6007, 'start_time': 1563081011, 'version': '1.15.0a20190713'}\n",
            "W0714 05:10:38.170054 140554220246912 manager.py:321] invalid info file: '/tmp/.tensorboard-info/pid-1369.info'\n",
            "Traceback (most recent call last):\n",
            "  File \"/usr/local/lib/python3.6/dist-packages/tensorboard/manager.py\", line 316, in get_all\n",
            "    info = _info_from_string(contents)\n",
            "  File \"/usr/local/lib/python3.6/dist-packages/tensorboard/manager.py\", line 155, in _info_from_string\n",
            "    raise ValueError(\"incompatible version: %r\" % (json_value,))\n",
            "ValueError: incompatible version: {'cache_key': 'eyJhcmd1bWVudHMiOlsiLS1sb2dkaXIiLCJsb2dzIl0sImNvbmZpZ3VyZV9rd2FyZ3MiOnt9LCJ3b3JraW5nX2RpcmVjdG9yeSI6Ii9jb250ZW50In0=', 'db': '', 'logdir': 'logs', 'path_prefix': '', 'pid': 1369, 'port': 6006, 'start_time': 1563080809, 'version': '1.15.0a20190713'}\n",
            "W0714 05:10:38.672419 140554220246912 manager.py:321] invalid info file: '/tmp/.tensorboard-info/pid-1419.info'\n",
            "Traceback (most recent call last):\n",
            "  File \"/usr/local/lib/python3.6/dist-packages/tensorboard/manager.py\", line 316, in get_all\n",
            "    info = _info_from_string(contents)\n",
            "  File \"/usr/local/lib/python3.6/dist-packages/tensorboard/manager.py\", line 155, in _info_from_string\n",
            "    raise ValueError(\"incompatible version: %r\" % (json_value,))\n",
            "ValueError: incompatible version: {'cache_key': 'eyJhcmd1bWVudHMiOlsiLS1sb2dkaXIiLCJsb2dzIl0sImNvbmZpZ3VyZV9rd2FyZ3MiOnt9LCJ3b3JraW5nX2RpcmVjdG9yeSI6Ii9jb250ZW50In0=', 'db': '', 'logdir': 'logs', 'path_prefix': '', 'pid': 1419, 'port': 6007, 'start_time': 1563081011, 'version': '1.15.0a20190713'}\n",
            "W0714 05:10:38.674114 140554220246912 manager.py:321] invalid info file: '/tmp/.tensorboard-info/pid-1369.info'\n",
            "Traceback (most recent call last):\n",
            "  File \"/usr/local/lib/python3.6/dist-packages/tensorboard/manager.py\", line 316, in get_all\n",
            "    info = _info_from_string(contents)\n",
            "  File \"/usr/local/lib/python3.6/dist-packages/tensorboard/manager.py\", line 155, in _info_from_string\n",
            "    raise ValueError(\"incompatible version: %r\" % (json_value,))\n",
            "ValueError: incompatible version: {'cache_key': 'eyJhcmd1bWVudHMiOlsiLS1sb2dkaXIiLCJsb2dzIl0sImNvbmZpZ3VyZV9rd2FyZ3MiOnt9LCJ3b3JraW5nX2RpcmVjdG9yeSI6Ii9jb250ZW50In0=', 'db': '', 'logdir': 'logs', 'path_prefix': '', 'pid': 1369, 'port': 6006, 'start_time': 1563080809, 'version': '1.15.0a20190713'}\n",
            "W0714 05:10:39.176290 140554220246912 manager.py:321] invalid info file: '/tmp/.tensorboard-info/pid-1419.info'\n",
            "Traceback (most recent call last):\n",
            "  File \"/usr/local/lib/python3.6/dist-packages/tensorboard/manager.py\", line 316, in get_all\n",
            "    info = _info_from_string(contents)\n",
            "  File \"/usr/local/lib/python3.6/dist-packages/tensorboard/manager.py\", line 155, in _info_from_string\n",
            "    raise ValueError(\"incompatible version: %r\" % (json_value,))\n",
            "ValueError: incompatible version: {'cache_key': 'eyJhcmd1bWVudHMiOlsiLS1sb2dkaXIiLCJsb2dzIl0sImNvbmZpZ3VyZV9rd2FyZ3MiOnt9LCJ3b3JraW5nX2RpcmVjdG9yeSI6Ii9jb250ZW50In0=', 'db': '', 'logdir': 'logs', 'path_prefix': '', 'pid': 1419, 'port': 6007, 'start_time': 1563081011, 'version': '1.15.0a20190713'}\n",
            "W0714 05:10:39.178275 140554220246912 manager.py:321] invalid info file: '/tmp/.tensorboard-info/pid-1369.info'\n",
            "Traceback (most recent call last):\n",
            "  File \"/usr/local/lib/python3.6/dist-packages/tensorboard/manager.py\", line 316, in get_all\n",
            "    info = _info_from_string(contents)\n",
            "  File \"/usr/local/lib/python3.6/dist-packages/tensorboard/manager.py\", line 155, in _info_from_string\n",
            "    raise ValueError(\"incompatible version: %r\" % (json_value,))\n",
            "ValueError: incompatible version: {'cache_key': 'eyJhcmd1bWVudHMiOlsiLS1sb2dkaXIiLCJsb2dzIl0sImNvbmZpZ3VyZV9rd2FyZ3MiOnt9LCJ3b3JraW5nX2RpcmVjdG9yeSI6Ii9jb250ZW50In0=', 'db': '', 'logdir': 'logs', 'path_prefix': '', 'pid': 1369, 'port': 6006, 'start_time': 1563080809, 'version': '1.15.0a20190713'}\n",
            "W0714 05:10:39.680772 140554220246912 manager.py:321] invalid info file: '/tmp/.tensorboard-info/pid-1419.info'\n",
            "Traceback (most recent call last):\n",
            "  File \"/usr/local/lib/python3.6/dist-packages/tensorboard/manager.py\", line 316, in get_all\n",
            "    info = _info_from_string(contents)\n",
            "  File \"/usr/local/lib/python3.6/dist-packages/tensorboard/manager.py\", line 155, in _info_from_string\n",
            "    raise ValueError(\"incompatible version: %r\" % (json_value,))\n",
            "ValueError: incompatible version: {'cache_key': 'eyJhcmd1bWVudHMiOlsiLS1sb2dkaXIiLCJsb2dzIl0sImNvbmZpZ3VyZV9rd2FyZ3MiOnt9LCJ3b3JraW5nX2RpcmVjdG9yeSI6Ii9jb250ZW50In0=', 'db': '', 'logdir': 'logs', 'path_prefix': '', 'pid': 1419, 'port': 6007, 'start_time': 1563081011, 'version': '1.15.0a20190713'}\n",
            "W0714 05:10:39.682807 140554220246912 manager.py:321] invalid info file: '/tmp/.tensorboard-info/pid-1369.info'\n",
            "Traceback (most recent call last):\n",
            "  File \"/usr/local/lib/python3.6/dist-packages/tensorboard/manager.py\", line 316, in get_all\n",
            "    info = _info_from_string(contents)\n",
            "  File \"/usr/local/lib/python3.6/dist-packages/tensorboard/manager.py\", line 155, in _info_from_string\n",
            "    raise ValueError(\"incompatible version: %r\" % (json_value,))\n",
            "ValueError: incompatible version: {'cache_key': 'eyJhcmd1bWVudHMiOlsiLS1sb2dkaXIiLCJsb2dzIl0sImNvbmZpZ3VyZV9rd2FyZ3MiOnt9LCJ3b3JraW5nX2RpcmVjdG9yeSI6Ii9jb250ZW50In0=', 'db': '', 'logdir': 'logs', 'path_prefix': '', 'pid': 1369, 'port': 6006, 'start_time': 1563080809, 'version': '1.15.0a20190713'}\n",
            "W0714 05:10:40.185430 140554220246912 manager.py:321] invalid info file: '/tmp/.tensorboard-info/pid-1419.info'\n",
            "Traceback (most recent call last):\n",
            "  File \"/usr/local/lib/python3.6/dist-packages/tensorboard/manager.py\", line 316, in get_all\n",
            "    info = _info_from_string(contents)\n",
            "  File \"/usr/local/lib/python3.6/dist-packages/tensorboard/manager.py\", line 155, in _info_from_string\n",
            "    raise ValueError(\"incompatible version: %r\" % (json_value,))\n",
            "ValueError: incompatible version: {'cache_key': 'eyJhcmd1bWVudHMiOlsiLS1sb2dkaXIiLCJsb2dzIl0sImNvbmZpZ3VyZV9rd2FyZ3MiOnt9LCJ3b3JraW5nX2RpcmVjdG9yeSI6Ii9jb250ZW50In0=', 'db': '', 'logdir': 'logs', 'path_prefix': '', 'pid': 1419, 'port': 6007, 'start_time': 1563081011, 'version': '1.15.0a20190713'}\n",
            "W0714 05:10:40.187786 140554220246912 manager.py:321] invalid info file: '/tmp/.tensorboard-info/pid-1369.info'\n",
            "Traceback (most recent call last):\n",
            "  File \"/usr/local/lib/python3.6/dist-packages/tensorboard/manager.py\", line 316, in get_all\n",
            "    info = _info_from_string(contents)\n",
            "  File \"/usr/local/lib/python3.6/dist-packages/tensorboard/manager.py\", line 155, in _info_from_string\n",
            "    raise ValueError(\"incompatible version: %r\" % (json_value,))\n",
            "ValueError: incompatible version: {'cache_key': 'eyJhcmd1bWVudHMiOlsiLS1sb2dkaXIiLCJsb2dzIl0sImNvbmZpZ3VyZV9rd2FyZ3MiOnt9LCJ3b3JraW5nX2RpcmVjdG9yeSI6Ii9jb250ZW50In0=', 'db': '', 'logdir': 'logs', 'path_prefix': '', 'pid': 1369, 'port': 6006, 'start_time': 1563080809, 'version': '1.15.0a20190713'}\n",
            "W0714 05:10:40.690161 140554220246912 manager.py:321] invalid info file: '/tmp/.tensorboard-info/pid-1419.info'\n",
            "Traceback (most recent call last):\n",
            "  File \"/usr/local/lib/python3.6/dist-packages/tensorboard/manager.py\", line 316, in get_all\n",
            "    info = _info_from_string(contents)\n",
            "  File \"/usr/local/lib/python3.6/dist-packages/tensorboard/manager.py\", line 155, in _info_from_string\n",
            "    raise ValueError(\"incompatible version: %r\" % (json_value,))\n",
            "ValueError: incompatible version: {'cache_key': 'eyJhcmd1bWVudHMiOlsiLS1sb2dkaXIiLCJsb2dzIl0sImNvbmZpZ3VyZV9rd2FyZ3MiOnt9LCJ3b3JraW5nX2RpcmVjdG9yeSI6Ii9jb250ZW50In0=', 'db': '', 'logdir': 'logs', 'path_prefix': '', 'pid': 1419, 'port': 6007, 'start_time': 1563081011, 'version': '1.15.0a20190713'}\n",
            "W0714 05:10:40.692300 140554220246912 manager.py:321] invalid info file: '/tmp/.tensorboard-info/pid-1369.info'\n",
            "Traceback (most recent call last):\n",
            "  File \"/usr/local/lib/python3.6/dist-packages/tensorboard/manager.py\", line 316, in get_all\n",
            "    info = _info_from_string(contents)\n",
            "  File \"/usr/local/lib/python3.6/dist-packages/tensorboard/manager.py\", line 155, in _info_from_string\n",
            "    raise ValueError(\"incompatible version: %r\" % (json_value,))\n",
            "ValueError: incompatible version: {'cache_key': 'eyJhcmd1bWVudHMiOlsiLS1sb2dkaXIiLCJsb2dzIl0sImNvbmZpZ3VyZV9rd2FyZ3MiOnt9LCJ3b3JraW5nX2RpcmVjdG9yeSI6Ii9jb250ZW50In0=', 'db': '', 'logdir': 'logs', 'path_prefix': '', 'pid': 1369, 'port': 6006, 'start_time': 1563080809, 'version': '1.15.0a20190713'}\n",
            "W0714 05:10:41.194803 140554220246912 manager.py:321] invalid info file: '/tmp/.tensorboard-info/pid-1419.info'\n",
            "Traceback (most recent call last):\n",
            "  File \"/usr/local/lib/python3.6/dist-packages/tensorboard/manager.py\", line 316, in get_all\n",
            "    info = _info_from_string(contents)\n",
            "  File \"/usr/local/lib/python3.6/dist-packages/tensorboard/manager.py\", line 155, in _info_from_string\n",
            "    raise ValueError(\"incompatible version: %r\" % (json_value,))\n",
            "ValueError: incompatible version: {'cache_key': 'eyJhcmd1bWVudHMiOlsiLS1sb2dkaXIiLCJsb2dzIl0sImNvbmZpZ3VyZV9rd2FyZ3MiOnt9LCJ3b3JraW5nX2RpcmVjdG9yeSI6Ii9jb250ZW50In0=', 'db': '', 'logdir': 'logs', 'path_prefix': '', 'pid': 1419, 'port': 6007, 'start_time': 1563081011, 'version': '1.15.0a20190713'}\n",
            "W0714 05:10:41.197218 140554220246912 manager.py:321] invalid info file: '/tmp/.tensorboard-info/pid-1369.info'\n",
            "Traceback (most recent call last):\n",
            "  File \"/usr/local/lib/python3.6/dist-packages/tensorboard/manager.py\", line 316, in get_all\n",
            "    info = _info_from_string(contents)\n",
            "  File \"/usr/local/lib/python3.6/dist-packages/tensorboard/manager.py\", line 155, in _info_from_string\n",
            "    raise ValueError(\"incompatible version: %r\" % (json_value,))\n",
            "ValueError: incompatible version: {'cache_key': 'eyJhcmd1bWVudHMiOlsiLS1sb2dkaXIiLCJsb2dzIl0sImNvbmZpZ3VyZV9rd2FyZ3MiOnt9LCJ3b3JraW5nX2RpcmVjdG9yeSI6Ii9jb250ZW50In0=', 'db': '', 'logdir': 'logs', 'path_prefix': '', 'pid': 1369, 'port': 6006, 'start_time': 1563080809, 'version': '1.15.0a20190713'}\n",
            "W0714 05:10:41.699844 140554220246912 manager.py:321] invalid info file: '/tmp/.tensorboard-info/pid-1419.info'\n",
            "Traceback (most recent call last):\n",
            "  File \"/usr/local/lib/python3.6/dist-packages/tensorboard/manager.py\", line 316, in get_all\n",
            "    info = _info_from_string(contents)\n",
            "  File \"/usr/local/lib/python3.6/dist-packages/tensorboard/manager.py\", line 155, in _info_from_string\n",
            "    raise ValueError(\"incompatible version: %r\" % (json_value,))\n",
            "ValueError: incompatible version: {'cache_key': 'eyJhcmd1bWVudHMiOlsiLS1sb2dkaXIiLCJsb2dzIl0sImNvbmZpZ3VyZV9rd2FyZ3MiOnt9LCJ3b3JraW5nX2RpcmVjdG9yeSI6Ii9jb250ZW50In0=', 'db': '', 'logdir': 'logs', 'path_prefix': '', 'pid': 1419, 'port': 6007, 'start_time': 1563081011, 'version': '1.15.0a20190713'}\n",
            "W0714 05:10:41.702367 140554220246912 manager.py:321] invalid info file: '/tmp/.tensorboard-info/pid-1369.info'\n",
            "Traceback (most recent call last):\n",
            "  File \"/usr/local/lib/python3.6/dist-packages/tensorboard/manager.py\", line 316, in get_all\n",
            "    info = _info_from_string(contents)\n",
            "  File \"/usr/local/lib/python3.6/dist-packages/tensorboard/manager.py\", line 155, in _info_from_string\n",
            "    raise ValueError(\"incompatible version: %r\" % (json_value,))\n",
            "ValueError: incompatible version: {'cache_key': 'eyJhcmd1bWVudHMiOlsiLS1sb2dkaXIiLCJsb2dzIl0sImNvbmZpZ3VyZV9rd2FyZ3MiOnt9LCJ3b3JraW5nX2RpcmVjdG9yeSI6Ii9jb250ZW50In0=', 'db': '', 'logdir': 'logs', 'path_prefix': '', 'pid': 1369, 'port': 6006, 'start_time': 1563080809, 'version': '1.15.0a20190713'}\n",
            "W0714 05:10:42.204270 140554220246912 manager.py:321] invalid info file: '/tmp/.tensorboard-info/pid-1419.info'\n",
            "Traceback (most recent call last):\n",
            "  File \"/usr/local/lib/python3.6/dist-packages/tensorboard/manager.py\", line 316, in get_all\n",
            "    info = _info_from_string(contents)\n",
            "  File \"/usr/local/lib/python3.6/dist-packages/tensorboard/manager.py\", line 155, in _info_from_string\n",
            "    raise ValueError(\"incompatible version: %r\" % (json_value,))\n",
            "ValueError: incompatible version: {'cache_key': 'eyJhcmd1bWVudHMiOlsiLS1sb2dkaXIiLCJsb2dzIl0sImNvbmZpZ3VyZV9rd2FyZ3MiOnt9LCJ3b3JraW5nX2RpcmVjdG9yeSI6Ii9jb250ZW50In0=', 'db': '', 'logdir': 'logs', 'path_prefix': '', 'pid': 1419, 'port': 6007, 'start_time': 1563081011, 'version': '1.15.0a20190713'}\n",
            "W0714 05:10:42.206552 140554220246912 manager.py:321] invalid info file: '/tmp/.tensorboard-info/pid-1369.info'\n",
            "Traceback (most recent call last):\n",
            "  File \"/usr/local/lib/python3.6/dist-packages/tensorboard/manager.py\", line 316, in get_all\n",
            "    info = _info_from_string(contents)\n",
            "  File \"/usr/local/lib/python3.6/dist-packages/tensorboard/manager.py\", line 155, in _info_from_string\n",
            "    raise ValueError(\"incompatible version: %r\" % (json_value,))\n",
            "ValueError: incompatible version: {'cache_key': 'eyJhcmd1bWVudHMiOlsiLS1sb2dkaXIiLCJsb2dzIl0sImNvbmZpZ3VyZV9rd2FyZ3MiOnt9LCJ3b3JraW5nX2RpcmVjdG9yeSI6Ii9jb250ZW50In0=', 'db': '', 'logdir': 'logs', 'path_prefix': '', 'pid': 1369, 'port': 6006, 'start_time': 1563080809, 'version': '1.15.0a20190713'}\n",
            "W0714 05:10:42.709221 140554220246912 manager.py:321] invalid info file: '/tmp/.tensorboard-info/pid-1419.info'\n",
            "Traceback (most recent call last):\n",
            "  File \"/usr/local/lib/python3.6/dist-packages/tensorboard/manager.py\", line 316, in get_all\n",
            "    info = _info_from_string(contents)\n",
            "  File \"/usr/local/lib/python3.6/dist-packages/tensorboard/manager.py\", line 155, in _info_from_string\n",
            "    raise ValueError(\"incompatible version: %r\" % (json_value,))\n",
            "ValueError: incompatible version: {'cache_key': 'eyJhcmd1bWVudHMiOlsiLS1sb2dkaXIiLCJsb2dzIl0sImNvbmZpZ3VyZV9rd2FyZ3MiOnt9LCJ3b3JraW5nX2RpcmVjdG9yeSI6Ii9jb250ZW50In0=', 'db': '', 'logdir': 'logs', 'path_prefix': '', 'pid': 1419, 'port': 6007, 'start_time': 1563081011, 'version': '1.15.0a20190713'}\n",
            "W0714 05:10:42.711401 140554220246912 manager.py:321] invalid info file: '/tmp/.tensorboard-info/pid-1369.info'\n",
            "Traceback (most recent call last):\n",
            "  File \"/usr/local/lib/python3.6/dist-packages/tensorboard/manager.py\", line 316, in get_all\n",
            "    info = _info_from_string(contents)\n",
            "  File \"/usr/local/lib/python3.6/dist-packages/tensorboard/manager.py\", line 155, in _info_from_string\n",
            "    raise ValueError(\"incompatible version: %r\" % (json_value,))\n",
            "ValueError: incompatible version: {'cache_key': 'eyJhcmd1bWVudHMiOlsiLS1sb2dkaXIiLCJsb2dzIl0sImNvbmZpZ3VyZV9rd2FyZ3MiOnt9LCJ3b3JraW5nX2RpcmVjdG9yeSI6Ii9jb250ZW50In0=', 'db': '', 'logdir': 'logs', 'path_prefix': '', 'pid': 1369, 'port': 6006, 'start_time': 1563080809, 'version': '1.15.0a20190713'}\n",
            "W0714 05:10:43.213956 140554220246912 manager.py:321] invalid info file: '/tmp/.tensorboard-info/pid-1419.info'\n",
            "Traceback (most recent call last):\n",
            "  File \"/usr/local/lib/python3.6/dist-packages/tensorboard/manager.py\", line 316, in get_all\n",
            "    info = _info_from_string(contents)\n",
            "  File \"/usr/local/lib/python3.6/dist-packages/tensorboard/manager.py\", line 155, in _info_from_string\n",
            "    raise ValueError(\"incompatible version: %r\" % (json_value,))\n",
            "ValueError: incompatible version: {'cache_key': 'eyJhcmd1bWVudHMiOlsiLS1sb2dkaXIiLCJsb2dzIl0sImNvbmZpZ3VyZV9rd2FyZ3MiOnt9LCJ3b3JraW5nX2RpcmVjdG9yeSI6Ii9jb250ZW50In0=', 'db': '', 'logdir': 'logs', 'path_prefix': '', 'pid': 1419, 'port': 6007, 'start_time': 1563081011, 'version': '1.15.0a20190713'}\n",
            "W0714 05:10:43.215782 140554220246912 manager.py:321] invalid info file: '/tmp/.tensorboard-info/pid-1369.info'\n",
            "Traceback (most recent call last):\n",
            "  File \"/usr/local/lib/python3.6/dist-packages/tensorboard/manager.py\", line 316, in get_all\n",
            "    info = _info_from_string(contents)\n",
            "  File \"/usr/local/lib/python3.6/dist-packages/tensorboard/manager.py\", line 155, in _info_from_string\n",
            "    raise ValueError(\"incompatible version: %r\" % (json_value,))\n",
            "ValueError: incompatible version: {'cache_key': 'eyJhcmd1bWVudHMiOlsiLS1sb2dkaXIiLCJsb2dzIl0sImNvbmZpZ3VyZV9rd2FyZ3MiOnt9LCJ3b3JraW5nX2RpcmVjdG9yeSI6Ii9jb250ZW50In0=', 'db': '', 'logdir': 'logs', 'path_prefix': '', 'pid': 1369, 'port': 6006, 'start_time': 1563080809, 'version': '1.15.0a20190713'}\n",
            "W0714 05:10:43.719156 140554220246912 manager.py:321] invalid info file: '/tmp/.tensorboard-info/pid-1419.info'\n",
            "Traceback (most recent call last):\n",
            "  File \"/usr/local/lib/python3.6/dist-packages/tensorboard/manager.py\", line 316, in get_all\n",
            "    info = _info_from_string(contents)\n",
            "  File \"/usr/local/lib/python3.6/dist-packages/tensorboard/manager.py\", line 155, in _info_from_string\n",
            "    raise ValueError(\"incompatible version: %r\" % (json_value,))\n",
            "ValueError: incompatible version: {'cache_key': 'eyJhcmd1bWVudHMiOlsiLS1sb2dkaXIiLCJsb2dzIl0sImNvbmZpZ3VyZV9rd2FyZ3MiOnt9LCJ3b3JraW5nX2RpcmVjdG9yeSI6Ii9jb250ZW50In0=', 'db': '', 'logdir': 'logs', 'path_prefix': '', 'pid': 1419, 'port': 6007, 'start_time': 1563081011, 'version': '1.15.0a20190713'}\n",
            "W0714 05:10:43.721326 140554220246912 manager.py:321] invalid info file: '/tmp/.tensorboard-info/pid-1369.info'\n",
            "Traceback (most recent call last):\n",
            "  File \"/usr/local/lib/python3.6/dist-packages/tensorboard/manager.py\", line 316, in get_all\n",
            "    info = _info_from_string(contents)\n",
            "  File \"/usr/local/lib/python3.6/dist-packages/tensorboard/manager.py\", line 155, in _info_from_string\n",
            "    raise ValueError(\"incompatible version: %r\" % (json_value,))\n",
            "ValueError: incompatible version: {'cache_key': 'eyJhcmd1bWVudHMiOlsiLS1sb2dkaXIiLCJsb2dzIl0sImNvbmZpZ3VyZV9rd2FyZ3MiOnt9LCJ3b3JraW5nX2RpcmVjdG9yeSI6Ii9jb250ZW50In0=', 'db': '', 'logdir': 'logs', 'path_prefix': '', 'pid': 1369, 'port': 6006, 'start_time': 1563080809, 'version': '1.15.0a20190713'}\n",
            "W0714 05:10:44.225740 140554220246912 manager.py:321] invalid info file: '/tmp/.tensorboard-info/pid-1419.info'\n",
            "Traceback (most recent call last):\n",
            "  File \"/usr/local/lib/python3.6/dist-packages/tensorboard/manager.py\", line 316, in get_all\n",
            "    info = _info_from_string(contents)\n",
            "  File \"/usr/local/lib/python3.6/dist-packages/tensorboard/manager.py\", line 155, in _info_from_string\n",
            "    raise ValueError(\"incompatible version: %r\" % (json_value,))\n",
            "ValueError: incompatible version: {'cache_key': 'eyJhcmd1bWVudHMiOlsiLS1sb2dkaXIiLCJsb2dzIl0sImNvbmZpZ3VyZV9rd2FyZ3MiOnt9LCJ3b3JraW5nX2RpcmVjdG9yeSI6Ii9jb250ZW50In0=', 'db': '', 'logdir': 'logs', 'path_prefix': '', 'pid': 1419, 'port': 6007, 'start_time': 1563081011, 'version': '1.15.0a20190713'}\n",
            "W0714 05:10:44.227743 140554220246912 manager.py:321] invalid info file: '/tmp/.tensorboard-info/pid-1369.info'\n",
            "Traceback (most recent call last):\n",
            "  File \"/usr/local/lib/python3.6/dist-packages/tensorboard/manager.py\", line 316, in get_all\n",
            "    info = _info_from_string(contents)\n",
            "  File \"/usr/local/lib/python3.6/dist-packages/tensorboard/manager.py\", line 155, in _info_from_string\n",
            "    raise ValueError(\"incompatible version: %r\" % (json_value,))\n",
            "ValueError: incompatible version: {'cache_key': 'eyJhcmd1bWVudHMiOlsiLS1sb2dkaXIiLCJsb2dzIl0sImNvbmZpZ3VyZV9rd2FyZ3MiOnt9LCJ3b3JraW5nX2RpcmVjdG9yeSI6Ii9jb250ZW50In0=', 'db': '', 'logdir': 'logs', 'path_prefix': '', 'pid': 1369, 'port': 6006, 'start_time': 1563080809, 'version': '1.15.0a20190713'}\n",
            "W0714 05:10:44.730353 140554220246912 manager.py:321] invalid info file: '/tmp/.tensorboard-info/pid-1419.info'\n",
            "Traceback (most recent call last):\n",
            "  File \"/usr/local/lib/python3.6/dist-packages/tensorboard/manager.py\", line 316, in get_all\n",
            "    info = _info_from_string(contents)\n",
            "  File \"/usr/local/lib/python3.6/dist-packages/tensorboard/manager.py\", line 155, in _info_from_string\n",
            "    raise ValueError(\"incompatible version: %r\" % (json_value,))\n",
            "ValueError: incompatible version: {'cache_key': 'eyJhcmd1bWVudHMiOlsiLS1sb2dkaXIiLCJsb2dzIl0sImNvbmZpZ3VyZV9rd2FyZ3MiOnt9LCJ3b3JraW5nX2RpcmVjdG9yeSI6Ii9jb250ZW50In0=', 'db': '', 'logdir': 'logs', 'path_prefix': '', 'pid': 1419, 'port': 6007, 'start_time': 1563081011, 'version': '1.15.0a20190713'}\n",
            "W0714 05:10:44.732225 140554220246912 manager.py:321] invalid info file: '/tmp/.tensorboard-info/pid-1369.info'\n",
            "Traceback (most recent call last):\n",
            "  File \"/usr/local/lib/python3.6/dist-packages/tensorboard/manager.py\", line 316, in get_all\n",
            "    info = _info_from_string(contents)\n",
            "  File \"/usr/local/lib/python3.6/dist-packages/tensorboard/manager.py\", line 155, in _info_from_string\n",
            "    raise ValueError(\"incompatible version: %r\" % (json_value,))\n",
            "ValueError: incompatible version: {'cache_key': 'eyJhcmd1bWVudHMiOlsiLS1sb2dkaXIiLCJsb2dzIl0sImNvbmZpZ3VyZV9rd2FyZ3MiOnt9LCJ3b3JraW5nX2RpcmVjdG9yeSI6Ii9jb250ZW50In0=', 'db': '', 'logdir': 'logs', 'path_prefix': '', 'pid': 1369, 'port': 6006, 'start_time': 1563080809, 'version': '1.15.0a20190713'}\n",
            "W0714 05:10:45.234791 140554220246912 manager.py:321] invalid info file: '/tmp/.tensorboard-info/pid-1419.info'\n",
            "Traceback (most recent call last):\n",
            "  File \"/usr/local/lib/python3.6/dist-packages/tensorboard/manager.py\", line 316, in get_all\n",
            "    info = _info_from_string(contents)\n",
            "  File \"/usr/local/lib/python3.6/dist-packages/tensorboard/manager.py\", line 155, in _info_from_string\n",
            "    raise ValueError(\"incompatible version: %r\" % (json_value,))\n",
            "ValueError: incompatible version: {'cache_key': 'eyJhcmd1bWVudHMiOlsiLS1sb2dkaXIiLCJsb2dzIl0sImNvbmZpZ3VyZV9rd2FyZ3MiOnt9LCJ3b3JraW5nX2RpcmVjdG9yeSI6Ii9jb250ZW50In0=', 'db': '', 'logdir': 'logs', 'path_prefix': '', 'pid': 1419, 'port': 6007, 'start_time': 1563081011, 'version': '1.15.0a20190713'}\n",
            "W0714 05:10:45.236629 140554220246912 manager.py:321] invalid info file: '/tmp/.tensorboard-info/pid-1369.info'\n",
            "Traceback (most recent call last):\n",
            "  File \"/usr/local/lib/python3.6/dist-packages/tensorboard/manager.py\", line 316, in get_all\n",
            "    info = _info_from_string(contents)\n",
            "  File \"/usr/local/lib/python3.6/dist-packages/tensorboard/manager.py\", line 155, in _info_from_string\n",
            "    raise ValueError(\"incompatible version: %r\" % (json_value,))\n",
            "ValueError: incompatible version: {'cache_key': 'eyJhcmd1bWVudHMiOlsiLS1sb2dkaXIiLCJsb2dzIl0sImNvbmZpZ3VyZV9rd2FyZ3MiOnt9LCJ3b3JraW5nX2RpcmVjdG9yeSI6Ii9jb250ZW50In0=', 'db': '', 'logdir': 'logs', 'path_prefix': '', 'pid': 1369, 'port': 6006, 'start_time': 1563080809, 'version': '1.15.0a20190713'}\n",
            "W0714 05:10:45.739143 140554220246912 manager.py:321] invalid info file: '/tmp/.tensorboard-info/pid-1419.info'\n",
            "Traceback (most recent call last):\n",
            "  File \"/usr/local/lib/python3.6/dist-packages/tensorboard/manager.py\", line 316, in get_all\n",
            "    info = _info_from_string(contents)\n",
            "  File \"/usr/local/lib/python3.6/dist-packages/tensorboard/manager.py\", line 155, in _info_from_string\n",
            "    raise ValueError(\"incompatible version: %r\" % (json_value,))\n",
            "ValueError: incompatible version: {'cache_key': 'eyJhcmd1bWVudHMiOlsiLS1sb2dkaXIiLCJsb2dzIl0sImNvbmZpZ3VyZV9rd2FyZ3MiOnt9LCJ3b3JraW5nX2RpcmVjdG9yeSI6Ii9jb250ZW50In0=', 'db': '', 'logdir': 'logs', 'path_prefix': '', 'pid': 1419, 'port': 6007, 'start_time': 1563081011, 'version': '1.15.0a20190713'}\n",
            "W0714 05:10:45.740790 140554220246912 manager.py:321] invalid info file: '/tmp/.tensorboard-info/pid-1369.info'\n",
            "Traceback (most recent call last):\n",
            "  File \"/usr/local/lib/python3.6/dist-packages/tensorboard/manager.py\", line 316, in get_all\n",
            "    info = _info_from_string(contents)\n",
            "  File \"/usr/local/lib/python3.6/dist-packages/tensorboard/manager.py\", line 155, in _info_from_string\n",
            "    raise ValueError(\"incompatible version: %r\" % (json_value,))\n",
            "ValueError: incompatible version: {'cache_key': 'eyJhcmd1bWVudHMiOlsiLS1sb2dkaXIiLCJsb2dzIl0sImNvbmZpZ3VyZV9rd2FyZ3MiOnt9LCJ3b3JraW5nX2RpcmVjdG9yeSI6Ii9jb250ZW50In0=', 'db': '', 'logdir': 'logs', 'path_prefix': '', 'pid': 1369, 'port': 6006, 'start_time': 1563080809, 'version': '1.15.0a20190713'}\n",
            "W0714 05:10:46.245994 140554220246912 manager.py:321] invalid info file: '/tmp/.tensorboard-info/pid-1419.info'\n",
            "Traceback (most recent call last):\n",
            "  File \"/usr/local/lib/python3.6/dist-packages/tensorboard/manager.py\", line 316, in get_all\n",
            "    info = _info_from_string(contents)\n",
            "  File \"/usr/local/lib/python3.6/dist-packages/tensorboard/manager.py\", line 155, in _info_from_string\n",
            "    raise ValueError(\"incompatible version: %r\" % (json_value,))\n",
            "ValueError: incompatible version: {'cache_key': 'eyJhcmd1bWVudHMiOlsiLS1sb2dkaXIiLCJsb2dzIl0sImNvbmZpZ3VyZV9rd2FyZ3MiOnt9LCJ3b3JraW5nX2RpcmVjdG9yeSI6Ii9jb250ZW50In0=', 'db': '', 'logdir': 'logs', 'path_prefix': '', 'pid': 1419, 'port': 6007, 'start_time': 1563081011, 'version': '1.15.0a20190713'}\n",
            "W0714 05:10:46.247781 140554220246912 manager.py:321] invalid info file: '/tmp/.tensorboard-info/pid-1369.info'\n",
            "Traceback (most recent call last):\n",
            "  File \"/usr/local/lib/python3.6/dist-packages/tensorboard/manager.py\", line 316, in get_all\n",
            "    info = _info_from_string(contents)\n",
            "  File \"/usr/local/lib/python3.6/dist-packages/tensorboard/manager.py\", line 155, in _info_from_string\n",
            "    raise ValueError(\"incompatible version: %r\" % (json_value,))\n",
            "ValueError: incompatible version: {'cache_key': 'eyJhcmd1bWVudHMiOlsiLS1sb2dkaXIiLCJsb2dzIl0sImNvbmZpZ3VyZV9rd2FyZ3MiOnt9LCJ3b3JraW5nX2RpcmVjdG9yeSI6Ii9jb250ZW50In0=', 'db': '', 'logdir': 'logs', 'path_prefix': '', 'pid': 1369, 'port': 6006, 'start_time': 1563080809, 'version': '1.15.0a20190713'}\n",
            "W0714 05:10:46.750246 140554220246912 manager.py:321] invalid info file: '/tmp/.tensorboard-info/pid-1419.info'\n",
            "Traceback (most recent call last):\n",
            "  File \"/usr/local/lib/python3.6/dist-packages/tensorboard/manager.py\", line 316, in get_all\n",
            "    info = _info_from_string(contents)\n",
            "  File \"/usr/local/lib/python3.6/dist-packages/tensorboard/manager.py\", line 155, in _info_from_string\n",
            "    raise ValueError(\"incompatible version: %r\" % (json_value,))\n",
            "ValueError: incompatible version: {'cache_key': 'eyJhcmd1bWVudHMiOlsiLS1sb2dkaXIiLCJsb2dzIl0sImNvbmZpZ3VyZV9rd2FyZ3MiOnt9LCJ3b3JraW5nX2RpcmVjdG9yeSI6Ii9jb250ZW50In0=', 'db': '', 'logdir': 'logs', 'path_prefix': '', 'pid': 1419, 'port': 6007, 'start_time': 1563081011, 'version': '1.15.0a20190713'}\n",
            "W0714 05:10:46.751901 140554220246912 manager.py:321] invalid info file: '/tmp/.tensorboard-info/pid-1369.info'\n",
            "Traceback (most recent call last):\n",
            "  File \"/usr/local/lib/python3.6/dist-packages/tensorboard/manager.py\", line 316, in get_all\n",
            "    info = _info_from_string(contents)\n",
            "  File \"/usr/local/lib/python3.6/dist-packages/tensorboard/manager.py\", line 155, in _info_from_string\n",
            "    raise ValueError(\"incompatible version: %r\" % (json_value,))\n",
            "ValueError: incompatible version: {'cache_key': 'eyJhcmd1bWVudHMiOlsiLS1sb2dkaXIiLCJsb2dzIl0sImNvbmZpZ3VyZV9rd2FyZ3MiOnt9LCJ3b3JraW5nX2RpcmVjdG9yeSI6Ii9jb250ZW50In0=', 'db': '', 'logdir': 'logs', 'path_prefix': '', 'pid': 1369, 'port': 6006, 'start_time': 1563080809, 'version': '1.15.0a20190713'}\n",
            "W0714 05:10:47.254841 140554220246912 manager.py:321] invalid info file: '/tmp/.tensorboard-info/pid-1419.info'\n",
            "Traceback (most recent call last):\n",
            "  File \"/usr/local/lib/python3.6/dist-packages/tensorboard/manager.py\", line 316, in get_all\n",
            "    info = _info_from_string(contents)\n",
            "  File \"/usr/local/lib/python3.6/dist-packages/tensorboard/manager.py\", line 155, in _info_from_string\n",
            "    raise ValueError(\"incompatible version: %r\" % (json_value,))\n",
            "ValueError: incompatible version: {'cache_key': 'eyJhcmd1bWVudHMiOlsiLS1sb2dkaXIiLCJsb2dzIl0sImNvbmZpZ3VyZV9rd2FyZ3MiOnt9LCJ3b3JraW5nX2RpcmVjdG9yeSI6Ii9jb250ZW50In0=', 'db': '', 'logdir': 'logs', 'path_prefix': '', 'pid': 1419, 'port': 6007, 'start_time': 1563081011, 'version': '1.15.0a20190713'}\n",
            "W0714 05:10:47.256870 140554220246912 manager.py:321] invalid info file: '/tmp/.tensorboard-info/pid-1369.info'\n",
            "Traceback (most recent call last):\n",
            "  File \"/usr/local/lib/python3.6/dist-packages/tensorboard/manager.py\", line 316, in get_all\n",
            "    info = _info_from_string(contents)\n",
            "  File \"/usr/local/lib/python3.6/dist-packages/tensorboard/manager.py\", line 155, in _info_from_string\n",
            "    raise ValueError(\"incompatible version: %r\" % (json_value,))\n",
            "ValueError: incompatible version: {'cache_key': 'eyJhcmd1bWVudHMiOlsiLS1sb2dkaXIiLCJsb2dzIl0sImNvbmZpZ3VyZV9rd2FyZ3MiOnt9LCJ3b3JraW5nX2RpcmVjdG9yeSI6Ii9jb250ZW50In0=', 'db': '', 'logdir': 'logs', 'path_prefix': '', 'pid': 1369, 'port': 6006, 'start_time': 1563080809, 'version': '1.15.0a20190713'}\n",
            "W0714 05:10:47.759228 140554220246912 manager.py:321] invalid info file: '/tmp/.tensorboard-info/pid-1419.info'\n",
            "Traceback (most recent call last):\n",
            "  File \"/usr/local/lib/python3.6/dist-packages/tensorboard/manager.py\", line 316, in get_all\n",
            "    info = _info_from_string(contents)\n",
            "  File \"/usr/local/lib/python3.6/dist-packages/tensorboard/manager.py\", line 155, in _info_from_string\n",
            "    raise ValueError(\"incompatible version: %r\" % (json_value,))\n",
            "ValueError: incompatible version: {'cache_key': 'eyJhcmd1bWVudHMiOlsiLS1sb2dkaXIiLCJsb2dzIl0sImNvbmZpZ3VyZV9rd2FyZ3MiOnt9LCJ3b3JraW5nX2RpcmVjdG9yeSI6Ii9jb250ZW50In0=', 'db': '', 'logdir': 'logs', 'path_prefix': '', 'pid': 1419, 'port': 6007, 'start_time': 1563081011, 'version': '1.15.0a20190713'}\n",
            "W0714 05:10:47.761188 140554220246912 manager.py:321] invalid info file: '/tmp/.tensorboard-info/pid-1369.info'\n",
            "Traceback (most recent call last):\n",
            "  File \"/usr/local/lib/python3.6/dist-packages/tensorboard/manager.py\", line 316, in get_all\n",
            "    info = _info_from_string(contents)\n",
            "  File \"/usr/local/lib/python3.6/dist-packages/tensorboard/manager.py\", line 155, in _info_from_string\n",
            "    raise ValueError(\"incompatible version: %r\" % (json_value,))\n",
            "ValueError: incompatible version: {'cache_key': 'eyJhcmd1bWVudHMiOlsiLS1sb2dkaXIiLCJsb2dzIl0sImNvbmZpZ3VyZV9rd2FyZ3MiOnt9LCJ3b3JraW5nX2RpcmVjdG9yeSI6Ii9jb250ZW50In0=', 'db': '', 'logdir': 'logs', 'path_prefix': '', 'pid': 1369, 'port': 6006, 'start_time': 1563080809, 'version': '1.15.0a20190713'}\n",
            "W0714 05:10:48.263615 140554220246912 manager.py:321] invalid info file: '/tmp/.tensorboard-info/pid-1419.info'\n",
            "Traceback (most recent call last):\n",
            "  File \"/usr/local/lib/python3.6/dist-packages/tensorboard/manager.py\", line 316, in get_all\n",
            "    info = _info_from_string(contents)\n",
            "  File \"/usr/local/lib/python3.6/dist-packages/tensorboard/manager.py\", line 155, in _info_from_string\n",
            "    raise ValueError(\"incompatible version: %r\" % (json_value,))\n",
            "ValueError: incompatible version: {'cache_key': 'eyJhcmd1bWVudHMiOlsiLS1sb2dkaXIiLCJsb2dzIl0sImNvbmZpZ3VyZV9rd2FyZ3MiOnt9LCJ3b3JraW5nX2RpcmVjdG9yeSI6Ii9jb250ZW50In0=', 'db': '', 'logdir': 'logs', 'path_prefix': '', 'pid': 1419, 'port': 6007, 'start_time': 1563081011, 'version': '1.15.0a20190713'}\n",
            "W0714 05:10:48.265823 140554220246912 manager.py:321] invalid info file: '/tmp/.tensorboard-info/pid-1369.info'\n",
            "Traceback (most recent call last):\n",
            "  File \"/usr/local/lib/python3.6/dist-packages/tensorboard/manager.py\", line 316, in get_all\n",
            "    info = _info_from_string(contents)\n",
            "  File \"/usr/local/lib/python3.6/dist-packages/tensorboard/manager.py\", line 155, in _info_from_string\n",
            "    raise ValueError(\"incompatible version: %r\" % (json_value,))\n",
            "ValueError: incompatible version: {'cache_key': 'eyJhcmd1bWVudHMiOlsiLS1sb2dkaXIiLCJsb2dzIl0sImNvbmZpZ3VyZV9rd2FyZ3MiOnt9LCJ3b3JraW5nX2RpcmVjdG9yeSI6Ii9jb250ZW50In0=', 'db': '', 'logdir': 'logs', 'path_prefix': '', 'pid': 1369, 'port': 6006, 'start_time': 1563080809, 'version': '1.15.0a20190713'}\n",
            "W0714 05:10:48.768342 140554220246912 manager.py:321] invalid info file: '/tmp/.tensorboard-info/pid-1419.info'\n",
            "Traceback (most recent call last):\n",
            "  File \"/usr/local/lib/python3.6/dist-packages/tensorboard/manager.py\", line 316, in get_all\n",
            "    info = _info_from_string(contents)\n",
            "  File \"/usr/local/lib/python3.6/dist-packages/tensorboard/manager.py\", line 155, in _info_from_string\n",
            "    raise ValueError(\"incompatible version: %r\" % (json_value,))\n",
            "ValueError: incompatible version: {'cache_key': 'eyJhcmd1bWVudHMiOlsiLS1sb2dkaXIiLCJsb2dzIl0sImNvbmZpZ3VyZV9rd2FyZ3MiOnt9LCJ3b3JraW5nX2RpcmVjdG9yeSI6Ii9jb250ZW50In0=', 'db': '', 'logdir': 'logs', 'path_prefix': '', 'pid': 1419, 'port': 6007, 'start_time': 1563081011, 'version': '1.15.0a20190713'}\n",
            "W0714 05:10:48.770499 140554220246912 manager.py:321] invalid info file: '/tmp/.tensorboard-info/pid-1369.info'\n",
            "Traceback (most recent call last):\n",
            "  File \"/usr/local/lib/python3.6/dist-packages/tensorboard/manager.py\", line 316, in get_all\n",
            "    info = _info_from_string(contents)\n",
            "  File \"/usr/local/lib/python3.6/dist-packages/tensorboard/manager.py\", line 155, in _info_from_string\n",
            "    raise ValueError(\"incompatible version: %r\" % (json_value,))\n",
            "ValueError: incompatible version: {'cache_key': 'eyJhcmd1bWVudHMiOlsiLS1sb2dkaXIiLCJsb2dzIl0sImNvbmZpZ3VyZV9rd2FyZ3MiOnt9LCJ3b3JraW5nX2RpcmVjdG9yeSI6Ii9jb250ZW50In0=', 'db': '', 'logdir': 'logs', 'path_prefix': '', 'pid': 1369, 'port': 6006, 'start_time': 1563080809, 'version': '1.15.0a20190713'}\n",
            "W0714 05:10:49.272920 140554220246912 manager.py:321] invalid info file: '/tmp/.tensorboard-info/pid-1419.info'\n",
            "Traceback (most recent call last):\n",
            "  File \"/usr/local/lib/python3.6/dist-packages/tensorboard/manager.py\", line 316, in get_all\n",
            "    info = _info_from_string(contents)\n",
            "  File \"/usr/local/lib/python3.6/dist-packages/tensorboard/manager.py\", line 155, in _info_from_string\n",
            "    raise ValueError(\"incompatible version: %r\" % (json_value,))\n",
            "ValueError: incompatible version: {'cache_key': 'eyJhcmd1bWVudHMiOlsiLS1sb2dkaXIiLCJsb2dzIl0sImNvbmZpZ3VyZV9rd2FyZ3MiOnt9LCJ3b3JraW5nX2RpcmVjdG9yeSI6Ii9jb250ZW50In0=', 'db': '', 'logdir': 'logs', 'path_prefix': '', 'pid': 1419, 'port': 6007, 'start_time': 1563081011, 'version': '1.15.0a20190713'}\n",
            "W0714 05:10:49.274745 140554220246912 manager.py:321] invalid info file: '/tmp/.tensorboard-info/pid-1369.info'\n",
            "Traceback (most recent call last):\n",
            "  File \"/usr/local/lib/python3.6/dist-packages/tensorboard/manager.py\", line 316, in get_all\n",
            "    info = _info_from_string(contents)\n",
            "  File \"/usr/local/lib/python3.6/dist-packages/tensorboard/manager.py\", line 155, in _info_from_string\n",
            "    raise ValueError(\"incompatible version: %r\" % (json_value,))\n",
            "ValueError: incompatible version: {'cache_key': 'eyJhcmd1bWVudHMiOlsiLS1sb2dkaXIiLCJsb2dzIl0sImNvbmZpZ3VyZV9rd2FyZ3MiOnt9LCJ3b3JraW5nX2RpcmVjdG9yeSI6Ii9jb250ZW50In0=', 'db': '', 'logdir': 'logs', 'path_prefix': '', 'pid': 1369, 'port': 6006, 'start_time': 1563080809, 'version': '1.15.0a20190713'}\n",
            "W0714 05:10:49.777341 140554220246912 manager.py:321] invalid info file: '/tmp/.tensorboard-info/pid-1419.info'\n",
            "Traceback (most recent call last):\n",
            "  File \"/usr/local/lib/python3.6/dist-packages/tensorboard/manager.py\", line 316, in get_all\n",
            "    info = _info_from_string(contents)\n",
            "  File \"/usr/local/lib/python3.6/dist-packages/tensorboard/manager.py\", line 155, in _info_from_string\n",
            "    raise ValueError(\"incompatible version: %r\" % (json_value,))\n",
            "ValueError: incompatible version: {'cache_key': 'eyJhcmd1bWVudHMiOlsiLS1sb2dkaXIiLCJsb2dzIl0sImNvbmZpZ3VyZV9rd2FyZ3MiOnt9LCJ3b3JraW5nX2RpcmVjdG9yeSI6Ii9jb250ZW50In0=', 'db': '', 'logdir': 'logs', 'path_prefix': '', 'pid': 1419, 'port': 6007, 'start_time': 1563081011, 'version': '1.15.0a20190713'}\n",
            "W0714 05:10:49.779415 140554220246912 manager.py:321] invalid info file: '/tmp/.tensorboard-info/pid-1369.info'\n",
            "Traceback (most recent call last):\n",
            "  File \"/usr/local/lib/python3.6/dist-packages/tensorboard/manager.py\", line 316, in get_all\n",
            "    info = _info_from_string(contents)\n",
            "  File \"/usr/local/lib/python3.6/dist-packages/tensorboard/manager.py\", line 155, in _info_from_string\n",
            "    raise ValueError(\"incompatible version: %r\" % (json_value,))\n",
            "ValueError: incompatible version: {'cache_key': 'eyJhcmd1bWVudHMiOlsiLS1sb2dkaXIiLCJsb2dzIl0sImNvbmZpZ3VyZV9rd2FyZ3MiOnt9LCJ3b3JraW5nX2RpcmVjdG9yeSI6Ii9jb250ZW50In0=', 'db': '', 'logdir': 'logs', 'path_prefix': '', 'pid': 1369, 'port': 6006, 'start_time': 1563080809, 'version': '1.15.0a20190713'}\n",
            "W0714 05:10:50.282075 140554220246912 manager.py:321] invalid info file: '/tmp/.tensorboard-info/pid-1419.info'\n",
            "Traceback (most recent call last):\n",
            "  File \"/usr/local/lib/python3.6/dist-packages/tensorboard/manager.py\", line 316, in get_all\n",
            "    info = _info_from_string(contents)\n",
            "  File \"/usr/local/lib/python3.6/dist-packages/tensorboard/manager.py\", line 155, in _info_from_string\n",
            "    raise ValueError(\"incompatible version: %r\" % (json_value,))\n",
            "ValueError: incompatible version: {'cache_key': 'eyJhcmd1bWVudHMiOlsiLS1sb2dkaXIiLCJsb2dzIl0sImNvbmZpZ3VyZV9rd2FyZ3MiOnt9LCJ3b3JraW5nX2RpcmVjdG9yeSI6Ii9jb250ZW50In0=', 'db': '', 'logdir': 'logs', 'path_prefix': '', 'pid': 1419, 'port': 6007, 'start_time': 1563081011, 'version': '1.15.0a20190713'}\n",
            "W0714 05:10:50.283993 140554220246912 manager.py:321] invalid info file: '/tmp/.tensorboard-info/pid-1369.info'\n",
            "Traceback (most recent call last):\n",
            "  File \"/usr/local/lib/python3.6/dist-packages/tensorboard/manager.py\", line 316, in get_all\n",
            "    info = _info_from_string(contents)\n",
            "  File \"/usr/local/lib/python3.6/dist-packages/tensorboard/manager.py\", line 155, in _info_from_string\n",
            "    raise ValueError(\"incompatible version: %r\" % (json_value,))\n",
            "ValueError: incompatible version: {'cache_key': 'eyJhcmd1bWVudHMiOlsiLS1sb2dkaXIiLCJsb2dzIl0sImNvbmZpZ3VyZV9rd2FyZ3MiOnt9LCJ3b3JraW5nX2RpcmVjdG9yeSI6Ii9jb250ZW50In0=', 'db': '', 'logdir': 'logs', 'path_prefix': '', 'pid': 1369, 'port': 6006, 'start_time': 1563080809, 'version': '1.15.0a20190713'}\n",
            "W0714 05:10:50.786190 140554220246912 manager.py:321] invalid info file: '/tmp/.tensorboard-info/pid-1419.info'\n",
            "Traceback (most recent call last):\n",
            "  File \"/usr/local/lib/python3.6/dist-packages/tensorboard/manager.py\", line 316, in get_all\n",
            "    info = _info_from_string(contents)\n",
            "  File \"/usr/local/lib/python3.6/dist-packages/tensorboard/manager.py\", line 155, in _info_from_string\n",
            "    raise ValueError(\"incompatible version: %r\" % (json_value,))\n",
            "ValueError: incompatible version: {'cache_key': 'eyJhcmd1bWVudHMiOlsiLS1sb2dkaXIiLCJsb2dzIl0sImNvbmZpZ3VyZV9rd2FyZ3MiOnt9LCJ3b3JraW5nX2RpcmVjdG9yeSI6Ii9jb250ZW50In0=', 'db': '', 'logdir': 'logs', 'path_prefix': '', 'pid': 1419, 'port': 6007, 'start_time': 1563081011, 'version': '1.15.0a20190713'}\n",
            "W0714 05:10:50.788583 140554220246912 manager.py:321] invalid info file: '/tmp/.tensorboard-info/pid-1369.info'\n",
            "Traceback (most recent call last):\n",
            "  File \"/usr/local/lib/python3.6/dist-packages/tensorboard/manager.py\", line 316, in get_all\n",
            "    info = _info_from_string(contents)\n",
            "  File \"/usr/local/lib/python3.6/dist-packages/tensorboard/manager.py\", line 155, in _info_from_string\n",
            "    raise ValueError(\"incompatible version: %r\" % (json_value,))\n",
            "ValueError: incompatible version: {'cache_key': 'eyJhcmd1bWVudHMiOlsiLS1sb2dkaXIiLCJsb2dzIl0sImNvbmZpZ3VyZV9rd2FyZ3MiOnt9LCJ3b3JraW5nX2RpcmVjdG9yeSI6Ii9jb250ZW50In0=', 'db': '', 'logdir': 'logs', 'path_prefix': '', 'pid': 1369, 'port': 6006, 'start_time': 1563080809, 'version': '1.15.0a20190713'}\n",
            "W0714 05:10:51.291022 140554220246912 manager.py:321] invalid info file: '/tmp/.tensorboard-info/pid-1419.info'\n",
            "Traceback (most recent call last):\n",
            "  File \"/usr/local/lib/python3.6/dist-packages/tensorboard/manager.py\", line 316, in get_all\n",
            "    info = _info_from_string(contents)\n",
            "  File \"/usr/local/lib/python3.6/dist-packages/tensorboard/manager.py\", line 155, in _info_from_string\n",
            "    raise ValueError(\"incompatible version: %r\" % (json_value,))\n",
            "ValueError: incompatible version: {'cache_key': 'eyJhcmd1bWVudHMiOlsiLS1sb2dkaXIiLCJsb2dzIl0sImNvbmZpZ3VyZV9rd2FyZ3MiOnt9LCJ3b3JraW5nX2RpcmVjdG9yeSI6Ii9jb250ZW50In0=', 'db': '', 'logdir': 'logs', 'path_prefix': '', 'pid': 1419, 'port': 6007, 'start_time': 1563081011, 'version': '1.15.0a20190713'}\n",
            "W0714 05:10:51.293184 140554220246912 manager.py:321] invalid info file: '/tmp/.tensorboard-info/pid-1369.info'\n",
            "Traceback (most recent call last):\n",
            "  File \"/usr/local/lib/python3.6/dist-packages/tensorboard/manager.py\", line 316, in get_all\n",
            "    info = _info_from_string(contents)\n",
            "  File \"/usr/local/lib/python3.6/dist-packages/tensorboard/manager.py\", line 155, in _info_from_string\n",
            "    raise ValueError(\"incompatible version: %r\" % (json_value,))\n",
            "ValueError: incompatible version: {'cache_key': 'eyJhcmd1bWVudHMiOlsiLS1sb2dkaXIiLCJsb2dzIl0sImNvbmZpZ3VyZV9rd2FyZ3MiOnt9LCJ3b3JraW5nX2RpcmVjdG9yeSI6Ii9jb250ZW50In0=', 'db': '', 'logdir': 'logs', 'path_prefix': '', 'pid': 1369, 'port': 6006, 'start_time': 1563080809, 'version': '1.15.0a20190713'}\n",
            "W0714 05:10:51.795745 140554220246912 manager.py:321] invalid info file: '/tmp/.tensorboard-info/pid-1419.info'\n",
            "Traceback (most recent call last):\n",
            "  File \"/usr/local/lib/python3.6/dist-packages/tensorboard/manager.py\", line 316, in get_all\n",
            "    info = _info_from_string(contents)\n",
            "  File \"/usr/local/lib/python3.6/dist-packages/tensorboard/manager.py\", line 155, in _info_from_string\n",
            "    raise ValueError(\"incompatible version: %r\" % (json_value,))\n",
            "ValueError: incompatible version: {'cache_key': 'eyJhcmd1bWVudHMiOlsiLS1sb2dkaXIiLCJsb2dzIl0sImNvbmZpZ3VyZV9rd2FyZ3MiOnt9LCJ3b3JraW5nX2RpcmVjdG9yeSI6Ii9jb250ZW50In0=', 'db': '', 'logdir': 'logs', 'path_prefix': '', 'pid': 1419, 'port': 6007, 'start_time': 1563081011, 'version': '1.15.0a20190713'}\n",
            "W0714 05:10:51.798283 140554220246912 manager.py:321] invalid info file: '/tmp/.tensorboard-info/pid-1369.info'\n",
            "Traceback (most recent call last):\n",
            "  File \"/usr/local/lib/python3.6/dist-packages/tensorboard/manager.py\", line 316, in get_all\n",
            "    info = _info_from_string(contents)\n",
            "  File \"/usr/local/lib/python3.6/dist-packages/tensorboard/manager.py\", line 155, in _info_from_string\n",
            "    raise ValueError(\"incompatible version: %r\" % (json_value,))\n",
            "ValueError: incompatible version: {'cache_key': 'eyJhcmd1bWVudHMiOlsiLS1sb2dkaXIiLCJsb2dzIl0sImNvbmZpZ3VyZV9rd2FyZ3MiOnt9LCJ3b3JraW5nX2RpcmVjdG9yeSI6Ii9jb250ZW50In0=', 'db': '', 'logdir': 'logs', 'path_prefix': '', 'pid': 1369, 'port': 6006, 'start_time': 1563080809, 'version': '1.15.0a20190713'}\n",
            "W0714 05:10:52.300821 140554220246912 manager.py:321] invalid info file: '/tmp/.tensorboard-info/pid-1419.info'\n",
            "Traceback (most recent call last):\n",
            "  File \"/usr/local/lib/python3.6/dist-packages/tensorboard/manager.py\", line 316, in get_all\n",
            "    info = _info_from_string(contents)\n",
            "  File \"/usr/local/lib/python3.6/dist-packages/tensorboard/manager.py\", line 155, in _info_from_string\n",
            "    raise ValueError(\"incompatible version: %r\" % (json_value,))\n",
            "ValueError: incompatible version: {'cache_key': 'eyJhcmd1bWVudHMiOlsiLS1sb2dkaXIiLCJsb2dzIl0sImNvbmZpZ3VyZV9rd2FyZ3MiOnt9LCJ3b3JraW5nX2RpcmVjdG9yeSI6Ii9jb250ZW50In0=', 'db': '', 'logdir': 'logs', 'path_prefix': '', 'pid': 1419, 'port': 6007, 'start_time': 1563081011, 'version': '1.15.0a20190713'}\n",
            "W0714 05:10:52.302919 140554220246912 manager.py:321] invalid info file: '/tmp/.tensorboard-info/pid-1369.info'\n",
            "Traceback (most recent call last):\n",
            "  File \"/usr/local/lib/python3.6/dist-packages/tensorboard/manager.py\", line 316, in get_all\n",
            "    info = _info_from_string(contents)\n",
            "  File \"/usr/local/lib/python3.6/dist-packages/tensorboard/manager.py\", line 155, in _info_from_string\n",
            "    raise ValueError(\"incompatible version: %r\" % (json_value,))\n",
            "ValueError: incompatible version: {'cache_key': 'eyJhcmd1bWVudHMiOlsiLS1sb2dkaXIiLCJsb2dzIl0sImNvbmZpZ3VyZV9rd2FyZ3MiOnt9LCJ3b3JraW5nX2RpcmVjdG9yeSI6Ii9jb250ZW50In0=', 'db': '', 'logdir': 'logs', 'path_prefix': '', 'pid': 1369, 'port': 6006, 'start_time': 1563080809, 'version': '1.15.0a20190713'}\n",
            "W0714 05:10:52.805141 140554220246912 manager.py:321] invalid info file: '/tmp/.tensorboard-info/pid-1419.info'\n",
            "Traceback (most recent call last):\n",
            "  File \"/usr/local/lib/python3.6/dist-packages/tensorboard/manager.py\", line 316, in get_all\n",
            "    info = _info_from_string(contents)\n",
            "  File \"/usr/local/lib/python3.6/dist-packages/tensorboard/manager.py\", line 155, in _info_from_string\n",
            "    raise ValueError(\"incompatible version: %r\" % (json_value,))\n",
            "ValueError: incompatible version: {'cache_key': 'eyJhcmd1bWVudHMiOlsiLS1sb2dkaXIiLCJsb2dzIl0sImNvbmZpZ3VyZV9rd2FyZ3MiOnt9LCJ3b3JraW5nX2RpcmVjdG9yeSI6Ii9jb250ZW50In0=', 'db': '', 'logdir': 'logs', 'path_prefix': '', 'pid': 1419, 'port': 6007, 'start_time': 1563081011, 'version': '1.15.0a20190713'}\n",
            "W0714 05:10:52.807111 140554220246912 manager.py:321] invalid info file: '/tmp/.tensorboard-info/pid-1369.info'\n",
            "Traceback (most recent call last):\n",
            "  File \"/usr/local/lib/python3.6/dist-packages/tensorboard/manager.py\", line 316, in get_all\n",
            "    info = _info_from_string(contents)\n",
            "  File \"/usr/local/lib/python3.6/dist-packages/tensorboard/manager.py\", line 155, in _info_from_string\n",
            "    raise ValueError(\"incompatible version: %r\" % (json_value,))\n",
            "ValueError: incompatible version: {'cache_key': 'eyJhcmd1bWVudHMiOlsiLS1sb2dkaXIiLCJsb2dzIl0sImNvbmZpZ3VyZV9rd2FyZ3MiOnt9LCJ3b3JraW5nX2RpcmVjdG9yeSI6Ii9jb250ZW50In0=', 'db': '', 'logdir': 'logs', 'path_prefix': '', 'pid': 1369, 'port': 6006, 'start_time': 1563080809, 'version': '1.15.0a20190713'}\n",
            "W0714 05:10:53.309533 140554220246912 manager.py:321] invalid info file: '/tmp/.tensorboard-info/pid-1419.info'\n",
            "Traceback (most recent call last):\n",
            "  File \"/usr/local/lib/python3.6/dist-packages/tensorboard/manager.py\", line 316, in get_all\n",
            "    info = _info_from_string(contents)\n",
            "  File \"/usr/local/lib/python3.6/dist-packages/tensorboard/manager.py\", line 155, in _info_from_string\n",
            "    raise ValueError(\"incompatible version: %r\" % (json_value,))\n",
            "ValueError: incompatible version: {'cache_key': 'eyJhcmd1bWVudHMiOlsiLS1sb2dkaXIiLCJsb2dzIl0sImNvbmZpZ3VyZV9rd2FyZ3MiOnt9LCJ3b3JraW5nX2RpcmVjdG9yeSI6Ii9jb250ZW50In0=', 'db': '', 'logdir': 'logs', 'path_prefix': '', 'pid': 1419, 'port': 6007, 'start_time': 1563081011, 'version': '1.15.0a20190713'}\n",
            "W0714 05:10:53.311372 140554220246912 manager.py:321] invalid info file: '/tmp/.tensorboard-info/pid-1369.info'\n",
            "Traceback (most recent call last):\n",
            "  File \"/usr/local/lib/python3.6/dist-packages/tensorboard/manager.py\", line 316, in get_all\n",
            "    info = _info_from_string(contents)\n",
            "  File \"/usr/local/lib/python3.6/dist-packages/tensorboard/manager.py\", line 155, in _info_from_string\n",
            "    raise ValueError(\"incompatible version: %r\" % (json_value,))\n",
            "ValueError: incompatible version: {'cache_key': 'eyJhcmd1bWVudHMiOlsiLS1sb2dkaXIiLCJsb2dzIl0sImNvbmZpZ3VyZV9rd2FyZ3MiOnt9LCJ3b3JraW5nX2RpcmVjdG9yeSI6Ii9jb250ZW50In0=', 'db': '', 'logdir': 'logs', 'path_prefix': '', 'pid': 1369, 'port': 6006, 'start_time': 1563080809, 'version': '1.15.0a20190713'}\n",
            "W0714 05:10:53.814770 140554220246912 manager.py:321] invalid info file: '/tmp/.tensorboard-info/pid-1419.info'\n",
            "Traceback (most recent call last):\n",
            "  File \"/usr/local/lib/python3.6/dist-packages/tensorboard/manager.py\", line 316, in get_all\n",
            "    info = _info_from_string(contents)\n",
            "  File \"/usr/local/lib/python3.6/dist-packages/tensorboard/manager.py\", line 155, in _info_from_string\n",
            "    raise ValueError(\"incompatible version: %r\" % (json_value,))\n",
            "ValueError: incompatible version: {'cache_key': 'eyJhcmd1bWVudHMiOlsiLS1sb2dkaXIiLCJsb2dzIl0sImNvbmZpZ3VyZV9rd2FyZ3MiOnt9LCJ3b3JraW5nX2RpcmVjdG9yeSI6Ii9jb250ZW50In0=', 'db': '', 'logdir': 'logs', 'path_prefix': '', 'pid': 1419, 'port': 6007, 'start_time': 1563081011, 'version': '1.15.0a20190713'}\n",
            "W0714 05:10:53.816956 140554220246912 manager.py:321] invalid info file: '/tmp/.tensorboard-info/pid-1369.info'\n",
            "Traceback (most recent call last):\n",
            "  File \"/usr/local/lib/python3.6/dist-packages/tensorboard/manager.py\", line 316, in get_all\n",
            "    info = _info_from_string(contents)\n",
            "  File \"/usr/local/lib/python3.6/dist-packages/tensorboard/manager.py\", line 155, in _info_from_string\n",
            "    raise ValueError(\"incompatible version: %r\" % (json_value,))\n",
            "ValueError: incompatible version: {'cache_key': 'eyJhcmd1bWVudHMiOlsiLS1sb2dkaXIiLCJsb2dzIl0sImNvbmZpZ3VyZV9rd2FyZ3MiOnt9LCJ3b3JraW5nX2RpcmVjdG9yeSI6Ii9jb250ZW50In0=', 'db': '', 'logdir': 'logs', 'path_prefix': '', 'pid': 1369, 'port': 6006, 'start_time': 1563080809, 'version': '1.15.0a20190713'}\n",
            "W0714 05:10:54.322168 140554220246912 manager.py:321] invalid info file: '/tmp/.tensorboard-info/pid-1419.info'\n",
            "Traceback (most recent call last):\n",
            "  File \"/usr/local/lib/python3.6/dist-packages/tensorboard/manager.py\", line 316, in get_all\n",
            "    info = _info_from_string(contents)\n",
            "  File \"/usr/local/lib/python3.6/dist-packages/tensorboard/manager.py\", line 155, in _info_from_string\n",
            "    raise ValueError(\"incompatible version: %r\" % (json_value,))\n",
            "ValueError: incompatible version: {'cache_key': 'eyJhcmd1bWVudHMiOlsiLS1sb2dkaXIiLCJsb2dzIl0sImNvbmZpZ3VyZV9rd2FyZ3MiOnt9LCJ3b3JraW5nX2RpcmVjdG9yeSI6Ii9jb250ZW50In0=', 'db': '', 'logdir': 'logs', 'path_prefix': '', 'pid': 1419, 'port': 6007, 'start_time': 1563081011, 'version': '1.15.0a20190713'}\n",
            "W0714 05:10:54.324435 140554220246912 manager.py:321] invalid info file: '/tmp/.tensorboard-info/pid-1369.info'\n",
            "Traceback (most recent call last):\n",
            "  File \"/usr/local/lib/python3.6/dist-packages/tensorboard/manager.py\", line 316, in get_all\n",
            "    info = _info_from_string(contents)\n",
            "  File \"/usr/local/lib/python3.6/dist-packages/tensorboard/manager.py\", line 155, in _info_from_string\n",
            "    raise ValueError(\"incompatible version: %r\" % (json_value,))\n",
            "ValueError: incompatible version: {'cache_key': 'eyJhcmd1bWVudHMiOlsiLS1sb2dkaXIiLCJsb2dzIl0sImNvbmZpZ3VyZV9rd2FyZ3MiOnt9LCJ3b3JraW5nX2RpcmVjdG9yeSI6Ii9jb250ZW50In0=', 'db': '', 'logdir': 'logs', 'path_prefix': '', 'pid': 1369, 'port': 6006, 'start_time': 1563080809, 'version': '1.15.0a20190713'}\n",
            "W0714 05:10:54.828934 140554220246912 manager.py:321] invalid info file: '/tmp/.tensorboard-info/pid-1419.info'\n",
            "Traceback (most recent call last):\n",
            "  File \"/usr/local/lib/python3.6/dist-packages/tensorboard/manager.py\", line 316, in get_all\n",
            "    info = _info_from_string(contents)\n",
            "  File \"/usr/local/lib/python3.6/dist-packages/tensorboard/manager.py\", line 155, in _info_from_string\n",
            "    raise ValueError(\"incompatible version: %r\" % (json_value,))\n",
            "ValueError: incompatible version: {'cache_key': 'eyJhcmd1bWVudHMiOlsiLS1sb2dkaXIiLCJsb2dzIl0sImNvbmZpZ3VyZV9rd2FyZ3MiOnt9LCJ3b3JraW5nX2RpcmVjdG9yeSI6Ii9jb250ZW50In0=', 'db': '', 'logdir': 'logs', 'path_prefix': '', 'pid': 1419, 'port': 6007, 'start_time': 1563081011, 'version': '1.15.0a20190713'}\n",
            "W0714 05:10:54.830864 140554220246912 manager.py:321] invalid info file: '/tmp/.tensorboard-info/pid-1369.info'\n",
            "Traceback (most recent call last):\n",
            "  File \"/usr/local/lib/python3.6/dist-packages/tensorboard/manager.py\", line 316, in get_all\n",
            "    info = _info_from_string(contents)\n",
            "  File \"/usr/local/lib/python3.6/dist-packages/tensorboard/manager.py\", line 155, in _info_from_string\n",
            "    raise ValueError(\"incompatible version: %r\" % (json_value,))\n",
            "ValueError: incompatible version: {'cache_key': 'eyJhcmd1bWVudHMiOlsiLS1sb2dkaXIiLCJsb2dzIl0sImNvbmZpZ3VyZV9rd2FyZ3MiOnt9LCJ3b3JraW5nX2RpcmVjdG9yeSI6Ii9jb250ZW50In0=', 'db': '', 'logdir': 'logs', 'path_prefix': '', 'pid': 1369, 'port': 6006, 'start_time': 1563080809, 'version': '1.15.0a20190713'}\n",
            "W0714 05:10:55.333420 140554220246912 manager.py:321] invalid info file: '/tmp/.tensorboard-info/pid-1419.info'\n",
            "Traceback (most recent call last):\n",
            "  File \"/usr/local/lib/python3.6/dist-packages/tensorboard/manager.py\", line 316, in get_all\n",
            "    info = _info_from_string(contents)\n",
            "  File \"/usr/local/lib/python3.6/dist-packages/tensorboard/manager.py\", line 155, in _info_from_string\n",
            "    raise ValueError(\"incompatible version: %r\" % (json_value,))\n",
            "ValueError: incompatible version: {'cache_key': 'eyJhcmd1bWVudHMiOlsiLS1sb2dkaXIiLCJsb2dzIl0sImNvbmZpZ3VyZV9rd2FyZ3MiOnt9LCJ3b3JraW5nX2RpcmVjdG9yeSI6Ii9jb250ZW50In0=', 'db': '', 'logdir': 'logs', 'path_prefix': '', 'pid': 1419, 'port': 6007, 'start_time': 1563081011, 'version': '1.15.0a20190713'}\n",
            "W0714 05:10:55.335128 140554220246912 manager.py:321] invalid info file: '/tmp/.tensorboard-info/pid-1369.info'\n",
            "Traceback (most recent call last):\n",
            "  File \"/usr/local/lib/python3.6/dist-packages/tensorboard/manager.py\", line 316, in get_all\n",
            "    info = _info_from_string(contents)\n",
            "  File \"/usr/local/lib/python3.6/dist-packages/tensorboard/manager.py\", line 155, in _info_from_string\n",
            "    raise ValueError(\"incompatible version: %r\" % (json_value,))\n",
            "ValueError: incompatible version: {'cache_key': 'eyJhcmd1bWVudHMiOlsiLS1sb2dkaXIiLCJsb2dzIl0sImNvbmZpZ3VyZV9rd2FyZ3MiOnt9LCJ3b3JraW5nX2RpcmVjdG9yeSI6Ii9jb250ZW50In0=', 'db': '', 'logdir': 'logs', 'path_prefix': '', 'pid': 1369, 'port': 6006, 'start_time': 1563080809, 'version': '1.15.0a20190713'}\n",
            "W0714 05:10:55.839639 140554220246912 manager.py:321] invalid info file: '/tmp/.tensorboard-info/pid-1419.info'\n",
            "Traceback (most recent call last):\n",
            "  File \"/usr/local/lib/python3.6/dist-packages/tensorboard/manager.py\", line 316, in get_all\n",
            "    info = _info_from_string(contents)\n",
            "  File \"/usr/local/lib/python3.6/dist-packages/tensorboard/manager.py\", line 155, in _info_from_string\n",
            "    raise ValueError(\"incompatible version: %r\" % (json_value,))\n",
            "ValueError: incompatible version: {'cache_key': 'eyJhcmd1bWVudHMiOlsiLS1sb2dkaXIiLCJsb2dzIl0sImNvbmZpZ3VyZV9rd2FyZ3MiOnt9LCJ3b3JraW5nX2RpcmVjdG9yeSI6Ii9jb250ZW50In0=', 'db': '', 'logdir': 'logs', 'path_prefix': '', 'pid': 1419, 'port': 6007, 'start_time': 1563081011, 'version': '1.15.0a20190713'}\n",
            "W0714 05:10:55.841886 140554220246912 manager.py:321] invalid info file: '/tmp/.tensorboard-info/pid-1369.info'\n",
            "Traceback (most recent call last):\n",
            "  File \"/usr/local/lib/python3.6/dist-packages/tensorboard/manager.py\", line 316, in get_all\n",
            "    info = _info_from_string(contents)\n",
            "  File \"/usr/local/lib/python3.6/dist-packages/tensorboard/manager.py\", line 155, in _info_from_string\n",
            "    raise ValueError(\"incompatible version: %r\" % (json_value,))\n",
            "ValueError: incompatible version: {'cache_key': 'eyJhcmd1bWVudHMiOlsiLS1sb2dkaXIiLCJsb2dzIl0sImNvbmZpZ3VyZV9rd2FyZ3MiOnt9LCJ3b3JraW5nX2RpcmVjdG9yeSI6Ii9jb250ZW50In0=', 'db': '', 'logdir': 'logs', 'path_prefix': '', 'pid': 1369, 'port': 6006, 'start_time': 1563080809, 'version': '1.15.0a20190713'}\n",
            "W0714 05:10:56.346784 140554220246912 manager.py:321] invalid info file: '/tmp/.tensorboard-info/pid-1419.info'\n",
            "Traceback (most recent call last):\n",
            "  File \"/usr/local/lib/python3.6/dist-packages/tensorboard/manager.py\", line 316, in get_all\n",
            "    info = _info_from_string(contents)\n",
            "  File \"/usr/local/lib/python3.6/dist-packages/tensorboard/manager.py\", line 155, in _info_from_string\n",
            "    raise ValueError(\"incompatible version: %r\" % (json_value,))\n",
            "ValueError: incompatible version: {'cache_key': 'eyJhcmd1bWVudHMiOlsiLS1sb2dkaXIiLCJsb2dzIl0sImNvbmZpZ3VyZV9rd2FyZ3MiOnt9LCJ3b3JraW5nX2RpcmVjdG9yeSI6Ii9jb250ZW50In0=', 'db': '', 'logdir': 'logs', 'path_prefix': '', 'pid': 1419, 'port': 6007, 'start_time': 1563081011, 'version': '1.15.0a20190713'}\n",
            "W0714 05:10:56.349266 140554220246912 manager.py:321] invalid info file: '/tmp/.tensorboard-info/pid-1369.info'\n",
            "Traceback (most recent call last):\n",
            "  File \"/usr/local/lib/python3.6/dist-packages/tensorboard/manager.py\", line 316, in get_all\n",
            "    info = _info_from_string(contents)\n",
            "  File \"/usr/local/lib/python3.6/dist-packages/tensorboard/manager.py\", line 155, in _info_from_string\n",
            "    raise ValueError(\"incompatible version: %r\" % (json_value,))\n",
            "ValueError: incompatible version: {'cache_key': 'eyJhcmd1bWVudHMiOlsiLS1sb2dkaXIiLCJsb2dzIl0sImNvbmZpZ3VyZV9rd2FyZ3MiOnt9LCJ3b3JraW5nX2RpcmVjdG9yeSI6Ii9jb250ZW50In0=', 'db': '', 'logdir': 'logs', 'path_prefix': '', 'pid': 1369, 'port': 6006, 'start_time': 1563080809, 'version': '1.15.0a20190713'}\n",
            "W0714 05:10:56.851463 140554220246912 manager.py:321] invalid info file: '/tmp/.tensorboard-info/pid-1419.info'\n",
            "Traceback (most recent call last):\n",
            "  File \"/usr/local/lib/python3.6/dist-packages/tensorboard/manager.py\", line 316, in get_all\n",
            "    info = _info_from_string(contents)\n",
            "  File \"/usr/local/lib/python3.6/dist-packages/tensorboard/manager.py\", line 155, in _info_from_string\n",
            "    raise ValueError(\"incompatible version: %r\" % (json_value,))\n",
            "ValueError: incompatible version: {'cache_key': 'eyJhcmd1bWVudHMiOlsiLS1sb2dkaXIiLCJsb2dzIl0sImNvbmZpZ3VyZV9rd2FyZ3MiOnt9LCJ3b3JraW5nX2RpcmVjdG9yeSI6Ii9jb250ZW50In0=', 'db': '', 'logdir': 'logs', 'path_prefix': '', 'pid': 1419, 'port': 6007, 'start_time': 1563081011, 'version': '1.15.0a20190713'}\n",
            "W0714 05:10:56.853525 140554220246912 manager.py:321] invalid info file: '/tmp/.tensorboard-info/pid-1369.info'\n",
            "Traceback (most recent call last):\n",
            "  File \"/usr/local/lib/python3.6/dist-packages/tensorboard/manager.py\", line 316, in get_all\n",
            "    info = _info_from_string(contents)\n",
            "  File \"/usr/local/lib/python3.6/dist-packages/tensorboard/manager.py\", line 155, in _info_from_string\n",
            "    raise ValueError(\"incompatible version: %r\" % (json_value,))\n",
            "ValueError: incompatible version: {'cache_key': 'eyJhcmd1bWVudHMiOlsiLS1sb2dkaXIiLCJsb2dzIl0sImNvbmZpZ3VyZV9rd2FyZ3MiOnt9LCJ3b3JraW5nX2RpcmVjdG9yeSI6Ii9jb250ZW50In0=', 'db': '', 'logdir': 'logs', 'path_prefix': '', 'pid': 1369, 'port': 6006, 'start_time': 1563080809, 'version': '1.15.0a20190713'}\n",
            "W0714 05:10:57.355954 140554220246912 manager.py:321] invalid info file: '/tmp/.tensorboard-info/pid-1419.info'\n",
            "Traceback (most recent call last):\n",
            "  File \"/usr/local/lib/python3.6/dist-packages/tensorboard/manager.py\", line 316, in get_all\n",
            "    info = _info_from_string(contents)\n",
            "  File \"/usr/local/lib/python3.6/dist-packages/tensorboard/manager.py\", line 155, in _info_from_string\n",
            "    raise ValueError(\"incompatible version: %r\" % (json_value,))\n",
            "ValueError: incompatible version: {'cache_key': 'eyJhcmd1bWVudHMiOlsiLS1sb2dkaXIiLCJsb2dzIl0sImNvbmZpZ3VyZV9rd2FyZ3MiOnt9LCJ3b3JraW5nX2RpcmVjdG9yeSI6Ii9jb250ZW50In0=', 'db': '', 'logdir': 'logs', 'path_prefix': '', 'pid': 1419, 'port': 6007, 'start_time': 1563081011, 'version': '1.15.0a20190713'}\n",
            "W0714 05:10:57.357831 140554220246912 manager.py:321] invalid info file: '/tmp/.tensorboard-info/pid-1369.info'\n",
            "Traceback (most recent call last):\n",
            "  File \"/usr/local/lib/python3.6/dist-packages/tensorboard/manager.py\", line 316, in get_all\n",
            "    info = _info_from_string(contents)\n",
            "  File \"/usr/local/lib/python3.6/dist-packages/tensorboard/manager.py\", line 155, in _info_from_string\n",
            "    raise ValueError(\"incompatible version: %r\" % (json_value,))\n",
            "ValueError: incompatible version: {'cache_key': 'eyJhcmd1bWVudHMiOlsiLS1sb2dkaXIiLCJsb2dzIl0sImNvbmZpZ3VyZV9rd2FyZ3MiOnt9LCJ3b3JraW5nX2RpcmVjdG9yeSI6Ii9jb250ZW50In0=', 'db': '', 'logdir': 'logs', 'path_prefix': '', 'pid': 1369, 'port': 6006, 'start_time': 1563080809, 'version': '1.15.0a20190713'}\n",
            "W0714 05:10:57.860310 140554220246912 manager.py:321] invalid info file: '/tmp/.tensorboard-info/pid-1419.info'\n",
            "Traceback (most recent call last):\n",
            "  File \"/usr/local/lib/python3.6/dist-packages/tensorboard/manager.py\", line 316, in get_all\n",
            "    info = _info_from_string(contents)\n",
            "  File \"/usr/local/lib/python3.6/dist-packages/tensorboard/manager.py\", line 155, in _info_from_string\n",
            "    raise ValueError(\"incompatible version: %r\" % (json_value,))\n",
            "ValueError: incompatible version: {'cache_key': 'eyJhcmd1bWVudHMiOlsiLS1sb2dkaXIiLCJsb2dzIl0sImNvbmZpZ3VyZV9rd2FyZ3MiOnt9LCJ3b3JraW5nX2RpcmVjdG9yeSI6Ii9jb250ZW50In0=', 'db': '', 'logdir': 'logs', 'path_prefix': '', 'pid': 1419, 'port': 6007, 'start_time': 1563081011, 'version': '1.15.0a20190713'}\n",
            "W0714 05:10:57.862464 140554220246912 manager.py:321] invalid info file: '/tmp/.tensorboard-info/pid-1369.info'\n",
            "Traceback (most recent call last):\n",
            "  File \"/usr/local/lib/python3.6/dist-packages/tensorboard/manager.py\", line 316, in get_all\n",
            "    info = _info_from_string(contents)\n",
            "  File \"/usr/local/lib/python3.6/dist-packages/tensorboard/manager.py\", line 155, in _info_from_string\n",
            "    raise ValueError(\"incompatible version: %r\" % (json_value,))\n",
            "ValueError: incompatible version: {'cache_key': 'eyJhcmd1bWVudHMiOlsiLS1sb2dkaXIiLCJsb2dzIl0sImNvbmZpZ3VyZV9rd2FyZ3MiOnt9LCJ3b3JraW5nX2RpcmVjdG9yeSI6Ii9jb250ZW50In0=', 'db': '', 'logdir': 'logs', 'path_prefix': '', 'pid': 1369, 'port': 6006, 'start_time': 1563080809, 'version': '1.15.0a20190713'}\n",
            "W0714 05:10:58.364966 140554220246912 manager.py:321] invalid info file: '/tmp/.tensorboard-info/pid-1419.info'\n",
            "Traceback (most recent call last):\n",
            "  File \"/usr/local/lib/python3.6/dist-packages/tensorboard/manager.py\", line 316, in get_all\n",
            "    info = _info_from_string(contents)\n",
            "  File \"/usr/local/lib/python3.6/dist-packages/tensorboard/manager.py\", line 155, in _info_from_string\n",
            "    raise ValueError(\"incompatible version: %r\" % (json_value,))\n",
            "ValueError: incompatible version: {'cache_key': 'eyJhcmd1bWVudHMiOlsiLS1sb2dkaXIiLCJsb2dzIl0sImNvbmZpZ3VyZV9rd2FyZ3MiOnt9LCJ3b3JraW5nX2RpcmVjdG9yeSI6Ii9jb250ZW50In0=', 'db': '', 'logdir': 'logs', 'path_prefix': '', 'pid': 1419, 'port': 6007, 'start_time': 1563081011, 'version': '1.15.0a20190713'}\n",
            "W0714 05:10:58.367070 140554220246912 manager.py:321] invalid info file: '/tmp/.tensorboard-info/pid-1369.info'\n",
            "Traceback (most recent call last):\n",
            "  File \"/usr/local/lib/python3.6/dist-packages/tensorboard/manager.py\", line 316, in get_all\n",
            "    info = _info_from_string(contents)\n",
            "  File \"/usr/local/lib/python3.6/dist-packages/tensorboard/manager.py\", line 155, in _info_from_string\n",
            "    raise ValueError(\"incompatible version: %r\" % (json_value,))\n",
            "ValueError: incompatible version: {'cache_key': 'eyJhcmd1bWVudHMiOlsiLS1sb2dkaXIiLCJsb2dzIl0sImNvbmZpZ3VyZV9rd2FyZ3MiOnt9LCJ3b3JraW5nX2RpcmVjdG9yeSI6Ii9jb250ZW50In0=', 'db': '', 'logdir': 'logs', 'path_prefix': '', 'pid': 1369, 'port': 6006, 'start_time': 1563080809, 'version': '1.15.0a20190713'}\n",
            "W0714 05:10:58.869495 140554220246912 manager.py:321] invalid info file: '/tmp/.tensorboard-info/pid-1419.info'\n",
            "Traceback (most recent call last):\n",
            "  File \"/usr/local/lib/python3.6/dist-packages/tensorboard/manager.py\", line 316, in get_all\n",
            "    info = _info_from_string(contents)\n",
            "  File \"/usr/local/lib/python3.6/dist-packages/tensorboard/manager.py\", line 155, in _info_from_string\n",
            "    raise ValueError(\"incompatible version: %r\" % (json_value,))\n",
            "ValueError: incompatible version: {'cache_key': 'eyJhcmd1bWVudHMiOlsiLS1sb2dkaXIiLCJsb2dzIl0sImNvbmZpZ3VyZV9rd2FyZ3MiOnt9LCJ3b3JraW5nX2RpcmVjdG9yeSI6Ii9jb250ZW50In0=', 'db': '', 'logdir': 'logs', 'path_prefix': '', 'pid': 1419, 'port': 6007, 'start_time': 1563081011, 'version': '1.15.0a20190713'}\n",
            "W0714 05:10:58.871433 140554220246912 manager.py:321] invalid info file: '/tmp/.tensorboard-info/pid-1369.info'\n",
            "Traceback (most recent call last):\n",
            "  File \"/usr/local/lib/python3.6/dist-packages/tensorboard/manager.py\", line 316, in get_all\n",
            "    info = _info_from_string(contents)\n",
            "  File \"/usr/local/lib/python3.6/dist-packages/tensorboard/manager.py\", line 155, in _info_from_string\n",
            "    raise ValueError(\"incompatible version: %r\" % (json_value,))\n",
            "ValueError: incompatible version: {'cache_key': 'eyJhcmd1bWVudHMiOlsiLS1sb2dkaXIiLCJsb2dzIl0sImNvbmZpZ3VyZV9rd2FyZ3MiOnt9LCJ3b3JraW5nX2RpcmVjdG9yeSI6Ii9jb250ZW50In0=', 'db': '', 'logdir': 'logs', 'path_prefix': '', 'pid': 1369, 'port': 6006, 'start_time': 1563080809, 'version': '1.15.0a20190713'}\n",
            "W0714 05:10:59.375610 140554220246912 manager.py:321] invalid info file: '/tmp/.tensorboard-info/pid-1419.info'\n",
            "Traceback (most recent call last):\n",
            "  File \"/usr/local/lib/python3.6/dist-packages/tensorboard/manager.py\", line 316, in get_all\n",
            "    info = _info_from_string(contents)\n",
            "  File \"/usr/local/lib/python3.6/dist-packages/tensorboard/manager.py\", line 155, in _info_from_string\n",
            "    raise ValueError(\"incompatible version: %r\" % (json_value,))\n",
            "ValueError: incompatible version: {'cache_key': 'eyJhcmd1bWVudHMiOlsiLS1sb2dkaXIiLCJsb2dzIl0sImNvbmZpZ3VyZV9rd2FyZ3MiOnt9LCJ3b3JraW5nX2RpcmVjdG9yeSI6Ii9jb250ZW50In0=', 'db': '', 'logdir': 'logs', 'path_prefix': '', 'pid': 1419, 'port': 6007, 'start_time': 1563081011, 'version': '1.15.0a20190713'}\n",
            "W0714 05:10:59.377021 140554220246912 manager.py:321] invalid info file: '/tmp/.tensorboard-info/pid-1369.info'\n",
            "Traceback (most recent call last):\n",
            "  File \"/usr/local/lib/python3.6/dist-packages/tensorboard/manager.py\", line 316, in get_all\n",
            "    info = _info_from_string(contents)\n",
            "  File \"/usr/local/lib/python3.6/dist-packages/tensorboard/manager.py\", line 155, in _info_from_string\n",
            "    raise ValueError(\"incompatible version: %r\" % (json_value,))\n",
            "ValueError: incompatible version: {'cache_key': 'eyJhcmd1bWVudHMiOlsiLS1sb2dkaXIiLCJsb2dzIl0sImNvbmZpZ3VyZV9rd2FyZ3MiOnt9LCJ3b3JraW5nX2RpcmVjdG9yeSI6Ii9jb250ZW50In0=', 'db': '', 'logdir': 'logs', 'path_prefix': '', 'pid': 1369, 'port': 6006, 'start_time': 1563080809, 'version': '1.15.0a20190713'}\n",
            "W0714 05:10:59.878995 140554220246912 manager.py:321] invalid info file: '/tmp/.tensorboard-info/pid-1419.info'\n",
            "Traceback (most recent call last):\n",
            "  File \"/usr/local/lib/python3.6/dist-packages/tensorboard/manager.py\", line 316, in get_all\n",
            "    info = _info_from_string(contents)\n",
            "  File \"/usr/local/lib/python3.6/dist-packages/tensorboard/manager.py\", line 155, in _info_from_string\n",
            "    raise ValueError(\"incompatible version: %r\" % (json_value,))\n",
            "ValueError: incompatible version: {'cache_key': 'eyJhcmd1bWVudHMiOlsiLS1sb2dkaXIiLCJsb2dzIl0sImNvbmZpZ3VyZV9rd2FyZ3MiOnt9LCJ3b3JraW5nX2RpcmVjdG9yeSI6Ii9jb250ZW50In0=', 'db': '', 'logdir': 'logs', 'path_prefix': '', 'pid': 1419, 'port': 6007, 'start_time': 1563081011, 'version': '1.15.0a20190713'}\n",
            "W0714 05:10:59.880852 140554220246912 manager.py:321] invalid info file: '/tmp/.tensorboard-info/pid-1369.info'\n",
            "Traceback (most recent call last):\n",
            "  File \"/usr/local/lib/python3.6/dist-packages/tensorboard/manager.py\", line 316, in get_all\n",
            "    info = _info_from_string(contents)\n",
            "  File \"/usr/local/lib/python3.6/dist-packages/tensorboard/manager.py\", line 155, in _info_from_string\n",
            "    raise ValueError(\"incompatible version: %r\" % (json_value,))\n",
            "ValueError: incompatible version: {'cache_key': 'eyJhcmd1bWVudHMiOlsiLS1sb2dkaXIiLCJsb2dzIl0sImNvbmZpZ3VyZV9rd2FyZ3MiOnt9LCJ3b3JraW5nX2RpcmVjdG9yeSI6Ii9jb250ZW50In0=', 'db': '', 'logdir': 'logs', 'path_prefix': '', 'pid': 1369, 'port': 6006, 'start_time': 1563080809, 'version': '1.15.0a20190713'}\n",
            "W0714 05:11:00.383403 140554220246912 manager.py:321] invalid info file: '/tmp/.tensorboard-info/pid-1419.info'\n",
            "Traceback (most recent call last):\n",
            "  File \"/usr/local/lib/python3.6/dist-packages/tensorboard/manager.py\", line 316, in get_all\n",
            "    info = _info_from_string(contents)\n",
            "  File \"/usr/local/lib/python3.6/dist-packages/tensorboard/manager.py\", line 155, in _info_from_string\n",
            "    raise ValueError(\"incompatible version: %r\" % (json_value,))\n",
            "ValueError: incompatible version: {'cache_key': 'eyJhcmd1bWVudHMiOlsiLS1sb2dkaXIiLCJsb2dzIl0sImNvbmZpZ3VyZV9rd2FyZ3MiOnt9LCJ3b3JraW5nX2RpcmVjdG9yeSI6Ii9jb250ZW50In0=', 'db': '', 'logdir': 'logs', 'path_prefix': '', 'pid': 1419, 'port': 6007, 'start_time': 1563081011, 'version': '1.15.0a20190713'}\n",
            "W0714 05:11:00.385198 140554220246912 manager.py:321] invalid info file: '/tmp/.tensorboard-info/pid-1369.info'\n",
            "Traceback (most recent call last):\n",
            "  File \"/usr/local/lib/python3.6/dist-packages/tensorboard/manager.py\", line 316, in get_all\n",
            "    info = _info_from_string(contents)\n",
            "  File \"/usr/local/lib/python3.6/dist-packages/tensorboard/manager.py\", line 155, in _info_from_string\n",
            "    raise ValueError(\"incompatible version: %r\" % (json_value,))\n",
            "ValueError: incompatible version: {'cache_key': 'eyJhcmd1bWVudHMiOlsiLS1sb2dkaXIiLCJsb2dzIl0sImNvbmZpZ3VyZV9rd2FyZ3MiOnt9LCJ3b3JraW5nX2RpcmVjdG9yeSI6Ii9jb250ZW50In0=', 'db': '', 'logdir': 'logs', 'path_prefix': '', 'pid': 1369, 'port': 6006, 'start_time': 1563080809, 'version': '1.15.0a20190713'}\n",
            "W0714 05:11:00.887736 140554220246912 manager.py:321] invalid info file: '/tmp/.tensorboard-info/pid-1419.info'\n",
            "Traceback (most recent call last):\n",
            "  File \"/usr/local/lib/python3.6/dist-packages/tensorboard/manager.py\", line 316, in get_all\n",
            "    info = _info_from_string(contents)\n",
            "  File \"/usr/local/lib/python3.6/dist-packages/tensorboard/manager.py\", line 155, in _info_from_string\n",
            "    raise ValueError(\"incompatible version: %r\" % (json_value,))\n",
            "ValueError: incompatible version: {'cache_key': 'eyJhcmd1bWVudHMiOlsiLS1sb2dkaXIiLCJsb2dzIl0sImNvbmZpZ3VyZV9rd2FyZ3MiOnt9LCJ3b3JraW5nX2RpcmVjdG9yeSI6Ii9jb250ZW50In0=', 'db': '', 'logdir': 'logs', 'path_prefix': '', 'pid': 1419, 'port': 6007, 'start_time': 1563081011, 'version': '1.15.0a20190713'}\n",
            "W0714 05:11:00.889573 140554220246912 manager.py:321] invalid info file: '/tmp/.tensorboard-info/pid-1369.info'\n",
            "Traceback (most recent call last):\n",
            "  File \"/usr/local/lib/python3.6/dist-packages/tensorboard/manager.py\", line 316, in get_all\n",
            "    info = _info_from_string(contents)\n",
            "  File \"/usr/local/lib/python3.6/dist-packages/tensorboard/manager.py\", line 155, in _info_from_string\n",
            "    raise ValueError(\"incompatible version: %r\" % (json_value,))\n",
            "ValueError: incompatible version: {'cache_key': 'eyJhcmd1bWVudHMiOlsiLS1sb2dkaXIiLCJsb2dzIl0sImNvbmZpZ3VyZV9rd2FyZ3MiOnt9LCJ3b3JraW5nX2RpcmVjdG9yeSI6Ii9jb250ZW50In0=', 'db': '', 'logdir': 'logs', 'path_prefix': '', 'pid': 1369, 'port': 6006, 'start_time': 1563080809, 'version': '1.15.0a20190713'}\n",
            "W0714 05:11:01.391619 140554220246912 manager.py:321] invalid info file: '/tmp/.tensorboard-info/pid-1419.info'\n",
            "Traceback (most recent call last):\n",
            "  File \"/usr/local/lib/python3.6/dist-packages/tensorboard/manager.py\", line 316, in get_all\n",
            "    info = _info_from_string(contents)\n",
            "  File \"/usr/local/lib/python3.6/dist-packages/tensorboard/manager.py\", line 155, in _info_from_string\n",
            "    raise ValueError(\"incompatible version: %r\" % (json_value,))\n",
            "ValueError: incompatible version: {'cache_key': 'eyJhcmd1bWVudHMiOlsiLS1sb2dkaXIiLCJsb2dzIl0sImNvbmZpZ3VyZV9rd2FyZ3MiOnt9LCJ3b3JraW5nX2RpcmVjdG9yeSI6Ii9jb250ZW50In0=', 'db': '', 'logdir': 'logs', 'path_prefix': '', 'pid': 1419, 'port': 6007, 'start_time': 1563081011, 'version': '1.15.0a20190713'}\n",
            "W0714 05:11:01.393550 140554220246912 manager.py:321] invalid info file: '/tmp/.tensorboard-info/pid-1369.info'\n",
            "Traceback (most recent call last):\n",
            "  File \"/usr/local/lib/python3.6/dist-packages/tensorboard/manager.py\", line 316, in get_all\n",
            "    info = _info_from_string(contents)\n",
            "  File \"/usr/local/lib/python3.6/dist-packages/tensorboard/manager.py\", line 155, in _info_from_string\n",
            "    raise ValueError(\"incompatible version: %r\" % (json_value,))\n",
            "ValueError: incompatible version: {'cache_key': 'eyJhcmd1bWVudHMiOlsiLS1sb2dkaXIiLCJsb2dzIl0sImNvbmZpZ3VyZV9rd2FyZ3MiOnt9LCJ3b3JraW5nX2RpcmVjdG9yeSI6Ii9jb250ZW50In0=', 'db': '', 'logdir': 'logs', 'path_prefix': '', 'pid': 1369, 'port': 6006, 'start_time': 1563080809, 'version': '1.15.0a20190713'}\n",
            "W0714 05:11:01.896595 140554220246912 manager.py:321] invalid info file: '/tmp/.tensorboard-info/pid-1419.info'\n",
            "Traceback (most recent call last):\n",
            "  File \"/usr/local/lib/python3.6/dist-packages/tensorboard/manager.py\", line 316, in get_all\n",
            "    info = _info_from_string(contents)\n",
            "  File \"/usr/local/lib/python3.6/dist-packages/tensorboard/manager.py\", line 155, in _info_from_string\n",
            "    raise ValueError(\"incompatible version: %r\" % (json_value,))\n",
            "ValueError: incompatible version: {'cache_key': 'eyJhcmd1bWVudHMiOlsiLS1sb2dkaXIiLCJsb2dzIl0sImNvbmZpZ3VyZV9rd2FyZ3MiOnt9LCJ3b3JraW5nX2RpcmVjdG9yeSI6Ii9jb250ZW50In0=', 'db': '', 'logdir': 'logs', 'path_prefix': '', 'pid': 1419, 'port': 6007, 'start_time': 1563081011, 'version': '1.15.0a20190713'}\n",
            "W0714 05:11:01.898355 140554220246912 manager.py:321] invalid info file: '/tmp/.tensorboard-info/pid-1369.info'\n",
            "Traceback (most recent call last):\n",
            "  File \"/usr/local/lib/python3.6/dist-packages/tensorboard/manager.py\", line 316, in get_all\n",
            "    info = _info_from_string(contents)\n",
            "  File \"/usr/local/lib/python3.6/dist-packages/tensorboard/manager.py\", line 155, in _info_from_string\n",
            "    raise ValueError(\"incompatible version: %r\" % (json_value,))\n",
            "ValueError: incompatible version: {'cache_key': 'eyJhcmd1bWVudHMiOlsiLS1sb2dkaXIiLCJsb2dzIl0sImNvbmZpZ3VyZV9rd2FyZ3MiOnt9LCJ3b3JraW5nX2RpcmVjdG9yeSI6Ii9jb250ZW50In0=', 'db': '', 'logdir': 'logs', 'path_prefix': '', 'pid': 1369, 'port': 6006, 'start_time': 1563080809, 'version': '1.15.0a20190713'}\n",
            "W0714 05:11:02.400910 140554220246912 manager.py:321] invalid info file: '/tmp/.tensorboard-info/pid-1419.info'\n",
            "Traceback (most recent call last):\n",
            "  File \"/usr/local/lib/python3.6/dist-packages/tensorboard/manager.py\", line 316, in get_all\n",
            "    info = _info_from_string(contents)\n",
            "  File \"/usr/local/lib/python3.6/dist-packages/tensorboard/manager.py\", line 155, in _info_from_string\n",
            "    raise ValueError(\"incompatible version: %r\" % (json_value,))\n",
            "ValueError: incompatible version: {'cache_key': 'eyJhcmd1bWVudHMiOlsiLS1sb2dkaXIiLCJsb2dzIl0sImNvbmZpZ3VyZV9rd2FyZ3MiOnt9LCJ3b3JraW5nX2RpcmVjdG9yeSI6Ii9jb250ZW50In0=', 'db': '', 'logdir': 'logs', 'path_prefix': '', 'pid': 1419, 'port': 6007, 'start_time': 1563081011, 'version': '1.15.0a20190713'}\n",
            "W0714 05:11:02.402994 140554220246912 manager.py:321] invalid info file: '/tmp/.tensorboard-info/pid-1369.info'\n",
            "Traceback (most recent call last):\n",
            "  File \"/usr/local/lib/python3.6/dist-packages/tensorboard/manager.py\", line 316, in get_all\n",
            "    info = _info_from_string(contents)\n",
            "  File \"/usr/local/lib/python3.6/dist-packages/tensorboard/manager.py\", line 155, in _info_from_string\n",
            "    raise ValueError(\"incompatible version: %r\" % (json_value,))\n",
            "ValueError: incompatible version: {'cache_key': 'eyJhcmd1bWVudHMiOlsiLS1sb2dkaXIiLCJsb2dzIl0sImNvbmZpZ3VyZV9rd2FyZ3MiOnt9LCJ3b3JraW5nX2RpcmVjdG9yeSI6Ii9jb250ZW50In0=', 'db': '', 'logdir': 'logs', 'path_prefix': '', 'pid': 1369, 'port': 6006, 'start_time': 1563080809, 'version': '1.15.0a20190713'}\n",
            "W0714 05:11:02.905225 140554220246912 manager.py:321] invalid info file: '/tmp/.tensorboard-info/pid-1419.info'\n",
            "Traceback (most recent call last):\n",
            "  File \"/usr/local/lib/python3.6/dist-packages/tensorboard/manager.py\", line 316, in get_all\n",
            "    info = _info_from_string(contents)\n",
            "  File \"/usr/local/lib/python3.6/dist-packages/tensorboard/manager.py\", line 155, in _info_from_string\n",
            "    raise ValueError(\"incompatible version: %r\" % (json_value,))\n",
            "ValueError: incompatible version: {'cache_key': 'eyJhcmd1bWVudHMiOlsiLS1sb2dkaXIiLCJsb2dzIl0sImNvbmZpZ3VyZV9rd2FyZ3MiOnt9LCJ3b3JraW5nX2RpcmVjdG9yeSI6Ii9jb250ZW50In0=', 'db': '', 'logdir': 'logs', 'path_prefix': '', 'pid': 1419, 'port': 6007, 'start_time': 1563081011, 'version': '1.15.0a20190713'}\n",
            "W0714 05:11:02.907132 140554220246912 manager.py:321] invalid info file: '/tmp/.tensorboard-info/pid-1369.info'\n",
            "Traceback (most recent call last):\n",
            "  File \"/usr/local/lib/python3.6/dist-packages/tensorboard/manager.py\", line 316, in get_all\n",
            "    info = _info_from_string(contents)\n",
            "  File \"/usr/local/lib/python3.6/dist-packages/tensorboard/manager.py\", line 155, in _info_from_string\n",
            "    raise ValueError(\"incompatible version: %r\" % (json_value,))\n",
            "ValueError: incompatible version: {'cache_key': 'eyJhcmd1bWVudHMiOlsiLS1sb2dkaXIiLCJsb2dzIl0sImNvbmZpZ3VyZV9rd2FyZ3MiOnt9LCJ3b3JraW5nX2RpcmVjdG9yeSI6Ii9jb250ZW50In0=', 'db': '', 'logdir': 'logs', 'path_prefix': '', 'pid': 1369, 'port': 6006, 'start_time': 1563080809, 'version': '1.15.0a20190713'}\n",
            "W0714 05:11:03.409668 140554220246912 manager.py:321] invalid info file: '/tmp/.tensorboard-info/pid-1419.info'\n",
            "Traceback (most recent call last):\n",
            "  File \"/usr/local/lib/python3.6/dist-packages/tensorboard/manager.py\", line 316, in get_all\n",
            "    info = _info_from_string(contents)\n",
            "  File \"/usr/local/lib/python3.6/dist-packages/tensorboard/manager.py\", line 155, in _info_from_string\n",
            "    raise ValueError(\"incompatible version: %r\" % (json_value,))\n",
            "ValueError: incompatible version: {'cache_key': 'eyJhcmd1bWVudHMiOlsiLS1sb2dkaXIiLCJsb2dzIl0sImNvbmZpZ3VyZV9rd2FyZ3MiOnt9LCJ3b3JraW5nX2RpcmVjdG9yeSI6Ii9jb250ZW50In0=', 'db': '', 'logdir': 'logs', 'path_prefix': '', 'pid': 1419, 'port': 6007, 'start_time': 1563081011, 'version': '1.15.0a20190713'}\n",
            "W0714 05:11:03.411547 140554220246912 manager.py:321] invalid info file: '/tmp/.tensorboard-info/pid-1369.info'\n",
            "Traceback (most recent call last):\n",
            "  File \"/usr/local/lib/python3.6/dist-packages/tensorboard/manager.py\", line 316, in get_all\n",
            "    info = _info_from_string(contents)\n",
            "  File \"/usr/local/lib/python3.6/dist-packages/tensorboard/manager.py\", line 155, in _info_from_string\n",
            "    raise ValueError(\"incompatible version: %r\" % (json_value,))\n",
            "ValueError: incompatible version: {'cache_key': 'eyJhcmd1bWVudHMiOlsiLS1sb2dkaXIiLCJsb2dzIl0sImNvbmZpZ3VyZV9rd2FyZ3MiOnt9LCJ3b3JraW5nX2RpcmVjdG9yeSI6Ii9jb250ZW50In0=', 'db': '', 'logdir': 'logs', 'path_prefix': '', 'pid': 1369, 'port': 6006, 'start_time': 1563080809, 'version': '1.15.0a20190713'}\n",
            "W0714 05:11:03.913922 140554220246912 manager.py:321] invalid info file: '/tmp/.tensorboard-info/pid-1419.info'\n",
            "Traceback (most recent call last):\n",
            "  File \"/usr/local/lib/python3.6/dist-packages/tensorboard/manager.py\", line 316, in get_all\n",
            "    info = _info_from_string(contents)\n",
            "  File \"/usr/local/lib/python3.6/dist-packages/tensorboard/manager.py\", line 155, in _info_from_string\n",
            "    raise ValueError(\"incompatible version: %r\" % (json_value,))\n",
            "ValueError: incompatible version: {'cache_key': 'eyJhcmd1bWVudHMiOlsiLS1sb2dkaXIiLCJsb2dzIl0sImNvbmZpZ3VyZV9rd2FyZ3MiOnt9LCJ3b3JraW5nX2RpcmVjdG9yeSI6Ii9jb250ZW50In0=', 'db': '', 'logdir': 'logs', 'path_prefix': '', 'pid': 1419, 'port': 6007, 'start_time': 1563081011, 'version': '1.15.0a20190713'}\n",
            "W0714 05:11:03.915568 140554220246912 manager.py:321] invalid info file: '/tmp/.tensorboard-info/pid-1369.info'\n",
            "Traceback (most recent call last):\n",
            "  File \"/usr/local/lib/python3.6/dist-packages/tensorboard/manager.py\", line 316, in get_all\n",
            "    info = _info_from_string(contents)\n",
            "  File \"/usr/local/lib/python3.6/dist-packages/tensorboard/manager.py\", line 155, in _info_from_string\n",
            "    raise ValueError(\"incompatible version: %r\" % (json_value,))\n",
            "ValueError: incompatible version: {'cache_key': 'eyJhcmd1bWVudHMiOlsiLS1sb2dkaXIiLCJsb2dzIl0sImNvbmZpZ3VyZV9rd2FyZ3MiOnt9LCJ3b3JraW5nX2RpcmVjdG9yeSI6Ii9jb250ZW50In0=', 'db': '', 'logdir': 'logs', 'path_prefix': '', 'pid': 1369, 'port': 6006, 'start_time': 1563080809, 'version': '1.15.0a20190713'}\n",
            "W0714 05:11:04.417862 140554220246912 manager.py:321] invalid info file: '/tmp/.tensorboard-info/pid-1419.info'\n",
            "Traceback (most recent call last):\n",
            "  File \"/usr/local/lib/python3.6/dist-packages/tensorboard/manager.py\", line 316, in get_all\n",
            "    info = _info_from_string(contents)\n",
            "  File \"/usr/local/lib/python3.6/dist-packages/tensorboard/manager.py\", line 155, in _info_from_string\n",
            "    raise ValueError(\"incompatible version: %r\" % (json_value,))\n",
            "ValueError: incompatible version: {'cache_key': 'eyJhcmd1bWVudHMiOlsiLS1sb2dkaXIiLCJsb2dzIl0sImNvbmZpZ3VyZV9rd2FyZ3MiOnt9LCJ3b3JraW5nX2RpcmVjdG9yeSI6Ii9jb250ZW50In0=', 'db': '', 'logdir': 'logs', 'path_prefix': '', 'pid': 1419, 'port': 6007, 'start_time': 1563081011, 'version': '1.15.0a20190713'}\n",
            "W0714 05:11:04.419638 140554220246912 manager.py:321] invalid info file: '/tmp/.tensorboard-info/pid-1369.info'\n",
            "Traceback (most recent call last):\n",
            "  File \"/usr/local/lib/python3.6/dist-packages/tensorboard/manager.py\", line 316, in get_all\n",
            "    info = _info_from_string(contents)\n",
            "  File \"/usr/local/lib/python3.6/dist-packages/tensorboard/manager.py\", line 155, in _info_from_string\n",
            "    raise ValueError(\"incompatible version: %r\" % (json_value,))\n",
            "ValueError: incompatible version: {'cache_key': 'eyJhcmd1bWVudHMiOlsiLS1sb2dkaXIiLCJsb2dzIl0sImNvbmZpZ3VyZV9rd2FyZ3MiOnt9LCJ3b3JraW5nX2RpcmVjdG9yeSI6Ii9jb250ZW50In0=', 'db': '', 'logdir': 'logs', 'path_prefix': '', 'pid': 1369, 'port': 6006, 'start_time': 1563080809, 'version': '1.15.0a20190713'}\n",
            "W0714 05:11:04.921753 140554220246912 manager.py:321] invalid info file: '/tmp/.tensorboard-info/pid-1419.info'\n",
            "Traceback (most recent call last):\n",
            "  File \"/usr/local/lib/python3.6/dist-packages/tensorboard/manager.py\", line 316, in get_all\n",
            "    info = _info_from_string(contents)\n",
            "  File \"/usr/local/lib/python3.6/dist-packages/tensorboard/manager.py\", line 155, in _info_from_string\n",
            "    raise ValueError(\"incompatible version: %r\" % (json_value,))\n",
            "ValueError: incompatible version: {'cache_key': 'eyJhcmd1bWVudHMiOlsiLS1sb2dkaXIiLCJsb2dzIl0sImNvbmZpZ3VyZV9rd2FyZ3MiOnt9LCJ3b3JraW5nX2RpcmVjdG9yeSI6Ii9jb250ZW50In0=', 'db': '', 'logdir': 'logs', 'path_prefix': '', 'pid': 1419, 'port': 6007, 'start_time': 1563081011, 'version': '1.15.0a20190713'}\n",
            "W0714 05:11:04.923864 140554220246912 manager.py:321] invalid info file: '/tmp/.tensorboard-info/pid-1369.info'\n",
            "Traceback (most recent call last):\n",
            "  File \"/usr/local/lib/python3.6/dist-packages/tensorboard/manager.py\", line 316, in get_all\n",
            "    info = _info_from_string(contents)\n",
            "  File \"/usr/local/lib/python3.6/dist-packages/tensorboard/manager.py\", line 155, in _info_from_string\n",
            "    raise ValueError(\"incompatible version: %r\" % (json_value,))\n",
            "ValueError: incompatible version: {'cache_key': 'eyJhcmd1bWVudHMiOlsiLS1sb2dkaXIiLCJsb2dzIl0sImNvbmZpZ3VyZV9rd2FyZ3MiOnt9LCJ3b3JraW5nX2RpcmVjdG9yeSI6Ii9jb250ZW50In0=', 'db': '', 'logdir': 'logs', 'path_prefix': '', 'pid': 1369, 'port': 6006, 'start_time': 1563080809, 'version': '1.15.0a20190713'}\n",
            "W0714 05:11:05.426202 140554220246912 manager.py:321] invalid info file: '/tmp/.tensorboard-info/pid-1419.info'\n",
            "Traceback (most recent call last):\n",
            "  File \"/usr/local/lib/python3.6/dist-packages/tensorboard/manager.py\", line 316, in get_all\n",
            "    info = _info_from_string(contents)\n",
            "  File \"/usr/local/lib/python3.6/dist-packages/tensorboard/manager.py\", line 155, in _info_from_string\n",
            "    raise ValueError(\"incompatible version: %r\" % (json_value,))\n",
            "ValueError: incompatible version: {'cache_key': 'eyJhcmd1bWVudHMiOlsiLS1sb2dkaXIiLCJsb2dzIl0sImNvbmZpZ3VyZV9rd2FyZ3MiOnt9LCJ3b3JraW5nX2RpcmVjdG9yeSI6Ii9jb250ZW50In0=', 'db': '', 'logdir': 'logs', 'path_prefix': '', 'pid': 1419, 'port': 6007, 'start_time': 1563081011, 'version': '1.15.0a20190713'}\n",
            "W0714 05:11:05.428294 140554220246912 manager.py:321] invalid info file: '/tmp/.tensorboard-info/pid-1369.info'\n",
            "Traceback (most recent call last):\n",
            "  File \"/usr/local/lib/python3.6/dist-packages/tensorboard/manager.py\", line 316, in get_all\n",
            "    info = _info_from_string(contents)\n",
            "  File \"/usr/local/lib/python3.6/dist-packages/tensorboard/manager.py\", line 155, in _info_from_string\n",
            "    raise ValueError(\"incompatible version: %r\" % (json_value,))\n",
            "ValueError: incompatible version: {'cache_key': 'eyJhcmd1bWVudHMiOlsiLS1sb2dkaXIiLCJsb2dzIl0sImNvbmZpZ3VyZV9rd2FyZ3MiOnt9LCJ3b3JraW5nX2RpcmVjdG9yeSI6Ii9jb250ZW50In0=', 'db': '', 'logdir': 'logs', 'path_prefix': '', 'pid': 1369, 'port': 6006, 'start_time': 1563080809, 'version': '1.15.0a20190713'}\n",
            "W0714 05:11:05.930673 140554220246912 manager.py:321] invalid info file: '/tmp/.tensorboard-info/pid-1419.info'\n",
            "Traceback (most recent call last):\n",
            "  File \"/usr/local/lib/python3.6/dist-packages/tensorboard/manager.py\", line 316, in get_all\n",
            "    info = _info_from_string(contents)\n",
            "  File \"/usr/local/lib/python3.6/dist-packages/tensorboard/manager.py\", line 155, in _info_from_string\n",
            "    raise ValueError(\"incompatible version: %r\" % (json_value,))\n",
            "ValueError: incompatible version: {'cache_key': 'eyJhcmd1bWVudHMiOlsiLS1sb2dkaXIiLCJsb2dzIl0sImNvbmZpZ3VyZV9rd2FyZ3MiOnt9LCJ3b3JraW5nX2RpcmVjdG9yeSI6Ii9jb250ZW50In0=', 'db': '', 'logdir': 'logs', 'path_prefix': '', 'pid': 1419, 'port': 6007, 'start_time': 1563081011, 'version': '1.15.0a20190713'}\n",
            "W0714 05:11:05.932617 140554220246912 manager.py:321] invalid info file: '/tmp/.tensorboard-info/pid-1369.info'\n",
            "Traceback (most recent call last):\n",
            "  File \"/usr/local/lib/python3.6/dist-packages/tensorboard/manager.py\", line 316, in get_all\n",
            "    info = _info_from_string(contents)\n",
            "  File \"/usr/local/lib/python3.6/dist-packages/tensorboard/manager.py\", line 155, in _info_from_string\n",
            "    raise ValueError(\"incompatible version: %r\" % (json_value,))\n",
            "ValueError: incompatible version: {'cache_key': 'eyJhcmd1bWVudHMiOlsiLS1sb2dkaXIiLCJsb2dzIl0sImNvbmZpZ3VyZV9rd2FyZ3MiOnt9LCJ3b3JraW5nX2RpcmVjdG9yeSI6Ii9jb250ZW50In0=', 'db': '', 'logdir': 'logs', 'path_prefix': '', 'pid': 1369, 'port': 6006, 'start_time': 1563080809, 'version': '1.15.0a20190713'}\n",
            "W0714 05:11:06.435058 140554220246912 manager.py:321] invalid info file: '/tmp/.tensorboard-info/pid-1419.info'\n",
            "Traceback (most recent call last):\n",
            "  File \"/usr/local/lib/python3.6/dist-packages/tensorboard/manager.py\", line 316, in get_all\n",
            "    info = _info_from_string(contents)\n",
            "  File \"/usr/local/lib/python3.6/dist-packages/tensorboard/manager.py\", line 155, in _info_from_string\n",
            "    raise ValueError(\"incompatible version: %r\" % (json_value,))\n",
            "ValueError: incompatible version: {'cache_key': 'eyJhcmd1bWVudHMiOlsiLS1sb2dkaXIiLCJsb2dzIl0sImNvbmZpZ3VyZV9rd2FyZ3MiOnt9LCJ3b3JraW5nX2RpcmVjdG9yeSI6Ii9jb250ZW50In0=', 'db': '', 'logdir': 'logs', 'path_prefix': '', 'pid': 1419, 'port': 6007, 'start_time': 1563081011, 'version': '1.15.0a20190713'}\n",
            "W0714 05:11:06.437088 140554220246912 manager.py:321] invalid info file: '/tmp/.tensorboard-info/pid-1369.info'\n",
            "Traceback (most recent call last):\n",
            "  File \"/usr/local/lib/python3.6/dist-packages/tensorboard/manager.py\", line 316, in get_all\n",
            "    info = _info_from_string(contents)\n",
            "  File \"/usr/local/lib/python3.6/dist-packages/tensorboard/manager.py\", line 155, in _info_from_string\n",
            "    raise ValueError(\"incompatible version: %r\" % (json_value,))\n",
            "ValueError: incompatible version: {'cache_key': 'eyJhcmd1bWVudHMiOlsiLS1sb2dkaXIiLCJsb2dzIl0sImNvbmZpZ3VyZV9rd2FyZ3MiOnt9LCJ3b3JraW5nX2RpcmVjdG9yeSI6Ii9jb250ZW50In0=', 'db': '', 'logdir': 'logs', 'path_prefix': '', 'pid': 1369, 'port': 6006, 'start_time': 1563080809, 'version': '1.15.0a20190713'}\n",
            "W0714 05:11:06.941133 140554220246912 manager.py:321] invalid info file: '/tmp/.tensorboard-info/pid-1419.info'\n",
            "Traceback (most recent call last):\n",
            "  File \"/usr/local/lib/python3.6/dist-packages/tensorboard/manager.py\", line 316, in get_all\n",
            "    info = _info_from_string(contents)\n",
            "  File \"/usr/local/lib/python3.6/dist-packages/tensorboard/manager.py\", line 155, in _info_from_string\n",
            "    raise ValueError(\"incompatible version: %r\" % (json_value,))\n",
            "ValueError: incompatible version: {'cache_key': 'eyJhcmd1bWVudHMiOlsiLS1sb2dkaXIiLCJsb2dzIl0sImNvbmZpZ3VyZV9rd2FyZ3MiOnt9LCJ3b3JraW5nX2RpcmVjdG9yeSI6Ii9jb250ZW50In0=', 'db': '', 'logdir': 'logs', 'path_prefix': '', 'pid': 1419, 'port': 6007, 'start_time': 1563081011, 'version': '1.15.0a20190713'}\n",
            "W0714 05:11:06.942919 140554220246912 manager.py:321] invalid info file: '/tmp/.tensorboard-info/pid-1369.info'\n",
            "Traceback (most recent call last):\n",
            "  File \"/usr/local/lib/python3.6/dist-packages/tensorboard/manager.py\", line 316, in get_all\n",
            "    info = _info_from_string(contents)\n",
            "  File \"/usr/local/lib/python3.6/dist-packages/tensorboard/manager.py\", line 155, in _info_from_string\n",
            "    raise ValueError(\"incompatible version: %r\" % (json_value,))\n",
            "ValueError: incompatible version: {'cache_key': 'eyJhcmd1bWVudHMiOlsiLS1sb2dkaXIiLCJsb2dzIl0sImNvbmZpZ3VyZV9rd2FyZ3MiOnt9LCJ3b3JraW5nX2RpcmVjdG9yeSI6Ii9jb250ZW50In0=', 'db': '', 'logdir': 'logs', 'path_prefix': '', 'pid': 1369, 'port': 6006, 'start_time': 1563080809, 'version': '1.15.0a20190713'}\n",
            "W0714 05:11:07.445421 140554220246912 manager.py:321] invalid info file: '/tmp/.tensorboard-info/pid-1419.info'\n",
            "Traceback (most recent call last):\n",
            "  File \"/usr/local/lib/python3.6/dist-packages/tensorboard/manager.py\", line 316, in get_all\n",
            "    info = _info_from_string(contents)\n",
            "  File \"/usr/local/lib/python3.6/dist-packages/tensorboard/manager.py\", line 155, in _info_from_string\n",
            "    raise ValueError(\"incompatible version: %r\" % (json_value,))\n",
            "ValueError: incompatible version: {'cache_key': 'eyJhcmd1bWVudHMiOlsiLS1sb2dkaXIiLCJsb2dzIl0sImNvbmZpZ3VyZV9rd2FyZ3MiOnt9LCJ3b3JraW5nX2RpcmVjdG9yeSI6Ii9jb250ZW50In0=', 'db': '', 'logdir': 'logs', 'path_prefix': '', 'pid': 1419, 'port': 6007, 'start_time': 1563081011, 'version': '1.15.0a20190713'}\n",
            "W0714 05:11:07.447556 140554220246912 manager.py:321] invalid info file: '/tmp/.tensorboard-info/pid-1369.info'\n",
            "Traceback (most recent call last):\n",
            "  File \"/usr/local/lib/python3.6/dist-packages/tensorboard/manager.py\", line 316, in get_all\n",
            "    info = _info_from_string(contents)\n",
            "  File \"/usr/local/lib/python3.6/dist-packages/tensorboard/manager.py\", line 155, in _info_from_string\n",
            "    raise ValueError(\"incompatible version: %r\" % (json_value,))\n",
            "ValueError: incompatible version: {'cache_key': 'eyJhcmd1bWVudHMiOlsiLS1sb2dkaXIiLCJsb2dzIl0sImNvbmZpZ3VyZV9rd2FyZ3MiOnt9LCJ3b3JraW5nX2RpcmVjdG9yeSI6Ii9jb250ZW50In0=', 'db': '', 'logdir': 'logs', 'path_prefix': '', 'pid': 1369, 'port': 6006, 'start_time': 1563080809, 'version': '1.15.0a20190713'}\n",
            "W0714 05:11:07.950027 140554220246912 manager.py:321] invalid info file: '/tmp/.tensorboard-info/pid-1419.info'\n",
            "Traceback (most recent call last):\n",
            "  File \"/usr/local/lib/python3.6/dist-packages/tensorboard/manager.py\", line 316, in get_all\n",
            "    info = _info_from_string(contents)\n",
            "  File \"/usr/local/lib/python3.6/dist-packages/tensorboard/manager.py\", line 155, in _info_from_string\n",
            "    raise ValueError(\"incompatible version: %r\" % (json_value,))\n",
            "ValueError: incompatible version: {'cache_key': 'eyJhcmd1bWVudHMiOlsiLS1sb2dkaXIiLCJsb2dzIl0sImNvbmZpZ3VyZV9rd2FyZ3MiOnt9LCJ3b3JraW5nX2RpcmVjdG9yeSI6Ii9jb250ZW50In0=', 'db': '', 'logdir': 'logs', 'path_prefix': '', 'pid': 1419, 'port': 6007, 'start_time': 1563081011, 'version': '1.15.0a20190713'}\n",
            "W0714 05:11:07.952432 140554220246912 manager.py:321] invalid info file: '/tmp/.tensorboard-info/pid-1369.info'\n",
            "Traceback (most recent call last):\n",
            "  File \"/usr/local/lib/python3.6/dist-packages/tensorboard/manager.py\", line 316, in get_all\n",
            "    info = _info_from_string(contents)\n",
            "  File \"/usr/local/lib/python3.6/dist-packages/tensorboard/manager.py\", line 155, in _info_from_string\n",
            "    raise ValueError(\"incompatible version: %r\" % (json_value,))\n",
            "ValueError: incompatible version: {'cache_key': 'eyJhcmd1bWVudHMiOlsiLS1sb2dkaXIiLCJsb2dzIl0sImNvbmZpZ3VyZV9rd2FyZ3MiOnt9LCJ3b3JraW5nX2RpcmVjdG9yeSI6Ii9jb250ZW50In0=', 'db': '', 'logdir': 'logs', 'path_prefix': '', 'pid': 1369, 'port': 6006, 'start_time': 1563080809, 'version': '1.15.0a20190713'}\n",
            "W0714 05:11:08.455032 140554220246912 manager.py:321] invalid info file: '/tmp/.tensorboard-info/pid-1419.info'\n",
            "Traceback (most recent call last):\n",
            "  File \"/usr/local/lib/python3.6/dist-packages/tensorboard/manager.py\", line 316, in get_all\n",
            "    info = _info_from_string(contents)\n",
            "  File \"/usr/local/lib/python3.6/dist-packages/tensorboard/manager.py\", line 155, in _info_from_string\n",
            "    raise ValueError(\"incompatible version: %r\" % (json_value,))\n",
            "ValueError: incompatible version: {'cache_key': 'eyJhcmd1bWVudHMiOlsiLS1sb2dkaXIiLCJsb2dzIl0sImNvbmZpZ3VyZV9rd2FyZ3MiOnt9LCJ3b3JraW5nX2RpcmVjdG9yeSI6Ii9jb250ZW50In0=', 'db': '', 'logdir': 'logs', 'path_prefix': '', 'pid': 1419, 'port': 6007, 'start_time': 1563081011, 'version': '1.15.0a20190713'}\n",
            "W0714 05:11:08.457031 140554220246912 manager.py:321] invalid info file: '/tmp/.tensorboard-info/pid-1369.info'\n",
            "Traceback (most recent call last):\n",
            "  File \"/usr/local/lib/python3.6/dist-packages/tensorboard/manager.py\", line 316, in get_all\n",
            "    info = _info_from_string(contents)\n",
            "  File \"/usr/local/lib/python3.6/dist-packages/tensorboard/manager.py\", line 155, in _info_from_string\n",
            "    raise ValueError(\"incompatible version: %r\" % (json_value,))\n",
            "ValueError: incompatible version: {'cache_key': 'eyJhcmd1bWVudHMiOlsiLS1sb2dkaXIiLCJsb2dzIl0sImNvbmZpZ3VyZV9rd2FyZ3MiOnt9LCJ3b3JraW5nX2RpcmVjdG9yeSI6Ii9jb250ZW50In0=', 'db': '', 'logdir': 'logs', 'path_prefix': '', 'pid': 1369, 'port': 6006, 'start_time': 1563080809, 'version': '1.15.0a20190713'}\n",
            "W0714 05:11:08.959671 140554220246912 manager.py:321] invalid info file: '/tmp/.tensorboard-info/pid-1419.info'\n",
            "Traceback (most recent call last):\n",
            "  File \"/usr/local/lib/python3.6/dist-packages/tensorboard/manager.py\", line 316, in get_all\n",
            "    info = _info_from_string(contents)\n",
            "  File \"/usr/local/lib/python3.6/dist-packages/tensorboard/manager.py\", line 155, in _info_from_string\n",
            "    raise ValueError(\"incompatible version: %r\" % (json_value,))\n",
            "ValueError: incompatible version: {'cache_key': 'eyJhcmd1bWVudHMiOlsiLS1sb2dkaXIiLCJsb2dzIl0sImNvbmZpZ3VyZV9rd2FyZ3MiOnt9LCJ3b3JraW5nX2RpcmVjdG9yeSI6Ii9jb250ZW50In0=', 'db': '', 'logdir': 'logs', 'path_prefix': '', 'pid': 1419, 'port': 6007, 'start_time': 1563081011, 'version': '1.15.0a20190713'}\n",
            "W0714 05:11:08.961888 140554220246912 manager.py:321] invalid info file: '/tmp/.tensorboard-info/pid-1369.info'\n",
            "Traceback (most recent call last):\n",
            "  File \"/usr/local/lib/python3.6/dist-packages/tensorboard/manager.py\", line 316, in get_all\n",
            "    info = _info_from_string(contents)\n",
            "  File \"/usr/local/lib/python3.6/dist-packages/tensorboard/manager.py\", line 155, in _info_from_string\n",
            "    raise ValueError(\"incompatible version: %r\" % (json_value,))\n",
            "ValueError: incompatible version: {'cache_key': 'eyJhcmd1bWVudHMiOlsiLS1sb2dkaXIiLCJsb2dzIl0sImNvbmZpZ3VyZV9rd2FyZ3MiOnt9LCJ3b3JraW5nX2RpcmVjdG9yeSI6Ii9jb250ZW50In0=', 'db': '', 'logdir': 'logs', 'path_prefix': '', 'pid': 1369, 'port': 6006, 'start_time': 1563080809, 'version': '1.15.0a20190713'}\n"
          ],
          "name": "stderr"
        }
      ]
    },
    {
      "cell_type": "code",
      "metadata": {
        "id": "Yq-21BJv11xA",
        "colab_type": "code",
        "colab": {}
      },
      "source": [
        "\n",
        "  for i in range(20):\n",
        "    \n",
        "    # Activations from generated image required for both the content and style costs \n",
        "#     model_outputs = model(image)\n",
        "#     print(\"can i make it\")\n",
        "#     generated_c_outputs = [layer[0] for layer in model_outputs[:len(CONTENT_LAYERS)]]\n",
        "#     generated_s_outputs = [layer[0] for layer in model_outputs[len(CONTENT_LAYERS):]]\n",
        "#     print(\"this far\") \n",
        "    \n",
        "#     generated_c_activations_tensor_dict = {}\n",
        "#     generated_s_activations_array_dict = {}\n",
        "\n",
        "#     if len(CONTENT_LAYERS) == 1:\n",
        "#       print(CONTENT_LAYERS[0])\n",
        "#      # print(activations[0].eval().shape)\n",
        "#       generated_c_activations_tensor_dict[CONTENT_LAYERS[0]] = generated_c_outputs[0]\n",
        "#       print(\"ok ok ok\")\n",
        "#       generated_s_activations_array_dict[CONTENT_LAYERS[0]] = generated_c_outputs[0].eval()\n",
        "#       print(\"for reals\")\n",
        "#     else:\n",
        "#       for name, output in zip(CONTENT_LAYERS, generated_c_outputs):\n",
        "#         print(name)\n",
        "#      #   print(output.eval().shape)\n",
        "#         generated_c_activations_tensor_dict[name] = output\n",
        "#         generated_s_activations_array_dict[name] = output.eval()\n",
        "  \n",
        "#     generated_c_activations_tensor_dict, generated_c_activations_array_dict = get_activations_dictionary(CONTENT_LAYERS,generated_c_outputs)\n",
        "#     generated_s_activations_tensor_dict, generated_s_activations_array_dict = get_activations_dictionary(STYLE_LAYERS,generated_s_outputs)\n",
        "#     print(\"mADE IT\")\n",
        "    \n",
        "    optimizer = tf.train.AdamOptimizer(2.0)\n",
        "    if i == 0:\n",
        "      generated = image\n",
        "    print(\"n1\")\n",
        "    model_outputs = model(generated)\n",
        "    \n",
        "    generated_c_outputs = [layer[0] for layer in model_outputs[:len(CONTENT_LAYERS)]]\n",
        "    generated_s_outputs = [layer[0] for layer in model_outputs[len(CONTENT_LAYERS):]]\n",
        "    generated_c_activations_tensor_dict, generated_c_activations_array_dict = get_activations_dictionary(CONTENT_LAYERS,generated_c_outputs)\n",
        "    generated_s_activations_tensor_dict, generated_s_activations_array_dict = get_activations_dictionary(STYLE_LAYERS,generated_s_outputs)\n",
        "\n",
        "\n",
        "    J_content = content_cost(content_activations_tensor_dict['block5_conv2'],generated_c_activations_tensor_dict['block5_conv2'])\n",
        "    J_style = style_cost(style_activations_tensor_dict,generated_s_activations_tensor_dict,STYLE_LAYERS)\n",
        "    J_total = total_cost(J_content, J_style)\n",
        "    \n",
        "    train_step = optimizer.minimize(J_total)\n",
        "    \n",
        "    gen = model.input\n",
        "    print(gen)\n",
        "    if i == 0:\n",
        "      generated =  sess.run(gen, feed_dict={\"input_1:0\": image.eval()})\n",
        "    else:\n",
        "      print(\"n2\")\n",
        "      generated =  sess.run(gen, feed_dict={\"input_1:0\": generated})\n",
        "#     with tf.GradientTape() as tape:\n",
        "#       model_outputs = model(image)\n",
        "#       generated_c_outputs = [layer[0] for layer in model_outputs[:len(CONTENT_LAYERS)]]\n",
        "#       generated_s_outputs = [layer[0] for layer in model_outputs[len(CONTENT_LAYERS):]]\n",
        "#       generated_c_activations_tensor_dict, generated_c_activations_array_dict = get_activations_dictionary(CONTENT_LAYERS,generated_c_outputs)\n",
        "#       generated_s_activations_tensor_dict, generated_s_activations_array_dict = get_activations_dictionary(STYLE_LAYERS,generated_s_outputs)\n",
        "\n",
        "      \n",
        "#       J_content = content_cost(content_activations_tensor_dict['block5_conv2'],generated_c_activations_tensor_dict['block5_conv2'])\n",
        "#       J_style = style_cost(style_activations_tensor_dict,generated_s_activations_tensor_dict,STYLE_LAYERS)\n",
        "#       J_total = total_cost(J_content, J_style)\n",
        "\n",
        "#     grad = tape.gradient(J_total, image)\n",
        "#     print(J_total.eval())\n",
        "#     print(image)\n",
        "#     print(grad)\n",
        "#     optimizer.apply_gradients([(grad, image)])\n",
        "#     image.assign(clip_0_1(image))\n",
        "\n",
        "    # Compute the generated image by running the session on the current model['input']\n",
        "  #  generated_image = VGG19_model.input\n",
        "  #  print(generated_image)\n",
        "\n",
        "\n",
        "#     # Print every 20 iteration.\n",
        "#     if i%20 == 0:\n",
        "#         Jt, Jc, Js = sess.run([J, J_content, J_style])\n",
        "#         print(\"Iteration \" + str(i) + \" :\")\n",
        "#         print(\"total cost = \" + str(Jt))\n",
        "#         print(\"content cost = \" + str(Jc))\n",
        "#         print(\"style cost = \" + str(Js))\n",
        "\n",
        "#         # save current generated image in the \"/output\" directory\n",
        "#         save_image(\"output/\" + str(i) + \".png\", generated_image)\n",
        "\n",
        "  # save last generated image\n",
        "#   generated =  sess.run(gen, feed_dict={\"input_1:0\": image.eval()})\n",
        "  print(generated)\n",
        "  output_and_save_image(generated, \"/content/\",\"gen_image_2\")\n",
        "#   save_image('output/generated_image_2.jpg', generated_image)"
      ],
      "execution_count": 0,
      "outputs": []
    },
    {
      "cell_type": "code",
      "metadata": {
        "id": "rFpp1N2s2cqu",
        "colab_type": "code",
        "outputId": "68e683a8-acc1-480f-e98e-74572c915e1a",
        "colab": {
          "base_uri": "https://localhost:8080/",
          "height": 1000
        }
      },
      "source": [
        "# Reset the graph\n",
        "tf.reset_default_graph()\n",
        "\n",
        "# Start an interactive session\n",
        "sess = tf.InteractiveSession()\n",
        "with sess.as_default():\n",
        "  \n",
        "  # Load our model which uses the pretrained VGG19, trained on imagenet data\n",
        "  # and only outputs the activations for the provided content and style layers\n",
        "  model = define_model(CONTENT_LAYERS, STYLE_LAYERS)\n",
        "  \n",
        "  # Activations from style image required to calculate Style Cost\n",
        "  style_c_outputs, style_s_outputs = get_activations(model, style_images_dict['image3'], CONTENT_LAYERS, STYLE_LAYERS)\n",
        "  style_activations_tensor_dict, style_activations_array_dict = get_activations_dictionary(STYLE_LAYERS, style_s_outputs)\n",
        "  \n",
        "  # Activations from content image required to calculate Content Cost\n",
        "  content_c_outputs, content_s_outputs = get_activations(model, content_images_dict['image6'], CONTENT_LAYERS, STYLE_LAYERS)\n",
        "  content_activations_tensor_dict, content_activations_array_dict = get_activations_dictionary(CONTENT_LAYERS,content_c_outputs)\n",
        "  \n",
        "  # Create initial generated image  \n",
        "  image = tf.get_variable(\"image\",initializer=tf.convert_to_tensor(generated_images_dict['image6'], dtype=tf.float32))\n",
        "  image = image.initialized_value()\n",
        "  \n",
        "  for i in range(20):\n",
        "    \n",
        "    # Activations from generated image required for both the content and style costs \n",
        "#     model_outputs = model(image)\n",
        "#     print(\"can i make it\")\n",
        "#     generated_c_outputs = [layer[0] for layer in model_outputs[:len(CONTENT_LAYERS)]]\n",
        "#     generated_s_outputs = [layer[0] for layer in model_outputs[len(CONTENT_LAYERS):]]\n",
        "#     print(\"this far\") \n",
        "    \n",
        "#     generated_c_activations_tensor_dict = {}\n",
        "#     generated_s_activations_array_dict = {}\n",
        "\n",
        "#     if len(CONTENT_LAYERS) == 1:\n",
        "#       print(CONTENT_LAYERS[0])\n",
        "#      # print(activations[0].eval().shape)\n",
        "#       generated_c_activations_tensor_dict[CONTENT_LAYERS[0]] = generated_c_outputs[0]\n",
        "#       print(\"ok ok ok\")\n",
        "#       generated_s_activations_array_dict[CONTENT_LAYERS[0]] = generated_c_outputs[0].eval()\n",
        "#       print(\"for reals\")\n",
        "#     else:\n",
        "#       for name, output in zip(CONTENT_LAYERS, generated_c_outputs):\n",
        "#         print(name)\n",
        "#      #   print(output.eval().shape)\n",
        "#         generated_c_activations_tensor_dict[name] = output\n",
        "#         generated_s_activations_array_dict[name] = output.eval()\n",
        "  \n",
        "#     generated_c_activations_tensor_dict, generated_c_activations_array_dict = get_activations_dictionary(CONTENT_LAYERS,generated_c_outputs)\n",
        "#     generated_s_activations_tensor_dict, generated_s_activations_array_dict = get_activations_dictionary(STYLE_LAYERS,generated_s_outputs)\n",
        "#     print(\"mADE IT\")\n",
        "    \n",
        "    optimizer = tf.train.AdamOptimizer(2.0)\n",
        "    if i == 0:\n",
        "      generated = image\n",
        "    print(\"n1\")\n",
        "    model_outputs = model(generated)\n",
        "    \n",
        "    generated_c_outputs = [layer[0] for layer in model_outputs[:len(CONTENT_LAYERS)]]\n",
        "    generated_s_outputs = [layer[0] for layer in model_outputs[len(CONTENT_LAYERS):]]\n",
        "    generated_c_activations_tensor_dict, generated_c_activations_array_dict = get_activations_dictionary(CONTENT_LAYERS,generated_c_outputs)\n",
        "    generated_s_activations_tensor_dict, generated_s_activations_array_dict = get_activations_dictionary(STYLE_LAYERS,generated_s_outputs)\n",
        "\n",
        "\n",
        "    J_content = content_cost(content_activations_tensor_dict['block5_conv2'],generated_c_activations_tensor_dict['block5_conv2'])\n",
        "    J_style = style_cost(style_activations_tensor_dict,generated_s_activations_tensor_dict,STYLE_LAYERS)\n",
        "    J_total = total_cost(J_content, J_style)\n",
        "    \n",
        "    train_step = optimizer.minimize(J_total)\n",
        "    \n",
        "    gen = model.input\n",
        "    print(gen)\n",
        "    if i == 0:\n",
        "      generated =  sess.run(gen, feed_dict={\"input_1:0\": image.eval()})\n",
        "    else:\n",
        "      print(\"n2\")\n",
        "      generated =  sess.run(gen, feed_dict={\"input_1:0\": generated})\n",
        "#     with tf.GradientTape() as tape:\n",
        "#       model_outputs = model(image)\n",
        "#       generated_c_outputs = [layer[0] for layer in model_outputs[:len(CONTENT_LAYERS)]]\n",
        "#       generated_s_outputs = [layer[0] for layer in model_outputs[len(CONTENT_LAYERS):]]\n",
        "#       generated_c_activations_tensor_dict, generated_c_activations_array_dict = get_activations_dictionary(CONTENT_LAYERS,generated_c_outputs)\n",
        "#       generated_s_activations_tensor_dict, generated_s_activations_array_dict = get_activations_dictionary(STYLE_LAYERS,generated_s_outputs)\n",
        "\n",
        "      \n",
        "#       J_content = content_cost(content_activations_tensor_dict['block5_conv2'],generated_c_activations_tensor_dict['block5_conv2'])\n",
        "#       J_style = style_cost(style_activations_tensor_dict,generated_s_activations_tensor_dict,STYLE_LAYERS)\n",
        "#       J_total = total_cost(J_content, J_style)\n",
        "\n",
        "#     grad = tape.gradient(J_total, image)\n",
        "#     print(J_total.eval())\n",
        "#     print(image)\n",
        "#     print(grad)\n",
        "#     optimizer.apply_gradients([(grad, image)])\n",
        "#     image.assign(clip_0_1(image))\n",
        "\n",
        "    # Compute the generated image by running the session on the current model['input']\n",
        "  #  generated_image = VGG19_model.input\n",
        "  #  print(generated_image)\n",
        "\n",
        "\n",
        "#     # Print every 20 iteration.\n",
        "#     if i%20 == 0:\n",
        "#         Jt, Jc, Js = sess.run([J, J_content, J_style])\n",
        "#         print(\"Iteration \" + str(i) + \" :\")\n",
        "#         print(\"total cost = \" + str(Jt))\n",
        "#         print(\"content cost = \" + str(Jc))\n",
        "#         print(\"style cost = \" + str(Js))\n",
        "\n",
        "#         # save current generated image in the \"/output\" directory\n",
        "#         save_image(\"output/\" + str(i) + \".png\", generated_image)\n",
        "\n",
        "  # save last generated image\n",
        "#   generated =  sess.run(gen, feed_dict={\"input_1:0\": image.eval()})\n",
        "  print(generated)\n",
        "  output_and_save_image(generated, \"/content/\",\"gen_image_2\")\n",
        "#   save_image('output/generated_image_2.jpg', generated_image)"
      ],
      "execution_count": 0,
      "outputs": [
        {
          "output_type": "stream",
          "text": [
            "n1\n",
            "Tensor(\"input_1:0\", shape=(?, 300, 400, 3), dtype=float32)\n",
            "n1\n",
            "Tensor(\"input_1:0\", shape=(?, 300, 400, 3), dtype=float32)\n",
            "n2\n",
            "n1\n",
            "Tensor(\"input_1:0\", shape=(?, 300, 400, 3), dtype=float32)\n",
            "n2\n",
            "n1\n",
            "Tensor(\"input_1:0\", shape=(?, 300, 400, 3), dtype=float32)\n",
            "n2\n",
            "n1\n",
            "Tensor(\"input_1:0\", shape=(?, 300, 400, 3), dtype=float32)\n",
            "n2\n",
            "n1\n",
            "Tensor(\"input_1:0\", shape=(?, 300, 400, 3), dtype=float32)\n",
            "n2\n",
            "n1\n",
            "Tensor(\"input_1:0\", shape=(?, 300, 400, 3), dtype=float32)\n",
            "n2\n",
            "n1\n",
            "Tensor(\"input_1:0\", shape=(?, 300, 400, 3), dtype=float32)\n",
            "n2\n",
            "n1\n",
            "Tensor(\"input_1:0\", shape=(?, 300, 400, 3), dtype=float32)\n",
            "n2\n",
            "n1\n",
            "Tensor(\"input_1:0\", shape=(?, 300, 400, 3), dtype=float32)\n",
            "n2\n",
            "n1\n",
            "Tensor(\"input_1:0\", shape=(?, 300, 400, 3), dtype=float32)\n",
            "n2\n",
            "n1\n",
            "Tensor(\"input_1:0\", shape=(?, 300, 400, 3), dtype=float32)\n",
            "n2\n",
            "n1\n",
            "Tensor(\"input_1:0\", shape=(?, 300, 400, 3), dtype=float32)\n",
            "n2\n",
            "n1\n",
            "Tensor(\"input_1:0\", shape=(?, 300, 400, 3), dtype=float32)\n",
            "n2\n",
            "n1\n",
            "Tensor(\"input_1:0\", shape=(?, 300, 400, 3), dtype=float32)\n",
            "n2\n",
            "n1\n",
            "Tensor(\"input_1:0\", shape=(?, 300, 400, 3), dtype=float32)\n",
            "n2\n",
            "n1\n",
            "Tensor(\"input_1:0\", shape=(?, 300, 400, 3), dtype=float32)\n",
            "n2\n",
            "n1\n",
            "Tensor(\"input_1:0\", shape=(?, 300, 400, 3), dtype=float32)\n",
            "n2\n",
            "n1\n",
            "Tensor(\"input_1:0\", shape=(?, 300, 400, 3), dtype=float32)\n",
            "n2\n",
            "n1\n",
            "Tensor(\"input_1:0\", shape=(?, 300, 400, 3), dtype=float32)\n",
            "n2\n",
            "[[[[ 53.414177    31.662857     5.6492853 ]\n",
            "   [ 48.20848     31.586712    -7.3911715 ]\n",
            "   [ 64.583496    25.877153     7.7907286 ]\n",
            "   ...\n",
            "   [ 22.964308     8.175133   -12.717764  ]\n",
            "   [ 20.633165     7.415166   -26.389336  ]\n",
            "   [ 34.40001    -12.112714   -18.721376  ]]\n",
            "\n",
            "  [[ 63.950237    21.589214    -2.8439624 ]\n",
            "   [ 58.58508     28.701141    -7.6206274 ]\n",
            "   [ 46.337772    24.490099    12.72082   ]\n",
            "   ...\n",
            "   [ 34.655064     9.931033   -11.944413  ]\n",
            "   [ 39.586716    -3.445426   -18.167957  ]\n",
            "   [ 28.865448     1.0734951  -10.91773   ]]\n",
            "\n",
            "  [[ 46.7017      20.204868     8.625299  ]\n",
            "   [ 53.787895    31.302185     3.8629246 ]\n",
            "   [ 67.587234    19.005041     5.2781324 ]\n",
            "   ...\n",
            "   [ 35.541756    10.832677   -18.359474  ]\n",
            "   [ 42.97002     10.772025   -24.596132  ]\n",
            "   [ 28.33329     10.814323   -22.265785  ]]\n",
            "\n",
            "  ...\n",
            "\n",
            "  [[ -3.8044658  -26.390293   -40.506645  ]\n",
            "   [ -8.363644   -23.90714    -31.43216   ]\n",
            "   [ -3.232188   -27.083595   -27.27616   ]\n",
            "   ...\n",
            "   [  0.40474606 -23.93444    -50.022408  ]\n",
            "   [ -6.319761   -16.991594   -42.184704  ]\n",
            "   [ -2.6088128  -29.87541    -32.015312  ]]\n",
            "\n",
            "  [[ -9.41009    -34.646088   -35.12706   ]\n",
            "   [ -3.3011231  -21.489819   -30.035381  ]\n",
            "   [  0.98359233 -32.033726   -32.79304   ]\n",
            "   ...\n",
            "   [ -4.3940163  -33.651978   -36.05707   ]\n",
            "   [  0.23421097 -38.412537   -31.197115  ]\n",
            "   [ -7.6166663  -37.6868     -27.730484  ]]\n",
            "\n",
            "  [[  1.8922205  -26.844633   -30.611681  ]\n",
            "   [ -8.444987   -10.750609   -41.393723  ]\n",
            "   [  9.885266   -17.79356    -32.842346  ]\n",
            "   ...\n",
            "   [-14.02826    -24.887278   -31.50267   ]\n",
            "   [-11.906439   -23.443996   -33.66185   ]\n",
            "   [ -6.860454   -22.290148   -40.047535  ]]]]\n"
          ],
          "name": "stdout"
        }
      ]
    },
    {
      "cell_type": "code",
      "metadata": {
        "id": "kXlR6Pu26Lzi",
        "colab_type": "code",
        "outputId": "2e3e39c6-8380-4d06-a8a7-79427b802e9b",
        "colab": {
          "base_uri": "https://localhost:8080/",
          "height": 34
        }
      },
      "source": [
        "dict_test={'block1_conv1':5,\n",
        "            'block2_conv1':6,\n",
        "            'block3_conv1':7, \n",
        "            'block4_conv1':899, \n",
        "            'block5_conv1':-22,\n",
        "           'block5_conv2':778       \n",
        "}\n",
        "dict_test2 = {k: dict_test[k] for k in STYLE_LAYERS}\n",
        "\n",
        "GENERATED_LAYERS = list(set().union(STYLE_LAYERS,CONTENT_LAYERS))\n",
        "GENERATED_LAYERS.sort()\n",
        "\n",
        "print(Total_Layers)"
      ],
      "execution_count": 0,
      "outputs": [
        {
          "output_type": "stream",
          "text": [
            "['block1_conv1', 'block2_conv1', 'block3_conv1', 'block4_conv1', 'block5_conv1', 'block5_conv2']\n"
          ],
          "name": "stdout"
        }
      ]
    },
    {
      "cell_type": "code",
      "metadata": {
        "id": "HKzqad124dEN",
        "colab_type": "code",
        "outputId": "720c1259-f9e4-45cc-c621-9dfde7bba9ca",
        "colab": {
          "base_uri": "https://localhost:8080/",
          "height": 34
        }
      },
      "source": [
        "generated_layers = STYLE_LAYERS + CONTENT_LAYERS\n",
        "print(generated_layers)"
      ],
      "execution_count": 0,
      "outputs": [
        {
          "output_type": "stream",
          "text": [
            "['block1_conv1', 'block2_conv1', 'block3_conv1', 'block4_conv1', 'block5_conv1', 'block5_conv2']\n"
          ],
          "name": "stdout"
        }
      ]
    },
    {
      "cell_type": "markdown",
      "metadata": {
        "id": "SdIqE8XGefge",
        "colab_type": "text"
      },
      "source": [
        "To DO:\n",
        "1. Get content and style activations by running the content and style images through the model (google)\n",
        "2. Iterate pver number of iterations for genreated image, with each iteration running the generated image through the model and changing the generated image"
      ]
    },
    {
      "cell_type": "markdown",
      "metadata": {
        "id": "SZAbmGYQ_FuZ",
        "colab_type": "text"
      },
      "source": [
        "# Create Graph to Optimize the Cost Function"
      ]
    },
    {
      "cell_type": "code",
      "metadata": {
        "id": "hzseRxr4_Mis",
        "colab_type": "code",
        "colab": {}
      },
      "source": [
        ""
      ],
      "execution_count": 0,
      "outputs": []
    },
    {
      "cell_type": "code",
      "metadata": {
        "id": "cGaFukX_rM8i",
        "colab_type": "code",
        "colab": {}
      },
      "source": [
        ""
      ],
      "execution_count": 0,
      "outputs": []
    },
    {
      "cell_type": "markdown",
      "metadata": {
        "id": "youVHPYYqxd5",
        "colab_type": "text"
      },
      "source": [
        "Maybe use the following to help define the loss functions with tensorflow. At least I can use these to understand how tensorflow works and then do it myself:\n",
        "* Siraj's tutorial: https://github.com/llSourcell/How_to_do_style_transfer_in_tensorflow/blob/master/Style_Transfer.ipynb\n",
        "* The VGG16.py folder he imports which gives him a lot of useful functions and the VGG16 class: https://github.com/Hvass-Labs/TensorFlow-Tutorials/blob/master/vgg16.py\n"
      ]
    },
    {
      "cell_type": "code",
      "metadata": {
        "id": "KzFf-CDFgIc8",
        "colab_type": "code",
        "colab": {}
      },
      "source": [
        "class StyleContentModel(tf.keras.models.Model):\n",
        "  def __init__(self, style_layers, content_layers):\n",
        "    super(StyleContentModel, self).__init__()\n",
        "    self.vgg =  vgg_layers(style_layers + content_layers)\n",
        "    self.style_layers = style_layers\n",
        "    self.content_layers = content_layers\n",
        "    self.num_style_layers = len(style_layers)\n",
        "    self.vgg.trainable = False\n",
        "\n",
        "  def call(self, inputs):\n",
        "    \"Expects float input in [0,1]\"\n",
        "    inputs = inputs*255.0\n",
        "    preprocessed_input = tf.keras.applications.vgg19.preprocess_input(inputs)\n",
        "    outputs = self.vgg(preprocessed_input)\n",
        "    style_outputs, content_outputs = (outputs[:self.num_style_layers], \n",
        "                                      outputs[self.num_style_layers:])\n",
        "\n",
        "    style_outputs = [gram_matrix(style_output)\n",
        "                     for style_output in style_outputs]\n",
        "\n",
        "    content_dict = {content_name:value \n",
        "                    for content_name, value \n",
        "                    in zip(self.content_layers, content_outputs)}\n",
        "\n",
        "    style_dict = {style_name:value\n",
        "                  for style_name, value\n",
        "                  in zip(self.style_layers, style_outputs)}\n",
        "    \n",
        "    return {'content':content_dict, 'style':style_dict}"
      ],
      "execution_count": 0,
      "outputs": []
    },
    {
      "cell_type": "code",
      "metadata": {
        "id": "MbSC1Mqrn8ui",
        "colab_type": "code",
        "outputId": "b78feb52-4103-4a8c-f815-e2367f116e48",
        "colab": {
          "base_uri": "https://localhost:8080/",
          "height": 178
        }
      },
      "source": [
        "from keras.utils.vis_utils import plot_model\n",
        "plot_model(VGG19_model, to_file='vgg.png')"
      ],
      "execution_count": 0,
      "outputs": [
        {
          "output_type": "error",
          "ename": "NameError",
          "evalue": "ignored",
          "traceback": [
            "\u001b[0;31m---------------------------------------------------------------------------\u001b[0m",
            "\u001b[0;31mNameError\u001b[0m                                 Traceback (most recent call last)",
            "\u001b[0;32m<ipython-input-63-0679997845dd>\u001b[0m in \u001b[0;36m<module>\u001b[0;34m()\u001b[0m\n\u001b[1;32m      1\u001b[0m \u001b[0;32mfrom\u001b[0m \u001b[0mkeras\u001b[0m\u001b[0;34m.\u001b[0m\u001b[0mutils\u001b[0m\u001b[0;34m.\u001b[0m\u001b[0mvis_utils\u001b[0m \u001b[0;32mimport\u001b[0m \u001b[0mplot_model\u001b[0m\u001b[0;34m\u001b[0m\u001b[0;34m\u001b[0m\u001b[0m\n\u001b[0;32m----> 2\u001b[0;31m \u001b[0mplot_model\u001b[0m\u001b[0;34m(\u001b[0m\u001b[0mVGG19_model\u001b[0m\u001b[0;34m,\u001b[0m \u001b[0mto_file\u001b[0m\u001b[0;34m=\u001b[0m\u001b[0;34m'vgg.png'\u001b[0m\u001b[0;34m)\u001b[0m\u001b[0;34m\u001b[0m\u001b[0;34m\u001b[0m\u001b[0m\n\u001b[0m",
            "\u001b[0;31mNameError\u001b[0m: name 'VGG19_model' is not defined"
          ]
        }
      ]
    },
    {
      "cell_type": "code",
      "metadata": {
        "id": "iVwHl5N6tyts",
        "colab_type": "code",
        "outputId": "e803cb59-86be-4927-90f5-80db8fe8c492",
        "colab": {
          "base_uri": "https://localhost:8080/",
          "height": 907
        }
      },
      "source": [
        "VGG19_model = tf.keras.applications.VGG19(include_top=False, weights='imagenet', input_shape=(400,300,3))\n",
        "print(VGG19_model.summary())"
      ],
      "execution_count": 0,
      "outputs": [
        {
          "output_type": "stream",
          "text": [
            "Model: \"vgg19\"\n",
            "_________________________________________________________________\n",
            "Layer (type)                 Output Shape              Param #   \n",
            "=================================================================\n",
            "input_5 (InputLayer)         [(None, 400, 300, 3)]     0         \n",
            "_________________________________________________________________\n",
            "block1_conv1 (Conv2D)        (None, 400, 300, 64)      1792      \n",
            "_________________________________________________________________\n",
            "block1_conv2 (Conv2D)        (None, 400, 300, 64)      36928     \n",
            "_________________________________________________________________\n",
            "block1_pool (MaxPooling2D)   (None, 200, 150, 64)      0         \n",
            "_________________________________________________________________\n",
            "block2_conv1 (Conv2D)        (None, 200, 150, 128)     73856     \n",
            "_________________________________________________________________\n",
            "block2_conv2 (Conv2D)        (None, 200, 150, 128)     147584    \n",
            "_________________________________________________________________\n",
            "block2_pool (MaxPooling2D)   (None, 100, 75, 128)      0         \n",
            "_________________________________________________________________\n",
            "block3_conv1 (Conv2D)        (None, 100, 75, 256)      295168    \n",
            "_________________________________________________________________\n",
            "block3_conv2 (Conv2D)        (None, 100, 75, 256)      590080    \n",
            "_________________________________________________________________\n",
            "block3_conv3 (Conv2D)        (None, 100, 75, 256)      590080    \n",
            "_________________________________________________________________\n",
            "block3_conv4 (Conv2D)        (None, 100, 75, 256)      590080    \n",
            "_________________________________________________________________\n",
            "block3_pool (MaxPooling2D)   (None, 50, 37, 256)       0         \n",
            "_________________________________________________________________\n",
            "block4_conv1 (Conv2D)        (None, 50, 37, 512)       1180160   \n",
            "_________________________________________________________________\n",
            "block4_conv2 (Conv2D)        (None, 50, 37, 512)       2359808   \n",
            "_________________________________________________________________\n",
            "block4_conv3 (Conv2D)        (None, 50, 37, 512)       2359808   \n",
            "_________________________________________________________________\n",
            "block4_conv4 (Conv2D)        (None, 50, 37, 512)       2359808   \n",
            "_________________________________________________________________\n",
            "block4_pool (MaxPooling2D)   (None, 25, 18, 512)       0         \n",
            "_________________________________________________________________\n",
            "block5_conv1 (Conv2D)        (None, 25, 18, 512)       2359808   \n",
            "_________________________________________________________________\n",
            "block5_conv2 (Conv2D)        (None, 25, 18, 512)       2359808   \n",
            "_________________________________________________________________\n",
            "block5_conv3 (Conv2D)        (None, 25, 18, 512)       2359808   \n",
            "_________________________________________________________________\n",
            "block5_conv4 (Conv2D)        (None, 25, 18, 512)       2359808   \n",
            "_________________________________________________________________\n",
            "block5_pool (MaxPooling2D)   (None, 12, 9, 512)        0         \n",
            "=================================================================\n",
            "Total params: 20,024,384\n",
            "Trainable params: 20,024,384\n",
            "Non-trainable params: 0\n",
            "_________________________________________________________________\n",
            "None\n"
          ],
          "name": "stdout"
        }
      ]
    }
  ]
}